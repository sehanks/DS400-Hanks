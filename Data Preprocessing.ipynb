{
 "cells": [
  {
   "cell_type": "markdown",
   "id": "e83d67a6",
   "metadata": {},
   "source": [
    "# Speech Emotion Recognition - Data Preprocessing"
   ]
  },
  {
   "cell_type": "markdown",
   "id": "468fe58c",
   "metadata": {},
   "source": [
    "### Import necessary libraries"
   ]
  },
  {
   "cell_type": "code",
   "execution_count": 1,
   "id": "5c893e52",
   "metadata": {},
   "outputs": [
    {
     "name": "stderr",
     "output_type": "stream",
     "text": [
      "C:\\Users\\TestUser\\anaconda3\\lib\\site-packages\\paramiko\\transport.py:219: CryptographyDeprecationWarning: Blowfish has been deprecated\n",
      "  \"class\": algorithms.Blowfish,\n"
     ]
    }
   ],
   "source": [
    "import os\n",
    "import numpy as np\n",
    "import pandas as pd\n",
    "import matplotlib.pyplot as plt\n",
    "import seaborn as sns\n",
    "\n",
    "import IPython\n",
    "import librosa # librosa is a Python library for analyzing audio and music used to extract the data from audio files it later\n",
    "import librosa.display\n",
    "from IPython.display import Audio # to play the audio files\n",
    "plt.style.use('seaborn-white')\n",
    "from python_speech_features import mfcc\n",
    "\n",
    "from sklearn.preprocessing import StandardScaler, OneHotEncoder\n",
    "from sklearn.metrics import confusion_matrix, classification_report\n",
    "from sklearn.model_selection import train_test_split\n",
    "\n",
    "from os.path import dirname, join as pjoin\n",
    "from scipy.io import wavfile\n",
    "import scipy.io\n",
    "\n",
    "from keras.layers.normalization import layer_normalization\n",
    "from tensorflow.keras.models import Sequential\n",
    "import tensorflow as tf\n",
    "from keras.models import Sequential\n",
    "from keras.layers import Dense, Conv1D, MaxPooling1D, Flatten, Dropout, BatchNormalization\n",
    "from keras.utils import np_utils, to_categorical\n",
    "\n",
    "from sklearn.preprocessing import StandardScaler, OneHotEncoder\n",
    "from sklearn.metrics import confusion_matrix, classification_report\n",
    "from sklearn.model_selection import train_test_split"
   ]
  },
  {
   "cell_type": "markdown",
   "id": "a8e5a295",
   "metadata": {},
   "source": [
    "### Data Collection"
   ]
  },
  {
   "cell_type": "markdown",
   "id": "16e53999",
   "metadata": {},
   "source": [
    "Path of the TESS dataset."
   ]
  },
  {
   "cell_type": "code",
   "execution_count": 2,
   "id": "375df4ab",
   "metadata": {},
   "outputs": [],
   "source": [
    "Tess = 'C:/Users/TestUser/OneDrive/Documents/Data Science Capstone/Dataset/TESS Toronto emotional speech set data'"
   ]
  },
  {
   "cell_type": "markdown",
   "id": "abcb2fd7",
   "metadata": {},
   "source": [
    "Create a list of the different emotion folders from the dataset."
   ]
  },
  {
   "cell_type": "code",
   "execution_count": 3,
   "id": "e62f698f",
   "metadata": {},
   "outputs": [
    {
     "data": {
      "text/plain": [
       "['OAF_angry',\n",
       " 'OAF_disgust',\n",
       " 'OAF_Fear',\n",
       " 'OAF_happy',\n",
       " 'OAF_neutral',\n",
       " 'OAF_Pleasant_surprise',\n",
       " 'OAF_Sad',\n",
       " 'YAF_angry',\n",
       " 'YAF_disgust',\n",
       " 'YAF_fear',\n",
       " 'YAF_happy',\n",
       " 'YAF_neutral',\n",
       " 'YAF_pleasant_surprised',\n",
       " 'YAF_sad']"
      ]
     },
     "execution_count": 3,
     "metadata": {},
     "output_type": "execute_result"
    }
   ],
   "source": [
    "path = []\n",
    "\n",
    "emotion = []\n",
    "\n",
    "directory = os.listdir(Tess)\n",
    "\n",
    "directory"
   ]
  },
  {
   "cell_type": "markdown",
   "id": "733d8fff",
   "metadata": {},
   "source": [
    "For loop to go through each folder, then through each file in the folders. Then assign the proper emotion to each of the files."
   ]
  },
  {
   "cell_type": "code",
   "execution_count": 4,
   "id": "e08fe138",
   "metadata": {},
   "outputs": [],
   "source": [
    "for i in directory:\n",
    "    \n",
    "    folder = os.listdir(Tess + '/' + i)      \n",
    "    \n",
    "    for k in folder:\n",
    "        \n",
    "        if i == 'OAF_angry' or i == 'YAF_angry':\n",
    "            emotion.append('Angry')\n",
    "        elif i == 'OAF_disgust' or i == 'YAF_disgust':\n",
    "            emotion.append('Disgust')\n",
    "        elif i == 'OAF_Fear' or i == 'YAF_fear':\n",
    "            emotion.append('Fear')\n",
    "        elif i == 'OAF_happy' or i == 'YAF_happy':\n",
    "            emotion.append('Happy')\n",
    "        elif i == 'OAF_neutral' or i == 'YAF_neutral':\n",
    "            emotion.append('Neutral')                                \n",
    "        elif i == 'OAF_Pleasant_surprise' or i == 'YAF_pleasant_surprised':\n",
    "            emotion.append('Surprise')               \n",
    "        elif i == 'OAF_Sad' or i == 'YAF_sad':\n",
    "            emotion.append('Sad')\n",
    "        else:\n",
    "            emotion.append('Unknown')\n",
    "        path.append(Tess + \"/\" + i + \"/\" + k)"
   ]
  },
  {
   "cell_type": "markdown",
   "id": "30db8380",
   "metadata": {},
   "source": [
    "Create a dataframe of with each file path and its corresponding emotion."
   ]
  },
  {
   "cell_type": "code",
   "execution_count": 5,
   "id": "43b56558",
   "metadata": {},
   "outputs": [
    {
     "data": {
      "text/html": [
       "<div>\n",
       "<style scoped>\n",
       "    .dataframe tbody tr th:only-of-type {\n",
       "        vertical-align: middle;\n",
       "    }\n",
       "\n",
       "    .dataframe tbody tr th {\n",
       "        vertical-align: top;\n",
       "    }\n",
       "\n",
       "    .dataframe thead th {\n",
       "        text-align: right;\n",
       "    }\n",
       "</style>\n",
       "<table border=\"1\" class=\"dataframe\">\n",
       "  <thead>\n",
       "    <tr style=\"text-align: right;\">\n",
       "      <th></th>\n",
       "      <th>Emotions</th>\n",
       "      <th>Path</th>\n",
       "    </tr>\n",
       "  </thead>\n",
       "  <tbody>\n",
       "    <tr>\n",
       "      <th>0</th>\n",
       "      <td>Angry</td>\n",
       "      <td>C:/Users/TestUser/OneDrive/Documents/Data Scie...</td>\n",
       "    </tr>\n",
       "    <tr>\n",
       "      <th>1</th>\n",
       "      <td>Angry</td>\n",
       "      <td>C:/Users/TestUser/OneDrive/Documents/Data Scie...</td>\n",
       "    </tr>\n",
       "    <tr>\n",
       "      <th>2</th>\n",
       "      <td>Angry</td>\n",
       "      <td>C:/Users/TestUser/OneDrive/Documents/Data Scie...</td>\n",
       "    </tr>\n",
       "    <tr>\n",
       "      <th>3</th>\n",
       "      <td>Angry</td>\n",
       "      <td>C:/Users/TestUser/OneDrive/Documents/Data Scie...</td>\n",
       "    </tr>\n",
       "    <tr>\n",
       "      <th>4</th>\n",
       "      <td>Angry</td>\n",
       "      <td>C:/Users/TestUser/OneDrive/Documents/Data Scie...</td>\n",
       "    </tr>\n",
       "  </tbody>\n",
       "</table>\n",
       "</div>"
      ],
      "text/plain": [
       "  Emotions                                               Path\n",
       "0    Angry  C:/Users/TestUser/OneDrive/Documents/Data Scie...\n",
       "1    Angry  C:/Users/TestUser/OneDrive/Documents/Data Scie...\n",
       "2    Angry  C:/Users/TestUser/OneDrive/Documents/Data Scie...\n",
       "3    Angry  C:/Users/TestUser/OneDrive/Documents/Data Scie...\n",
       "4    Angry  C:/Users/TestUser/OneDrive/Documents/Data Scie..."
      ]
     },
     "execution_count": 5,
     "metadata": {},
     "output_type": "execute_result"
    }
   ],
   "source": [
    "Tess_df = pd.DataFrame(emotion, columns = ['Emotions'])\n",
    "\n",
    "Tess_df = pd.concat([Tess_df, pd.DataFrame(path, columns = ['Path'])], axis = 1)\n",
    "\n",
    "Tess_df.head()"
   ]
  },
  {
   "cell_type": "markdown",
   "id": "66876056",
   "metadata": {},
   "source": [
    "### Data Preprocessing"
   ]
  },
  {
   "cell_type": "markdown",
   "id": "b2074287",
   "metadata": {},
   "source": [
    "Look at how many of each emotion there are. There should be 400 files for each emotion. (200 per female)."
   ]
  },
  {
   "cell_type": "code",
   "execution_count": 6,
   "id": "cf1d1d31",
   "metadata": {},
   "outputs": [
    {
     "data": {
      "text/plain": [
       "Angry       400\n",
       "Disgust     400\n",
       "Fear        400\n",
       "Happy       400\n",
       "Neutral     400\n",
       "Surprise    400\n",
       "Sad         400\n",
       "Name: Emotions, dtype: int64"
      ]
     },
     "execution_count": 6,
     "metadata": {},
     "output_type": "execute_result"
    }
   ],
   "source": [
    "Tess_df['Emotions'].value_counts()"
   ]
  },
  {
   "cell_type": "markdown",
   "id": "a70a8bd8",
   "metadata": {},
   "source": [
    "Check data types."
   ]
  },
  {
   "cell_type": "code",
   "execution_count": 7,
   "id": "2acf6727",
   "metadata": {},
   "outputs": [
    {
     "name": "stdout",
     "output_type": "stream",
     "text": [
      "<class 'pandas.core.frame.DataFrame'>\n",
      "RangeIndex: 2800 entries, 0 to 2799\n",
      "Data columns (total 2 columns):\n",
      " #   Column    Non-Null Count  Dtype \n",
      "---  ------    --------------  ----- \n",
      " 0   Emotions  2800 non-null   object\n",
      " 1   Path      2800 non-null   object\n",
      "dtypes: object(2)\n",
      "memory usage: 43.9+ KB\n"
     ]
    }
   ],
   "source": [
    "Tess_df.info()"
   ]
  },
  {
   "cell_type": "code",
   "execution_count": 8,
   "id": "5f736e58",
   "metadata": {},
   "outputs": [
    {
     "data": {
      "text/html": [
       "<div>\n",
       "<style scoped>\n",
       "    .dataframe tbody tr th:only-of-type {\n",
       "        vertical-align: middle;\n",
       "    }\n",
       "\n",
       "    .dataframe tbody tr th {\n",
       "        vertical-align: top;\n",
       "    }\n",
       "\n",
       "    .dataframe thead th {\n",
       "        text-align: right;\n",
       "    }\n",
       "</style>\n",
       "<table border=\"1\" class=\"dataframe\">\n",
       "  <thead>\n",
       "    <tr style=\"text-align: right;\">\n",
       "      <th></th>\n",
       "      <th>Emotions</th>\n",
       "      <th>Path</th>\n",
       "    </tr>\n",
       "  </thead>\n",
       "  <tbody>\n",
       "    <tr>\n",
       "      <th>count</th>\n",
       "      <td>2800</td>\n",
       "      <td>2800</td>\n",
       "    </tr>\n",
       "    <tr>\n",
       "      <th>unique</th>\n",
       "      <td>7</td>\n",
       "      <td>2800</td>\n",
       "    </tr>\n",
       "    <tr>\n",
       "      <th>top</th>\n",
       "      <td>Angry</td>\n",
       "      <td>C:/Users/TestUser/OneDrive/Documents/Data Scie...</td>\n",
       "    </tr>\n",
       "    <tr>\n",
       "      <th>freq</th>\n",
       "      <td>400</td>\n",
       "      <td>1</td>\n",
       "    </tr>\n",
       "  </tbody>\n",
       "</table>\n",
       "</div>"
      ],
      "text/plain": [
       "       Emotions                                               Path\n",
       "count      2800                                               2800\n",
       "unique        7                                               2800\n",
       "top       Angry  C:/Users/TestUser/OneDrive/Documents/Data Scie...\n",
       "freq        400                                                  1"
      ]
     },
     "execution_count": 8,
     "metadata": {},
     "output_type": "execute_result"
    }
   ],
   "source": [
    "Tess_df.describe()"
   ]
  },
  {
   "cell_type": "code",
   "execution_count": 9,
   "id": "40d6b745",
   "metadata": {},
   "outputs": [
    {
     "data": {
      "text/plain": [
       "(2800, 2)"
      ]
     },
     "execution_count": 9,
     "metadata": {},
     "output_type": "execute_result"
    }
   ],
   "source": [
    "Tess_df.shape"
   ]
  },
  {
   "cell_type": "code",
   "execution_count": 6,
   "id": "fd79762f",
   "metadata": {},
   "outputs": [],
   "source": [
    "Tess_df.to_csv('Tess_df.csv', index = False)"
   ]
  }
 ],
 "metadata": {
  "kernelspec": {
   "display_name": "Python 3 (ipykernel)",
   "language": "python",
   "name": "python3"
  },
  "language_info": {
   "codemirror_mode": {
    "name": "ipython",
    "version": 3
   },
   "file_extension": ".py",
   "mimetype": "text/x-python",
   "name": "python",
   "nbconvert_exporter": "python",
   "pygments_lexer": "ipython3",
   "version": "3.9.13"
  }
 },
 "nbformat": 4,
 "nbformat_minor": 5
}
