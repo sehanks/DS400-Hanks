{
 "cells": [
  {
   "cell_type": "markdown",
   "id": "04ed96d1",
   "metadata": {},
   "source": [
    "# Speech Emotion Recognition Modeling"
   ]
  },
  {
   "cell_type": "markdown",
   "id": "9c6ee7b2",
   "metadata": {},
   "source": [
    "### Import necessary libraries"
   ]
  },
  {
   "cell_type": "code",
   "execution_count": 1,
   "id": "3c08f69d",
   "metadata": {},
   "outputs": [
    {
     "name": "stderr",
     "output_type": "stream",
     "text": [
      "C:\\Users\\TestUser\\anaconda3\\lib\\site-packages\\paramiko\\transport.py:219: CryptographyDeprecationWarning: Blowfish has been deprecated\n",
      "  \"class\": algorithms.Blowfish,\n"
     ]
    }
   ],
   "source": [
    "import os\n",
    "import numpy as np\n",
    "import pandas as pd\n",
    "import matplotlib.pyplot as plt\n",
    "import seaborn as sns\n",
    "\n",
    "import IPython\n",
    "import librosa # librosa is a Python library for analyzing audio and music used to extract the data from audio files it later\n",
    "import librosa.display\n",
    "from IPython.display import Audio # to play the audio files\n",
    "plt.style.use('seaborn-white')\n",
    "from python_speech_features import mfcc\n",
    "\n",
    "from sklearn.preprocessing import StandardScaler, OneHotEncoder\n",
    "from sklearn.metrics import confusion_matrix, classification_report\n",
    "from sklearn.model_selection import train_test_split\n",
    "\n",
    "from os.path import dirname, join as pjoin\n",
    "from scipy.io import wavfile\n",
    "import scipy.io\n",
    "\n",
    "from keras.layers import Input, Conv2D, MaxPooling2D, AveragePooling2D, Flatten, GlobalAveragePooling2D, Dense, Dropout, Conv1D, MaxPooling1D, BatchNormalization\n",
    "from keras.layers import concatenate\n",
    "from keras.models import Model\n",
    "from keras.layers.normalization import layer_normalization\n",
    "from tensorflow.keras.models import Sequential\n",
    "from keras.callbacks import ReduceLROnPlateau\n",
    "from tensorflow.keras.layers import LSTM\n",
    "from keras.applications.vgg19 import VGG19\n",
    "import tensorflow as tf\n",
    "from tensorflow import keras\n",
    "from tensorflow.keras import layers\n",
    "from keras.models import Sequential\n",
    "from keras.utils import np_utils, to_categorical\n",
    "\n",
    "import torch\n",
    "from pytorch_transformers import GPT2Tokenizer, GPT2LMHeadModel\n",
    "import speech_recognition as sr\n",
    "\n",
    "from sklearn.preprocessing import StandardScaler, OneHotEncoder\n",
    "from sklearn.metrics import confusion_matrix, classification_report\n",
    "from sklearn.model_selection import train_test_split"
   ]
  },
  {
   "cell_type": "markdown",
   "id": "7e1cab3a",
   "metadata": {},
   "source": [
    "### Read csv file"
   ]
  },
  {
   "cell_type": "code",
   "execution_count": 2,
   "id": "5756254c",
   "metadata": {},
   "outputs": [
    {
     "data": {
      "text/html": [
       "<div>\n",
       "<style scoped>\n",
       "    .dataframe tbody tr th:only-of-type {\n",
       "        vertical-align: middle;\n",
       "    }\n",
       "\n",
       "    .dataframe tbody tr th {\n",
       "        vertical-align: top;\n",
       "    }\n",
       "\n",
       "    .dataframe thead th {\n",
       "        text-align: right;\n",
       "    }\n",
       "</style>\n",
       "<table border=\"1\" class=\"dataframe\">\n",
       "  <thead>\n",
       "    <tr style=\"text-align: right;\">\n",
       "      <th></th>\n",
       "      <th>0</th>\n",
       "      <th>1</th>\n",
       "      <th>2</th>\n",
       "      <th>3</th>\n",
       "      <th>4</th>\n",
       "      <th>5</th>\n",
       "      <th>6</th>\n",
       "      <th>7</th>\n",
       "      <th>8</th>\n",
       "      <th>9</th>\n",
       "      <th>...</th>\n",
       "      <th>154</th>\n",
       "      <th>155</th>\n",
       "      <th>156</th>\n",
       "      <th>157</th>\n",
       "      <th>158</th>\n",
       "      <th>159</th>\n",
       "      <th>160</th>\n",
       "      <th>161</th>\n",
       "      <th>162</th>\n",
       "      <th>labels</th>\n",
       "    </tr>\n",
       "  </thead>\n",
       "  <tbody>\n",
       "    <tr>\n",
       "      <th>0</th>\n",
       "      <td>-399.535004</td>\n",
       "      <td>76.428391</td>\n",
       "      <td>-23.082157</td>\n",
       "      <td>-18.684132</td>\n",
       "      <td>1.685362</td>\n",
       "      <td>15.067113</td>\n",
       "      <td>-21.209391</td>\n",
       "      <td>-5.796458</td>\n",
       "      <td>-6.386797</td>\n",
       "      <td>3.003888</td>\n",
       "      <td>...</td>\n",
       "      <td>0.434596</td>\n",
       "      <td>0.412372</td>\n",
       "      <td>0.373666</td>\n",
       "      <td>0.568295</td>\n",
       "      <td>0.573150</td>\n",
       "      <td>0.404191</td>\n",
       "      <td>0.469243</td>\n",
       "      <td>0.525294</td>\n",
       "      <td>1487.683221</td>\n",
       "      <td>Angry</td>\n",
       "    </tr>\n",
       "    <tr>\n",
       "      <th>1</th>\n",
       "      <td>-163.356796</td>\n",
       "      <td>16.288073</td>\n",
       "      <td>-4.017271</td>\n",
       "      <td>-9.704623</td>\n",
       "      <td>-1.823467</td>\n",
       "      <td>0.891731</td>\n",
       "      <td>-2.793187</td>\n",
       "      <td>-5.654695</td>\n",
       "      <td>-3.320916</td>\n",
       "      <td>-0.029738</td>\n",
       "      <td>...</td>\n",
       "      <td>0.683682</td>\n",
       "      <td>0.668844</td>\n",
       "      <td>0.519446</td>\n",
       "      <td>0.654436</td>\n",
       "      <td>0.713587</td>\n",
       "      <td>0.593206</td>\n",
       "      <td>0.615255</td>\n",
       "      <td>0.660334</td>\n",
       "      <td>4569.698260</td>\n",
       "      <td>Angry</td>\n",
       "    </tr>\n",
       "    <tr>\n",
       "      <th>2</th>\n",
       "      <td>-412.039398</td>\n",
       "      <td>77.262421</td>\n",
       "      <td>-32.583839</td>\n",
       "      <td>-24.591434</td>\n",
       "      <td>4.346249</td>\n",
       "      <td>9.090682</td>\n",
       "      <td>-26.384003</td>\n",
       "      <td>-4.067521</td>\n",
       "      <td>-6.408696</td>\n",
       "      <td>4.251380</td>\n",
       "      <td>...</td>\n",
       "      <td>0.351096</td>\n",
       "      <td>0.422755</td>\n",
       "      <td>0.433503</td>\n",
       "      <td>0.356062</td>\n",
       "      <td>0.580109</td>\n",
       "      <td>0.609401</td>\n",
       "      <td>0.420695</td>\n",
       "      <td>0.462002</td>\n",
       "      <td>1686.632515</td>\n",
       "      <td>Angry</td>\n",
       "    </tr>\n",
       "    <tr>\n",
       "      <th>3</th>\n",
       "      <td>-431.256287</td>\n",
       "      <td>75.581871</td>\n",
       "      <td>-25.508471</td>\n",
       "      <td>-20.642477</td>\n",
       "      <td>1.065045</td>\n",
       "      <td>14.736607</td>\n",
       "      <td>-22.362364</td>\n",
       "      <td>-6.727914</td>\n",
       "      <td>-6.420148</td>\n",
       "      <td>3.231606</td>\n",
       "      <td>...</td>\n",
       "      <td>0.413919</td>\n",
       "      <td>0.406536</td>\n",
       "      <td>0.359708</td>\n",
       "      <td>0.557236</td>\n",
       "      <td>0.573689</td>\n",
       "      <td>0.396855</td>\n",
       "      <td>0.461476</td>\n",
       "      <td>0.535765</td>\n",
       "      <td>1548.812463</td>\n",
       "      <td>Angry</td>\n",
       "    </tr>\n",
       "    <tr>\n",
       "      <th>4</th>\n",
       "      <td>-391.680115</td>\n",
       "      <td>94.263718</td>\n",
       "      <td>-27.733862</td>\n",
       "      <td>-28.800610</td>\n",
       "      <td>-2.881231</td>\n",
       "      <td>13.102319</td>\n",
       "      <td>-28.031700</td>\n",
       "      <td>-10.077882</td>\n",
       "      <td>-9.727766</td>\n",
       "      <td>2.450062</td>\n",
       "      <td>...</td>\n",
       "      <td>0.425077</td>\n",
       "      <td>0.347824</td>\n",
       "      <td>0.328270</td>\n",
       "      <td>0.633562</td>\n",
       "      <td>0.555491</td>\n",
       "      <td>0.397686</td>\n",
       "      <td>0.483802</td>\n",
       "      <td>0.523931</td>\n",
       "      <td>1539.644752</td>\n",
       "      <td>Angry</td>\n",
       "    </tr>\n",
       "  </tbody>\n",
       "</table>\n",
       "<p>5 rows × 164 columns</p>\n",
       "</div>"
      ],
      "text/plain": [
       "            0          1          2          3         4          5  \\\n",
       "0 -399.535004  76.428391 -23.082157 -18.684132  1.685362  15.067113   \n",
       "1 -163.356796  16.288073  -4.017271  -9.704623 -1.823467   0.891731   \n",
       "2 -412.039398  77.262421 -32.583839 -24.591434  4.346249   9.090682   \n",
       "3 -431.256287  75.581871 -25.508471 -20.642477  1.065045  14.736607   \n",
       "4 -391.680115  94.263718 -27.733862 -28.800610 -2.881231  13.102319   \n",
       "\n",
       "           6          7         8         9  ...       154       155  \\\n",
       "0 -21.209391  -5.796458 -6.386797  3.003888  ...  0.434596  0.412372   \n",
       "1  -2.793187  -5.654695 -3.320916 -0.029738  ...  0.683682  0.668844   \n",
       "2 -26.384003  -4.067521 -6.408696  4.251380  ...  0.351096  0.422755   \n",
       "3 -22.362364  -6.727914 -6.420148  3.231606  ...  0.413919  0.406536   \n",
       "4 -28.031700 -10.077882 -9.727766  2.450062  ...  0.425077  0.347824   \n",
       "\n",
       "        156       157       158       159       160       161          162  \\\n",
       "0  0.373666  0.568295  0.573150  0.404191  0.469243  0.525294  1487.683221   \n",
       "1  0.519446  0.654436  0.713587  0.593206  0.615255  0.660334  4569.698260   \n",
       "2  0.433503  0.356062  0.580109  0.609401  0.420695  0.462002  1686.632515   \n",
       "3  0.359708  0.557236  0.573689  0.396855  0.461476  0.535765  1548.812463   \n",
       "4  0.328270  0.633562  0.555491  0.397686  0.483802  0.523931  1539.644752   \n",
       "\n",
       "   labels  \n",
       "0   Angry  \n",
       "1   Angry  \n",
       "2   Angry  \n",
       "3   Angry  \n",
       "4   Angry  \n",
       "\n",
       "[5 rows x 164 columns]"
      ]
     },
     "execution_count": 2,
     "metadata": {},
     "output_type": "execute_result"
    }
   ],
   "source": [
    "feat = pd.read_csv('feat.csv')\n",
    "\n",
    "feat.head()"
   ]
  },
  {
   "cell_type": "markdown",
   "id": "0a5d69fb",
   "metadata": {},
   "source": [
    "### Data Preparation"
   ]
  },
  {
   "cell_type": "code",
   "execution_count": 3,
   "id": "8724c942",
   "metadata": {},
   "outputs": [],
   "source": [
    "X = feat.drop(['labels'], axis = 1)\n",
    "\n",
    "y = feat['labels']"
   ]
  },
  {
   "cell_type": "code",
   "execution_count": 4,
   "id": "29055902",
   "metadata": {},
   "outputs": [
    {
     "data": {
      "text/html": [
       "<div>\n",
       "<style scoped>\n",
       "    .dataframe tbody tr th:only-of-type {\n",
       "        vertical-align: middle;\n",
       "    }\n",
       "\n",
       "    .dataframe tbody tr th {\n",
       "        vertical-align: top;\n",
       "    }\n",
       "\n",
       "    .dataframe thead th {\n",
       "        text-align: right;\n",
       "    }\n",
       "</style>\n",
       "<table border=\"1\" class=\"dataframe\">\n",
       "  <thead>\n",
       "    <tr style=\"text-align: right;\">\n",
       "      <th></th>\n",
       "      <th>0</th>\n",
       "      <th>1</th>\n",
       "      <th>2</th>\n",
       "      <th>3</th>\n",
       "      <th>4</th>\n",
       "      <th>5</th>\n",
       "      <th>6</th>\n",
       "      <th>7</th>\n",
       "      <th>8</th>\n",
       "      <th>9</th>\n",
       "      <th>...</th>\n",
       "      <th>153</th>\n",
       "      <th>154</th>\n",
       "      <th>155</th>\n",
       "      <th>156</th>\n",
       "      <th>157</th>\n",
       "      <th>158</th>\n",
       "      <th>159</th>\n",
       "      <th>160</th>\n",
       "      <th>161</th>\n",
       "      <th>162</th>\n",
       "    </tr>\n",
       "  </thead>\n",
       "  <tbody>\n",
       "    <tr>\n",
       "      <th>0</th>\n",
       "      <td>-399.535004</td>\n",
       "      <td>76.428391</td>\n",
       "      <td>-23.082157</td>\n",
       "      <td>-18.684132</td>\n",
       "      <td>1.685362</td>\n",
       "      <td>15.067113</td>\n",
       "      <td>-21.209391</td>\n",
       "      <td>-5.796458</td>\n",
       "      <td>-6.386797</td>\n",
       "      <td>3.003888</td>\n",
       "      <td>...</td>\n",
       "      <td>0.362415</td>\n",
       "      <td>0.434596</td>\n",
       "      <td>0.412372</td>\n",
       "      <td>0.373666</td>\n",
       "      <td>0.568295</td>\n",
       "      <td>0.573150</td>\n",
       "      <td>0.404191</td>\n",
       "      <td>0.469243</td>\n",
       "      <td>0.525294</td>\n",
       "      <td>1487.683221</td>\n",
       "    </tr>\n",
       "    <tr>\n",
       "      <th>1</th>\n",
       "      <td>-163.356796</td>\n",
       "      <td>16.288073</td>\n",
       "      <td>-4.017271</td>\n",
       "      <td>-9.704623</td>\n",
       "      <td>-1.823467</td>\n",
       "      <td>0.891731</td>\n",
       "      <td>-2.793187</td>\n",
       "      <td>-5.654695</td>\n",
       "      <td>-3.320916</td>\n",
       "      <td>-0.029738</td>\n",
       "      <td>...</td>\n",
       "      <td>0.624722</td>\n",
       "      <td>0.683682</td>\n",
       "      <td>0.668844</td>\n",
       "      <td>0.519446</td>\n",
       "      <td>0.654436</td>\n",
       "      <td>0.713587</td>\n",
       "      <td>0.593206</td>\n",
       "      <td>0.615255</td>\n",
       "      <td>0.660334</td>\n",
       "      <td>4569.698260</td>\n",
       "    </tr>\n",
       "    <tr>\n",
       "      <th>2</th>\n",
       "      <td>-412.039398</td>\n",
       "      <td>77.262421</td>\n",
       "      <td>-32.583839</td>\n",
       "      <td>-24.591434</td>\n",
       "      <td>4.346249</td>\n",
       "      <td>9.090682</td>\n",
       "      <td>-26.384003</td>\n",
       "      <td>-4.067521</td>\n",
       "      <td>-6.408696</td>\n",
       "      <td>4.251380</td>\n",
       "      <td>...</td>\n",
       "      <td>0.424115</td>\n",
       "      <td>0.351096</td>\n",
       "      <td>0.422755</td>\n",
       "      <td>0.433503</td>\n",
       "      <td>0.356062</td>\n",
       "      <td>0.580109</td>\n",
       "      <td>0.609401</td>\n",
       "      <td>0.420695</td>\n",
       "      <td>0.462002</td>\n",
       "      <td>1686.632515</td>\n",
       "    </tr>\n",
       "    <tr>\n",
       "      <th>3</th>\n",
       "      <td>-431.256287</td>\n",
       "      <td>75.581871</td>\n",
       "      <td>-25.508471</td>\n",
       "      <td>-20.642477</td>\n",
       "      <td>1.065045</td>\n",
       "      <td>14.736607</td>\n",
       "      <td>-22.362364</td>\n",
       "      <td>-6.727914</td>\n",
       "      <td>-6.420148</td>\n",
       "      <td>3.231606</td>\n",
       "      <td>...</td>\n",
       "      <td>0.346212</td>\n",
       "      <td>0.413919</td>\n",
       "      <td>0.406536</td>\n",
       "      <td>0.359708</td>\n",
       "      <td>0.557236</td>\n",
       "      <td>0.573689</td>\n",
       "      <td>0.396855</td>\n",
       "      <td>0.461476</td>\n",
       "      <td>0.535765</td>\n",
       "      <td>1548.812463</td>\n",
       "    </tr>\n",
       "    <tr>\n",
       "      <th>4</th>\n",
       "      <td>-391.680115</td>\n",
       "      <td>94.263718</td>\n",
       "      <td>-27.733862</td>\n",
       "      <td>-28.800610</td>\n",
       "      <td>-2.881231</td>\n",
       "      <td>13.102319</td>\n",
       "      <td>-28.031700</td>\n",
       "      <td>-10.077882</td>\n",
       "      <td>-9.727766</td>\n",
       "      <td>2.450062</td>\n",
       "      <td>...</td>\n",
       "      <td>0.326723</td>\n",
       "      <td>0.425077</td>\n",
       "      <td>0.347824</td>\n",
       "      <td>0.328270</td>\n",
       "      <td>0.633562</td>\n",
       "      <td>0.555491</td>\n",
       "      <td>0.397686</td>\n",
       "      <td>0.483802</td>\n",
       "      <td>0.523931</td>\n",
       "      <td>1539.644752</td>\n",
       "    </tr>\n",
       "  </tbody>\n",
       "</table>\n",
       "<p>5 rows × 163 columns</p>\n",
       "</div>"
      ],
      "text/plain": [
       "            0          1          2          3         4          5  \\\n",
       "0 -399.535004  76.428391 -23.082157 -18.684132  1.685362  15.067113   \n",
       "1 -163.356796  16.288073  -4.017271  -9.704623 -1.823467   0.891731   \n",
       "2 -412.039398  77.262421 -32.583839 -24.591434  4.346249   9.090682   \n",
       "3 -431.256287  75.581871 -25.508471 -20.642477  1.065045  14.736607   \n",
       "4 -391.680115  94.263718 -27.733862 -28.800610 -2.881231  13.102319   \n",
       "\n",
       "           6          7         8         9  ...       153       154  \\\n",
       "0 -21.209391  -5.796458 -6.386797  3.003888  ...  0.362415  0.434596   \n",
       "1  -2.793187  -5.654695 -3.320916 -0.029738  ...  0.624722  0.683682   \n",
       "2 -26.384003  -4.067521 -6.408696  4.251380  ...  0.424115  0.351096   \n",
       "3 -22.362364  -6.727914 -6.420148  3.231606  ...  0.346212  0.413919   \n",
       "4 -28.031700 -10.077882 -9.727766  2.450062  ...  0.326723  0.425077   \n",
       "\n",
       "        155       156       157       158       159       160       161  \\\n",
       "0  0.412372  0.373666  0.568295  0.573150  0.404191  0.469243  0.525294   \n",
       "1  0.668844  0.519446  0.654436  0.713587  0.593206  0.615255  0.660334   \n",
       "2  0.422755  0.433503  0.356062  0.580109  0.609401  0.420695  0.462002   \n",
       "3  0.406536  0.359708  0.557236  0.573689  0.396855  0.461476  0.535765   \n",
       "4  0.347824  0.328270  0.633562  0.555491  0.397686  0.483802  0.523931   \n",
       "\n",
       "           162  \n",
       "0  1487.683221  \n",
       "1  4569.698260  \n",
       "2  1686.632515  \n",
       "3  1548.812463  \n",
       "4  1539.644752  \n",
       "\n",
       "[5 rows x 163 columns]"
      ]
     },
     "execution_count": 4,
     "metadata": {},
     "output_type": "execute_result"
    }
   ],
   "source": [
    "X.head()"
   ]
  },
  {
   "cell_type": "code",
   "execution_count": 5,
   "id": "f9a6cb84",
   "metadata": {},
   "outputs": [
    {
     "data": {
      "text/plain": [
       "Angry       2400\n",
       "Disgust     2400\n",
       "Fear        2400\n",
       "Happy       2400\n",
       "Neutral     2400\n",
       "Surprise    2400\n",
       "Sad         2400\n",
       "Name: labels, dtype: int64"
      ]
     },
     "execution_count": 5,
     "metadata": {},
     "output_type": "execute_result"
    }
   ],
   "source": [
    "y.value_counts()"
   ]
  },
  {
   "cell_type": "code",
   "execution_count": 6,
   "id": "13e6bf6f",
   "metadata": {},
   "outputs": [
    {
     "data": {
      "text/plain": [
       "0    Angry\n",
       "1    Angry\n",
       "2    Angry\n",
       "3    Angry\n",
       "4    Angry\n",
       "Name: labels, dtype: object"
      ]
     },
     "execution_count": 6,
     "metadata": {},
     "output_type": "execute_result"
    }
   ],
   "source": [
    "y.head()"
   ]
  },
  {
   "cell_type": "markdown",
   "id": "b984976b",
   "metadata": {},
   "source": [
    "This is a multiclass classification problem so I must onehot encode y"
   ]
  },
  {
   "cell_type": "code",
   "execution_count": 7,
   "id": "516a39cc",
   "metadata": {},
   "outputs": [
    {
     "data": {
      "text/plain": [
       "array([[1., 0., 0., ..., 0., 0., 0.],\n",
       "       [1., 0., 0., ..., 0., 0., 0.],\n",
       "       [1., 0., 0., ..., 0., 0., 0.],\n",
       "       ...,\n",
       "       [0., 0., 0., ..., 0., 1., 0.],\n",
       "       [0., 0., 0., ..., 0., 1., 0.],\n",
       "       [0., 0., 0., ..., 0., 1., 0.]])"
      ]
     },
     "execution_count": 7,
     "metadata": {},
     "output_type": "execute_result"
    }
   ],
   "source": [
    "onehot = OneHotEncoder()\n",
    "\n",
    "np_onehot = np.array(y).reshape(-1, 1)\n",
    "\n",
    "y = onehot.fit_transform(np_onehot).toarray()\n",
    "\n",
    "y"
   ]
  },
  {
   "cell_type": "markdown",
   "id": "74376b7f",
   "metadata": {},
   "source": [
    "Train, test, split"
   ]
  },
  {
   "cell_type": "code",
   "execution_count": 8,
   "id": "2fc1524e",
   "metadata": {},
   "outputs": [],
   "source": [
    "X_train, X_test, y_train, y_test = train_test_split(X, y, test_size = 0.2, random_state = 101)"
   ]
  },
  {
   "cell_type": "code",
   "execution_count": 9,
   "id": "f65f4ce7",
   "metadata": {},
   "outputs": [
    {
     "data": {
      "text/plain": [
       "((13440, 163), (13440, 7), (3360, 163), (3360, 7))"
      ]
     },
     "execution_count": 9,
     "metadata": {},
     "output_type": "execute_result"
    }
   ],
   "source": [
    "X_train.shape, y_train.shape, X_test.shape, y_test.shape"
   ]
  },
  {
   "cell_type": "markdown",
   "id": "70c63eab",
   "metadata": {},
   "source": [
    "Scale the data using Standard Scaler"
   ]
  },
  {
   "cell_type": "code",
   "execution_count": 10,
   "id": "75ebfe10",
   "metadata": {},
   "outputs": [],
   "source": [
    "sc = StandardScaler()\n",
    "\n",
    "X_train = sc.fit_transform(X_train)\n",
    "\n",
    "X_test = sc.transform(X_test)"
   ]
  },
  {
   "cell_type": "markdown",
   "id": "425e7a2b",
   "metadata": {},
   "source": [
    "Insert a new axis that will appear at the axis position in the expanded array shape to make data suitable to model."
   ]
  },
  {
   "cell_type": "code",
   "execution_count": 11,
   "id": "697c6d4c",
   "metadata": {},
   "outputs": [
    {
     "data": {
      "text/plain": [
       "((13440, 163, 1), (13440, 7), (3360, 163, 1), (3360, 7))"
      ]
     },
     "execution_count": 11,
     "metadata": {},
     "output_type": "execute_result"
    }
   ],
   "source": [
    "X_train = np.expand_dims(X_train, axis = 2)\n",
    "\n",
    "X_test = np.expand_dims(X_test, axis = 2)\n",
    "\n",
    "X_train.shape, y_train.shape, X_test.shape, y_test.shape"
   ]
  },
  {
   "cell_type": "markdown",
   "id": "9a7f087a",
   "metadata": {},
   "source": [
    "### Modeling"
   ]
  },
  {
   "cell_type": "markdown",
   "id": "75eb7e85",
   "metadata": {},
   "source": [
    "#### CNN"
   ]
  },
  {
   "cell_type": "markdown",
   "id": "100131c1",
   "metadata": {},
   "source": [
    "Create an sequential CNN model"
   ]
  },
  {
   "cell_type": "code",
   "execution_count": 27,
   "id": "1acfbf9e",
   "metadata": {},
   "outputs": [
    {
     "name": "stdout",
     "output_type": "stream",
     "text": [
      "Model: \"SER-CNN\"\n",
      "_________________________________________________________________\n",
      " Layer (type)                Output Shape              Param #   \n",
      "=================================================================\n",
      " conv1d (Conv1D)             (None, 163, 256)          1536      \n",
      "                                                                 \n",
      " max_pooling1d (MaxPooling1D  (None, 82, 256)          0         \n",
      " )                                                               \n",
      "                                                                 \n",
      " conv1d_1 (Conv1D)           (None, 82, 256)           327936    \n",
      "                                                                 \n",
      " max_pooling1d_1 (MaxPooling  (None, 41, 256)          0         \n",
      " 1D)                                                             \n",
      "                                                                 \n",
      " conv1d_2 (Conv1D)           (None, 41, 256)           327936    \n",
      "                                                                 \n",
      " max_pooling1d_2 (MaxPooling  (None, 21, 256)          0         \n",
      " 1D)                                                             \n",
      "                                                                 \n",
      " conv1d_3 (Conv1D)           (None, 21, 256)           327936    \n",
      "                                                                 \n",
      " max_pooling1d_3 (MaxPooling  (None, 11, 256)          0         \n",
      " 1D)                                                             \n",
      "                                                                 \n",
      " flatten_1 (Flatten)         (None, 2816)              0         \n",
      "                                                                 \n",
      " dense_2 (Dense)             (None, 32)                90144     \n",
      "                                                                 \n",
      " dropout_1 (Dropout)         (None, 32)                0         \n",
      "                                                                 \n",
      " dense_3 (Dense)             (None, 7)                 231       \n",
      "                                                                 \n",
      "=================================================================\n",
      "Total params: 1,075,719\n",
      "Trainable params: 1,075,719\n",
      "Non-trainable params: 0\n",
      "_________________________________________________________________\n"
     ]
    }
   ],
   "source": [
    "model_cnn = keras.Sequential(name = 'SER-CNN')\n",
    "\n",
    "model_cnn.add(Conv1D(filters = 256, \n",
    "                 kernel_size = 5, \n",
    "                 strides = 1, \n",
    "                 padding = 'same', \n",
    "                 activation = 'relu', \n",
    "                 input_shape = (X_train.shape[1], 1)))\n",
    "\n",
    "model_cnn.add(MaxPooling1D(pool_size = 5, \n",
    "                       strides = 2, \n",
    "                       padding = 'same'))\n",
    "\n",
    "model_cnn.add(Conv1D(filters = 256, \n",
    "                 kernel_size = 5, \n",
    "                 strides = 1, \n",
    "                 padding = 'same', \n",
    "                 activation = 'relu')) \n",
    "\n",
    "model_cnn.add(MaxPooling1D(pool_size = 5, \n",
    "                       strides = 2, \n",
    "                       padding = 'same'))\n",
    "          \n",
    "model_cnn.add(Conv1D(filters = 256, \n",
    "                 kernel_size = 5, \n",
    "                 strides = 1, \n",
    "                 padding = 'same', \n",
    "                 activation = 'relu'))\n",
    "\n",
    "model_cnn.add(MaxPooling1D(pool_size = 5, \n",
    "                       strides = 2, \n",
    "                       padding = 'same'))\n",
    "          \n",
    "model_cnn.add(Conv1D(filters = 256, \n",
    "                 kernel_size = 5, \n",
    "                 strides = 1, \n",
    "                 padding = 'same', \n",
    "                 activation = 'relu'))\n",
    "\n",
    "model_cnn.add(MaxPooling1D(pool_size = 5, \n",
    "                       strides = 2, \n",
    "                       padding = 'same'))\n",
    "          \n",
    "model_cnn.add(Flatten())\n",
    "          \n",
    "model_cnn.add(Dense(units = 32, activation = 'relu'))\n",
    "          \n",
    "model_cnn.add(Dropout(0.3))\n",
    "          \n",
    "model_cnn.add(Dense(units = 7, activation = 'sigmoid'))\n",
    "          \n",
    "model_cnn.summary()"
   ]
  },
  {
   "cell_type": "code",
   "execution_count": 28,
   "id": "eafdf8b9",
   "metadata": {},
   "outputs": [],
   "source": [
    "model_cnn.compile(optimizer = 'adam' , \n",
    "              loss = 'categorical_crossentropy' , \n",
    "              metrics = ['categorical_accuracy'])"
   ]
  },
  {
   "cell_type": "code",
   "execution_count": 29,
   "id": "acf82a7b",
   "metadata": {},
   "outputs": [
    {
     "name": "stdout",
     "output_type": "stream",
     "text": [
      "Epoch 1/10\n",
      "105/105 [==============================] - 47s 421ms/step - loss: 1.1070 - categorical_accuracy: 0.5673 - val_loss: 0.4698 - val_categorical_accuracy: 0.8676\n",
      "Epoch 2/10\n",
      "105/105 [==============================] - 44s 416ms/step - loss: 0.4826 - categorical_accuracy: 0.8284 - val_loss: 0.1753 - val_categorical_accuracy: 0.9435\n",
      "Epoch 3/10\n",
      "105/105 [==============================] - 43s 410ms/step - loss: 0.3123 - categorical_accuracy: 0.8871 - val_loss: 0.1580 - val_categorical_accuracy: 0.9518\n",
      "Epoch 4/10\n",
      "105/105 [==============================] - 45s 431ms/step - loss: 0.2157 - categorical_accuracy: 0.9231 - val_loss: 0.0784 - val_categorical_accuracy: 0.9756\n",
      "Epoch 5/10\n",
      "105/105 [==============================] - 46s 434ms/step - loss: 0.1750 - categorical_accuracy: 0.9385 - val_loss: 0.1181 - val_categorical_accuracy: 0.9604\n",
      "Epoch 6/10\n",
      "105/105 [==============================] - 46s 434ms/step - loss: 0.1422 - categorical_accuracy: 0.9469 - val_loss: 0.0706 - val_categorical_accuracy: 0.9786\n",
      "Epoch 7/10\n",
      "105/105 [==============================] - 46s 437ms/step - loss: 0.1262 - categorical_accuracy: 0.9561 - val_loss: 0.0723 - val_categorical_accuracy: 0.9750\n",
      "Epoch 8/10\n",
      "105/105 [==============================] - 45s 433ms/step - loss: 0.1057 - categorical_accuracy: 0.9612 - val_loss: 0.0355 - val_categorical_accuracy: 0.9890\n",
      "Epoch 9/10\n",
      "105/105 [==============================] - 45s 431ms/step - loss: 0.1006 - categorical_accuracy: 0.9629 - val_loss: 0.0490 - val_categorical_accuracy: 0.9857\n",
      "Epoch 10/10\n",
      "105/105 [==============================] - 45s 433ms/step - loss: 0.1116 - categorical_accuracy: 0.9621 - val_loss: 0.0522 - val_categorical_accuracy: 0.9869\n"
     ]
    }
   ],
   "source": [
    "history_cnn = model_cnn.fit(X_train, \n",
    "                    y_train,\n",
    "                    batch_size = 128,\n",
    "                    epochs = 10,\n",
    "                    validation_data = (X_test, y_test))"
   ]
  },
  {
   "cell_type": "code",
   "execution_count": 30,
   "id": "2bf56442",
   "metadata": {},
   "outputs": [
    {
     "name": "stdout",
     "output_type": "stream",
     "text": [
      "105/105 [==============================] - 4s 38ms/step - loss: 0.0522 - categorical_accuracy: 0.9869\n",
      "Test loss: 0.05215274542570114\n",
      "Test accuracy: 0.9869047403335571\n"
     ]
    }
   ],
   "source": [
    "score_cnn = model_cnn.evaluate(X_test, y_test)\n",
    "\n",
    "print('Test loss:', score_cnn[0])\n",
    "\n",
    "print('Test accuracy:', score_cnn[1])"
   ]
  },
  {
   "cell_type": "code",
   "execution_count": 31,
   "id": "e1f0f7ca",
   "metadata": {
    "scrolled": false
   },
   "outputs": [
    {
     "data": {
      "image/png": "[encoded data removed]",
      "text/plain": [
       "<Figure size 600x600 with 1 Axes>"
      ]
     },
     "metadata": {},
     "output_type": "display_data"
    }
   ],
   "source": [
    "plt.figure(figsize = (6, 6))\n",
    "plt.title('CNN accuracy')\n",
    "\n",
    "plt.plot(history_cnn.history['categorical_accuracy'])\n",
    "plt.plot(history_cnn.history['val_categorical_accuracy'])\n",
    "\n",
    "plt.ylabel('Accuracy')\n",
    "plt.xlabel('Epoch')\n",
    "plt.legend(['Train', 'Validation'], loc = 'upper left')\n",
    "plt.show()"
   ]
  },
  {
   "cell_type": "markdown",
   "id": "6934dc93",
   "metadata": {},
   "source": [
    "Predict on test data"
   ]
  },
  {
   "cell_type": "code",
   "execution_count": 32,
   "id": "381e784c",
   "metadata": {},
   "outputs": [
    {
     "name": "stdout",
     "output_type": "stream",
     "text": [
      "105/105 [==============================] - 4s 37ms/step\n"
     ]
    }
   ],
   "source": [
    "pred_cnn = model_cnn.predict(X_test)\n",
    "\n",
    "y_pred_cnn = onehot.inverse_transform(pred_cnn)\n",
    "\n",
    "y_test_cnn = onehot.inverse_transform(y_test)"
   ]
  },
  {
   "cell_type": "code",
   "execution_count": 33,
   "id": "e189fcfe",
   "metadata": {},
   "outputs": [
    {
     "data": {
      "text/html": [
       "<div>\n",
       "<style scoped>\n",
       "    .dataframe tbody tr th:only-of-type {\n",
       "        vertical-align: middle;\n",
       "    }\n",
       "\n",
       "    .dataframe tbody tr th {\n",
       "        vertical-align: top;\n",
       "    }\n",
       "\n",
       "    .dataframe thead th {\n",
       "        text-align: right;\n",
       "    }\n",
       "</style>\n",
       "<table border=\"1\" class=\"dataframe\">\n",
       "  <thead>\n",
       "    <tr style=\"text-align: right;\">\n",
       "      <th></th>\n",
       "      <th>Predicted</th>\n",
       "      <th>Actual</th>\n",
       "    </tr>\n",
       "  </thead>\n",
       "  <tbody>\n",
       "    <tr>\n",
       "      <th>0</th>\n",
       "      <td>Fear</td>\n",
       "      <td>Fear</td>\n",
       "    </tr>\n",
       "    <tr>\n",
       "      <th>1</th>\n",
       "      <td>Fear</td>\n",
       "      <td>Fear</td>\n",
       "    </tr>\n",
       "    <tr>\n",
       "      <th>2</th>\n",
       "      <td>Happy</td>\n",
       "      <td>Happy</td>\n",
       "    </tr>\n",
       "    <tr>\n",
       "      <th>3</th>\n",
       "      <td>Sad</td>\n",
       "      <td>Sad</td>\n",
       "    </tr>\n",
       "    <tr>\n",
       "      <th>4</th>\n",
       "      <td>Neutral</td>\n",
       "      <td>Neutral</td>\n",
       "    </tr>\n",
       "    <tr>\n",
       "      <th>5</th>\n",
       "      <td>Fear</td>\n",
       "      <td>Fear</td>\n",
       "    </tr>\n",
       "    <tr>\n",
       "      <th>6</th>\n",
       "      <td>Surprise</td>\n",
       "      <td>Surprise</td>\n",
       "    </tr>\n",
       "    <tr>\n",
       "      <th>7</th>\n",
       "      <td>Sad</td>\n",
       "      <td>Sad</td>\n",
       "    </tr>\n",
       "    <tr>\n",
       "      <th>8</th>\n",
       "      <td>Surprise</td>\n",
       "      <td>Surprise</td>\n",
       "    </tr>\n",
       "    <tr>\n",
       "      <th>9</th>\n",
       "      <td>Sad</td>\n",
       "      <td>Sad</td>\n",
       "    </tr>\n",
       "  </tbody>\n",
       "</table>\n",
       "</div>"
      ],
      "text/plain": [
       "  Predicted    Actual\n",
       "0      Fear      Fear\n",
       "1      Fear      Fear\n",
       "2     Happy     Happy\n",
       "3       Sad       Sad\n",
       "4   Neutral   Neutral\n",
       "5      Fear      Fear\n",
       "6  Surprise  Surprise\n",
       "7       Sad       Sad\n",
       "8  Surprise  Surprise\n",
       "9       Sad       Sad"
      ]
     },
     "execution_count": 33,
     "metadata": {},
     "output_type": "execute_result"
    }
   ],
   "source": [
    "df_cnn = pd.DataFrame(columns = ['Predicted', 'Actual'])\n",
    "\n",
    "df_cnn['Predicted'] = y_pred_cnn.flatten()\n",
    "\n",
    "df_cnn['Actual'] = y_test_cnn.flatten()\n",
    "\n",
    "df_cnn.head(10)"
   ]
  },
  {
   "cell_type": "code",
   "execution_count": 34,
   "id": "7086b41b",
   "metadata": {},
   "outputs": [
    {
     "data": {
      "image/png": "[encoded data removed]",
      "text/plain": [
       "<Figure size 1000x800 with 2 Axes>"
      ]
     },
     "metadata": {},
     "output_type": "display_data"
    }
   ],
   "source": [
    "confusion_matrix_cnn = confusion_matrix(y_test_cnn, y_pred_cnn)\n",
    "\n",
    "plt.figure(figsize = (10, 8))\n",
    "\n",
    "confusion_matrix_cnn = pd.DataFrame(confusion_matrix_cnn, \n",
    "                                    index = [x for x in onehot.categories_], \n",
    "                                    columns = [c for c in onehot.categories_])\n",
    "\n",
    "sns.heatmap(confusion_matrix_cnn, \n",
    "            annot = True)\n",
    "\n",
    "plt.title('CNN Confusion Matrix')\n",
    "\n",
    "plt.xlabel('Predicted')\n",
    "\n",
    "plt.ylabel('Actual')\n",
    "\n",
    "plt.show()"
   ]
  },
  {
   "cell_type": "code",
   "execution_count": 35,
   "id": "2bcc0cf9",
   "metadata": {},
   "outputs": [
    {
     "name": "stdout",
     "output_type": "stream",
     "text": [
      "              precision    recall  f1-score   support\n",
      "\n",
      "       Angry       0.99      0.99      0.99       486\n",
      "     Disgust       0.97      0.98      0.98       473\n",
      "        Fear       0.85      0.99      0.91       483\n",
      "       Happy       0.97      0.82      0.89       482\n",
      "     Neutral       1.00      1.00      1.00       488\n",
      "         Sad       1.00      0.99      0.99       479\n",
      "    Surprise       0.98      0.97      0.97       469\n",
      "\n",
      "    accuracy                           0.96      3360\n",
      "   macro avg       0.96      0.96      0.96      3360\n",
      "weighted avg       0.96      0.96      0.96      3360\n",
      "\n"
     ]
    }
   ],
   "source": [
    "print(classification_report(y_test_cnn, y_pred_cnn))"
   ]
  },
  {
   "cell_type": "markdown",
   "id": "afa41244",
   "metadata": {},
   "source": [
    "#### LSTM"
   ]
  },
  {
   "cell_type": "markdown",
   "id": "228f7b12",
   "metadata": {},
   "source": [
    "Long Short-Term Memory Networks"
   ]
  },
  {
   "cell_type": "code",
   "execution_count": 40,
   "id": "44ae93c9",
   "metadata": {
    "scrolled": false
   },
   "outputs": [
    {
     "name": "stdout",
     "output_type": "stream",
     "text": [
      "Model: \"SER-LSTM\"\n",
      "_________________________________________________________________\n",
      " Layer (type)                Output Shape              Param #   \n",
      "=================================================================\n",
      " lstm (LSTM)                 (None, 163, 64)           16896     \n",
      "                                                                 \n",
      " dense (Dense)               (None, 163, 64)           4160      \n",
      "                                                                 \n",
      " dropout (Dropout)           (None, 163, 64)           0         \n",
      "                                                                 \n",
      " flatten (Flatten)           (None, 10432)             0         \n",
      "                                                                 \n",
      " dense_1 (Dense)             (None, 7)                 73031     \n",
      "                                                                 \n",
      "=================================================================\n",
      "Total params: 94,087\n",
      "Trainable params: 94,087\n",
      "Non-trainable params: 0\n",
      "_________________________________________________________________\n"
     ]
    }
   ],
   "source": [
    "model_lstm = keras.Sequential(name = 'SER-LSTM')\n",
    "\n",
    "model_lstm.add(LSTM(units = 64,\n",
    "                    return_sequences = True,\n",
    "                    input_shape = (X_train.shape[1], 1)))\n",
    "\n",
    "model_lstm.add(Dense(units = 64, activation = 'softmax'))\n",
    "\n",
    "model_lstm.add(Dropout(0.2))\n",
    "\n",
    "model_lstm.add(Flatten())\n",
    "\n",
    "model_lstm.add(Dense(units = 7, activation = 'softmax'))\n",
    "\n",
    "model_lstm.summary()"
   ]
  },
  {
   "cell_type": "code",
   "execution_count": 41,
   "id": "4d994fb3",
   "metadata": {},
   "outputs": [],
   "source": [
    "model_lstm.compile(optimizer = 'adam' , \n",
    "              loss = 'categorical_crossentropy' , \n",
    "              metrics = ['categorical_accuracy'])"
   ]
  },
  {
   "cell_type": "code",
   "execution_count": 42,
   "id": "4cb1ed7e",
   "metadata": {},
   "outputs": [
    {
     "name": "stdout",
     "output_type": "stream",
     "text": [
      "Epoch 1/10\n",
      "105/105 [==============================] - 30s 257ms/step - loss: 1.5875 - categorical_accuracy: 0.3864 - val_loss: 1.0926 - val_categorical_accuracy: 0.6226\n",
      "Epoch 2/10\n",
      "105/105 [==============================] - 27s 259ms/step - loss: 0.8717 - categorical_accuracy: 0.6943 - val_loss: 0.7228 - val_categorical_accuracy: 0.7420\n",
      "Epoch 3/10\n",
      "105/105 [==============================] - 29s 277ms/step - loss: 0.6212 - categorical_accuracy: 0.7792 - val_loss: 0.5008 - val_categorical_accuracy: 0.8307\n",
      "Epoch 4/10\n",
      "105/105 [==============================] - 27s 258ms/step - loss: 0.4408 - categorical_accuracy: 0.8516 - val_loss: 0.3582 - val_categorical_accuracy: 0.8854\n",
      "Epoch 5/10\n",
      "105/105 [==============================] - 25s 241ms/step - loss: 0.3412 - categorical_accuracy: 0.8902 - val_loss: 0.2751 - val_categorical_accuracy: 0.9176\n",
      "Epoch 6/10\n",
      "105/105 [==============================] - 25s 241ms/step - loss: 0.2777 - categorical_accuracy: 0.9126 - val_loss: 0.2344 - val_categorical_accuracy: 0.9321\n",
      "Epoch 7/10\n",
      "105/105 [==============================] - 27s 258ms/step - loss: 0.2421 - categorical_accuracy: 0.9225 - val_loss: 0.2023 - val_categorical_accuracy: 0.9408\n",
      "Epoch 8/10\n",
      "105/105 [==============================] - 28s 264ms/step - loss: 0.2141 - categorical_accuracy: 0.9307 - val_loss: 0.1835 - val_categorical_accuracy: 0.9435\n",
      "Epoch 9/10\n",
      "105/105 [==============================] - 22s 213ms/step - loss: 0.1972 - categorical_accuracy: 0.9373 - val_loss: 0.1594 - val_categorical_accuracy: 0.9557\n",
      "Epoch 10/10\n",
      "105/105 [==============================] - 18s 170ms/step - loss: 0.1802 - categorical_accuracy: 0.9431 - val_loss: 0.1476 - val_categorical_accuracy: 0.9577\n"
     ]
    }
   ],
   "source": [
    "history_lstm = model_lstm.fit(X_train, \n",
    "                    y_train,\n",
    "                    batch_size = 128,\n",
    "                    epochs = 10,\n",
    "                    validation_data = (X_test, y_test))"
   ]
  },
  {
   "cell_type": "code",
   "execution_count": 43,
   "id": "f32c719d",
   "metadata": {},
   "outputs": [
    {
     "name": "stdout",
     "output_type": "stream",
     "text": [
      "105/105 [==============================] - 3s 26ms/step - loss: 0.1476 - categorical_accuracy: 0.9577\n",
      "Test loss: 0.1476108580827713\n",
      "Test accuracy: 0.9577381014823914\n"
     ]
    }
   ],
   "source": [
    "score_lstm = model_lstm.evaluate(X_test, y_test)\n",
    "\n",
    "print('Test loss:', score_lstm[0])\n",
    "\n",
    "print('Test accuracy:', score_lstm[1])"
   ]
  },
  {
   "cell_type": "code",
   "execution_count": 44,
   "id": "c80b3089",
   "metadata": {},
   "outputs": [
    {
     "data": {
      "image/png": "[encoded data removed]",
      "text/plain": [
       "<Figure size 600x600 with 1 Axes>"
      ]
     },
     "metadata": {},
     "output_type": "display_data"
    }
   ],
   "source": [
    "plt.figure(figsize = (6, 6))\n",
    "plt.title('LSTM accuracy')\n",
    "\n",
    "plt.plot(history_lstm.history['categorical_accuracy'])\n",
    "plt.plot(history_lstm.history['val_categorical_accuracy'])\n",
    "\n",
    "plt.ylabel('Accuracy')\n",
    "plt.xlabel('Epoch')\n",
    "plt.legend(['Train', 'Validation'], loc = 'upper left')\n",
    "plt.show()"
   ]
  },
  {
   "cell_type": "code",
   "execution_count": 48,
   "id": "c2e31627",
   "metadata": {},
   "outputs": [
    {
     "name": "stdout",
     "output_type": "stream",
     "text": [
      "105/105 [==============================] - 3s 27ms/step\n"
     ]
    }
   ],
   "source": [
    "pred_lstm = model_lstm.predict(X_test)\n",
    "\n",
    "y_pred_lstm = onehot.inverse_transform(pred_lstm)\n",
    "\n",
    "y_test_lstm = onehot.inverse_transform(y_test)"
   ]
  },
  {
   "cell_type": "code",
   "execution_count": 50,
   "id": "0d8c585f",
   "metadata": {},
   "outputs": [
    {
     "data": {
      "text/html": [
       "<div>\n",
       "<style scoped>\n",
       "    .dataframe tbody tr th:only-of-type {\n",
       "        vertical-align: middle;\n",
       "    }\n",
       "\n",
       "    .dataframe tbody tr th {\n",
       "        vertical-align: top;\n",
       "    }\n",
       "\n",
       "    .dataframe thead th {\n",
       "        text-align: right;\n",
       "    }\n",
       "</style>\n",
       "<table border=\"1\" class=\"dataframe\">\n",
       "  <thead>\n",
       "    <tr style=\"text-align: right;\">\n",
       "      <th></th>\n",
       "      <th>Predicted</th>\n",
       "      <th>Actual</th>\n",
       "    </tr>\n",
       "  </thead>\n",
       "  <tbody>\n",
       "    <tr>\n",
       "      <th>0</th>\n",
       "      <td>Fear</td>\n",
       "      <td>Fear</td>\n",
       "    </tr>\n",
       "    <tr>\n",
       "      <th>1</th>\n",
       "      <td>Fear</td>\n",
       "      <td>Fear</td>\n",
       "    </tr>\n",
       "    <tr>\n",
       "      <th>2</th>\n",
       "      <td>Happy</td>\n",
       "      <td>Happy</td>\n",
       "    </tr>\n",
       "    <tr>\n",
       "      <th>3</th>\n",
       "      <td>Sad</td>\n",
       "      <td>Sad</td>\n",
       "    </tr>\n",
       "    <tr>\n",
       "      <th>4</th>\n",
       "      <td>Neutral</td>\n",
       "      <td>Neutral</td>\n",
       "    </tr>\n",
       "    <tr>\n",
       "      <th>5</th>\n",
       "      <td>Fear</td>\n",
       "      <td>Fear</td>\n",
       "    </tr>\n",
       "    <tr>\n",
       "      <th>6</th>\n",
       "      <td>Surprise</td>\n",
       "      <td>Surprise</td>\n",
       "    </tr>\n",
       "    <tr>\n",
       "      <th>7</th>\n",
       "      <td>Sad</td>\n",
       "      <td>Sad</td>\n",
       "    </tr>\n",
       "    <tr>\n",
       "      <th>8</th>\n",
       "      <td>Surprise</td>\n",
       "      <td>Surprise</td>\n",
       "    </tr>\n",
       "    <tr>\n",
       "      <th>9</th>\n",
       "      <td>Sad</td>\n",
       "      <td>Sad</td>\n",
       "    </tr>\n",
       "  </tbody>\n",
       "</table>\n",
       "</div>"
      ],
      "text/plain": [
       "  Predicted    Actual\n",
       "0      Fear      Fear\n",
       "1      Fear      Fear\n",
       "2     Happy     Happy\n",
       "3       Sad       Sad\n",
       "4   Neutral   Neutral\n",
       "5      Fear      Fear\n",
       "6  Surprise  Surprise\n",
       "7       Sad       Sad\n",
       "8  Surprise  Surprise\n",
       "9       Sad       Sad"
      ]
     },
     "execution_count": 50,
     "metadata": {},
     "output_type": "execute_result"
    }
   ],
   "source": [
    "df_lstm = pd.DataFrame(columns = ['Predicted', 'Actual'])\n",
    "\n",
    "df_lstm['Predicted'] = y_pred_lstm.flatten()\n",
    "\n",
    "df_lstm['Actual'] = y_test_lstm.flatten()\n",
    "\n",
    "df_lstm.head(10)"
   ]
  },
  {
   "cell_type": "code",
   "execution_count": 52,
   "id": "21768805",
   "metadata": {},
   "outputs": [
    {
     "data": {
      "image/png": "[encoded data removed]",
      "text/plain": [
       "<Figure size 1000x800 with 2 Axes>"
      ]
     },
     "metadata": {},
     "output_type": "display_data"
    }
   ],
   "source": [
    "confusion_matrix_lstm = confusion_matrix(y_test_lstm, y_pred_lstm)\n",
    "\n",
    "plt.figure(figsize = (10, 8))\n",
    "\n",
    "confusion_matrix_lstm = pd.DataFrame(confusion_matrix_lstm, \n",
    "                                    index = [x for x in onehot.categories_], \n",
    "                                    columns = [c for c in onehot.categories_])\n",
    "\n",
    "sns.heatmap(confusion_matrix_lstm, \n",
    "            annot = True)\n",
    "\n",
    "plt.title('LSTM Confusion Matrix')\n",
    "\n",
    "plt.xlabel('Predicted')\n",
    "\n",
    "plt.ylabel('Actual')\n",
    "\n",
    "plt.show()"
   ]
  },
  {
   "cell_type": "code",
   "execution_count": 53,
   "id": "582e26b2",
   "metadata": {},
   "outputs": [
    {
     "name": "stdout",
     "output_type": "stream",
     "text": [
      "              precision    recall  f1-score   support\n",
      "\n",
      "       Angry       0.99      0.98      0.98       486\n",
      "     Disgust       0.91      0.95      0.93       473\n",
      "        Fear       1.00      0.99      0.99       483\n",
      "       Happy       0.96      0.90      0.93       482\n",
      "     Neutral       0.98      0.97      0.97       488\n",
      "         Sad       0.97      0.98      0.97       479\n",
      "    Surprise       0.90      0.94      0.92       469\n",
      "\n",
      "    accuracy                           0.96      3360\n",
      "   macro avg       0.96      0.96      0.96      3360\n",
      "weighted avg       0.96      0.96      0.96      3360\n",
      "\n"
     ]
    }
   ],
   "source": [
    "print(classification_report(y_test_lstm, y_pred_lstm))"
   ]
  },
  {
   "cell_type": "markdown",
   "id": "ccfc4cdc",
   "metadata": {},
   "source": [
    "#### Transformer"
   ]
  },
  {
   "cell_type": "code",
   "execution_count": 22,
   "id": "8feab7f4",
   "metadata": {},
   "outputs": [],
   "source": [
    "Tess = 'C:/Users/TestUser/OneDrive/Documents/Data Science Capstone/Dataset/TESS Toronto emotional speech set data'"
   ]
  },
  {
   "cell_type": "code",
   "execution_count": 24,
   "id": "fc11f6df",
   "metadata": {},
   "outputs": [],
   "source": [
    "path = []\n",
    "\n",
    "emotion = []\n",
    "\n",
    "directory = os.listdir(Tess)"
   ]
  },
  {
   "cell_type": "code",
   "execution_count": 25,
   "id": "09fdae24",
   "metadata": {},
   "outputs": [],
   "source": [
    "for i in directory:\n",
    "    \n",
    "    folder = os.listdir(Tess + '/' + i)      \n",
    "    \n",
    "    for k in folder:\n",
    "        \n",
    "        if i == 'OAF_angry' or i == 'YAF_angry':\n",
    "            emotion.append('Angry')\n",
    "        elif i == 'OAF_disgust' or i == 'YAF_disgust':\n",
    "            emotion.append('Disgust')\n",
    "        elif i == 'OAF_Fear' or i == 'YAF_fear':\n",
    "            emotion.append('Fear')\n",
    "        elif i == 'OAF_happy' or i == 'YAF_happy':\n",
    "            emotion.append('Happy')\n",
    "        elif i == 'OAF_neutral' or i == 'YAF_neutral':\n",
    "            emotion.append('Neutral')                                \n",
    "        elif i == 'OAF_Pleasant_surprise' or i == 'YAF_pleasant_surprised':\n",
    "            emotion.append('Surprise')               \n",
    "        elif i == 'OAF_Sad' or i == 'YAF_sad':\n",
    "            emotion.append('Sad')\n",
    "        else:\n",
    "            emotion.append('Unknown')\n",
    "        path.append(Tess + \"/\" + i + \"/\" + k)"
   ]
  },
  {
   "cell_type": "code",
   "execution_count": 26,
   "id": "dda3d7d3",
   "metadata": {},
   "outputs": [],
   "source": [
    "Tess_df = pd.DataFrame(emotion, columns = ['Emotions'])\n",
    "\n",
    "Tess_df = pd.concat([Tess_df, pd.DataFrame(path, columns = ['Path'])], axis = 1)"
   ]
  },
  {
   "cell_type": "code",
   "execution_count": 29,
   "id": "a70edad3",
   "metadata": {},
   "outputs": [
    {
     "data": {
      "text/html": [
       "\n",
       "                <audio  controls=\"controls\" >\n",
       "                    <source src=\"data:audio/wav;base64,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\" type=\"audio/wav\" />\n",
       "                    Your browser does not support the audio element.\n",
       "                </audio>\n",
       "              "
      ],
      "text/plain": [
       "<IPython.lib.display.Audio object>"
      ]
     },
     "execution_count": 29,
     "metadata": {},
     "output_type": "execute_result"
    }
   ],
   "source": [
    "emotion = 'Angry'\n",
    "\n",
    "path = np.array(Tess_df['Path'][Tess_df['Emotions'] == emotion])[0]\n",
    "\n",
    "array, sampling_rate = librosa.load(path)\n",
    "\n",
    "IPython.display.Audio(path)"
   ]
  },
  {
   "cell_type": "code",
   "execution_count": 31,
   "id": "00850335",
   "metadata": {},
   "outputs": [],
   "source": [
    "wave, sample_rate = torchaudio.load(path)\n",
    "\n",
    "wave = wave.to(device)\n",
    "\n",
    "if sample_rate != bundle.sample_rate:\n",
    "    \n",
    "    wave = torchaudio.functional.resample(wave, sample_rate, bundle.sample_rate)"
   ]
  },
  {
   "cell_type": "code",
   "execution_count": 32,
   "id": "a27ad7fc",
   "metadata": {},
   "outputs": [],
   "source": [
    "with torch.inference_mode():\n",
    "    \n",
    "    emission, _ = model(wave)"
   ]
  },
  {
   "cell_type": "code",
   "execution_count": 34,
   "id": "ecb87dda",
   "metadata": {},
   "outputs": [],
   "source": [
    "class Decoder(torch.nn.Module):\n",
    "    \n",
    "    def __init__(self, labels, blank = 0):\n",
    "        \n",
    "        super().__init__()\n",
    "        \n",
    "        self.labels = labels\n",
    "        \n",
    "        self.blank = blank\n",
    "\n",
    "        # Given a sequence emission over labels, get the best path string\n",
    "    def forward(self, emission: torch.Tensor) == str:\n",
    "\n",
    "        indices = torch.argmax(emission, dim = -1) \n",
    "        \n",
    "        indices = torch.unique_consecutive(indices, dim = -1)\n",
    "        \n",
    "        indices = [i for i in indices if i != self.blank]\n",
    "        \n",
    "        # The resulting transcript\n",
    "        return \"\".join([self.labels[i] for i in indices])   "
   ]
  },
  {
   "cell_type": "code",
   "execution_count": 35,
   "id": "b5bc96d2",
   "metadata": {},
   "outputs": [],
   "source": [
    "decoder = Decoder(labels = bundle.get_labels())\n",
    "\n",
    "transcript = decoder(emission[0])"
   ]
  },
  {
   "cell_type": "code",
   "execution_count": 36,
   "id": "9bd54bb0",
   "metadata": {
    "scrolled": true
   },
   "outputs": [
    {
     "name": "stdout",
     "output_type": "stream",
     "text": [
      "SAY|THE|WORD|BACK|\n"
     ]
    },
    {
     "data": {
      "text/html": [
       "\n",
       "                <audio  controls=\"controls\" >\n",
       "                    <source src=\"data:audio/wav;base64,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\" type=\"audio/wav\" />\n",
       "                    Your browser does not support the audio element.\n",
       "                </audio>\n",
       "              "
      ],
      "text/plain": [
       "<IPython.lib.display.Audio object>"
      ]
     },
     "execution_count": 36,
     "metadata": {},
     "output_type": "execute_result"
    }
   ],
   "source": [
    "print(transcript)\n",
    "\n",
    "IPython.display.Audio(path)"
   ]
  },
  {
   "cell_type": "code",
   "execution_count": null,
   "id": "43effed1",
   "metadata": {},
   "outputs": [],
   "source": []
  },
  {
   "cell_type": "code",
   "execution_count": null,
   "id": "16cc2807",
   "metadata": {},
   "outputs": [],
   "source": []
  },
  {
   "cell_type": "code",
   "execution_count": null,
   "id": "8e595d51",
   "metadata": {},
   "outputs": [],
   "source": []
  },
  {
   "cell_type": "code",
   "execution_count": null,
   "id": "5b1f3fc7",
   "metadata": {},
   "outputs": [],
   "source": []
  },
  {
   "cell_type": "code",
   "execution_count": null,
   "id": "82e4ecf6",
   "metadata": {},
   "outputs": [],
   "source": []
  },
  {
   "cell_type": "code",
   "execution_count": null,
   "id": "682a7b37",
   "metadata": {},
   "outputs": [],
   "source": []
  },
  {
   "cell_type": "code",
   "execution_count": null,
   "id": "e2ad47de",
   "metadata": {},
   "outputs": [],
   "source": []
  },
  {
   "cell_type": "code",
   "execution_count": null,
   "id": "96a2b4ba",
   "metadata": {},
   "outputs": [],
   "source": []
  },
  {
   "cell_type": "markdown",
   "id": "5fd7543d",
   "metadata": {},
   "source": [
    "#### VGG16"
   ]
  },
  {
   "cell_type": "code",
   "execution_count": 42,
   "id": "d12ac5a2",
   "metadata": {},
   "outputs": [
    {
     "name": "stdout",
     "output_type": "stream",
     "text": [
      "Model: \"SER-VGG16\"\n",
      "_________________________________________________________________\n",
      " Layer (type)                Output Shape              Param #   \n",
      "=================================================================\n",
      " vgg19 (Functional)          (None, 4, 5, 512)         20023232  \n",
      "                                                                 \n",
      " flatten_3 (Flatten)         (None, 10240)             0         \n",
      "                                                                 \n",
      " dense_6 (Dense)             (None, 7)                 71687     \n",
      "                                                                 \n",
      "=================================================================\n",
      "Total params: 20,094,919\n",
      "Trainable params: 20,094,919\n",
      "Non-trainable params: 0\n",
      "_________________________________________________________________\n"
     ]
    }
   ],
   "source": [
    "model_vgg16 = keras.Sequential(name = 'SER-VGG16')\n",
    "\n",
    "model_vgg16.add(VGG19(\n",
    "    include_top = False,\n",
    "    weights = None,\n",
    "    input_tensor = None,\n",
    "    input_shape = (128, 163, 1),\n",
    "    pooling = None,\n",
    "    classes = 7,\n",
    "    classifier_activation = 'softmax'\n",
    "))\n",
    "\n",
    "model_vgg16.add(Flatten())\n",
    "\n",
    "model_vgg16.add(Dense(units = 7, activation = 'softmax'))\n",
    "\n",
    "model_vgg16.summary()"
   ]
  },
  {
   "cell_type": "code",
   "execution_count": 43,
   "id": "cd8fc324",
   "metadata": {},
   "outputs": [],
   "source": [
    "model_vgg16.compile(optimizer = 'adam' , \n",
    "              loss = 'categorical_crossentropy' , \n",
    "              metrics = ['categorical_accuracy'])"
   ]
  },
  {
   "cell_type": "code",
   "execution_count": 44,
   "id": "dc66f3d0",
   "metadata": {},
   "outputs": [
    {
     "name": "stdout",
     "output_type": "stream",
     "text": [
      "Epoch 1/10\n"
     ]
    },
    {
     "ename": "ValueError",
     "evalue": "in user code:\n\n    File \"C:\\Users\\TestUser\\AppData\\Roaming\\Python\\Python39\\site-packages\\keras\\engine\\training.py\", line 1249, in train_function  *\n        return step_function(self, iterator)\n    File \"C:\\Users\\TestUser\\AppData\\Roaming\\Python\\Python39\\site-packages\\keras\\engine\\training.py\", line 1233, in step_function  **\n        outputs = model.distribute_strategy.run(run_step, args=(data,))\n    File \"C:\\Users\\TestUser\\AppData\\Roaming\\Python\\Python39\\site-packages\\keras\\engine\\training.py\", line 1222, in run_step  **\n        outputs = model.train_step(data)\n    File \"C:\\Users\\TestUser\\AppData\\Roaming\\Python\\Python39\\site-packages\\keras\\engine\\training.py\", line 1023, in train_step\n        y_pred = self(x, training=True)\n    File \"C:\\Users\\TestUser\\AppData\\Roaming\\Python\\Python39\\site-packages\\keras\\utils\\traceback_utils.py\", line 70, in error_handler\n        raise e.with_traceback(filtered_tb) from None\n    File \"C:\\Users\\TestUser\\AppData\\Roaming\\Python\\Python39\\site-packages\\keras\\engine\\input_spec.py\", line 295, in assert_input_compatibility\n        raise ValueError(\n\n    ValueError: Input 0 of layer \"SER-VGG16\" is incompatible with the layer: expected shape=(None, 128, 163, 1), found shape=(128, 163, 1)\n",
     "output_type": "error",
     "traceback": [
      "\u001b[1;31m---------------------------------------------------------------------------\u001b[0m",
      "\u001b[1;31mValueError\u001b[0m                                Traceback (most recent call last)",
      "\u001b[1;32m~\\AppData\\Local\\Temp\\ipykernel_6288\\3005554301.py\u001b[0m in \u001b[0;36m<module>\u001b[1;34m\u001b[0m\n\u001b[1;32m----> 1\u001b[1;33m history_vgg16 = model_vgg16.fit(X_train, \n\u001b[0m\u001b[0;32m      2\u001b[0m                     \u001b[0my_train\u001b[0m\u001b[1;33m,\u001b[0m\u001b[1;33m\u001b[0m\u001b[1;33m\u001b[0m\u001b[0m\n\u001b[0;32m      3\u001b[0m                     \u001b[0mbatch_size\u001b[0m \u001b[1;33m=\u001b[0m \u001b[1;36m128\u001b[0m\u001b[1;33m,\u001b[0m\u001b[1;33m\u001b[0m\u001b[1;33m\u001b[0m\u001b[0m\n\u001b[0;32m      4\u001b[0m                     \u001b[0mepochs\u001b[0m \u001b[1;33m=\u001b[0m \u001b[1;36m10\u001b[0m\u001b[1;33m,\u001b[0m\u001b[1;33m\u001b[0m\u001b[1;33m\u001b[0m\u001b[0m\n\u001b[0;32m      5\u001b[0m                     validation_data = (X_test, y_test))\n",
      "\u001b[1;32m~\\AppData\\Roaming\\Python\\Python39\\site-packages\\keras\\utils\\traceback_utils.py\u001b[0m in \u001b[0;36merror_handler\u001b[1;34m(*args, **kwargs)\u001b[0m\n\u001b[0;32m     68\u001b[0m             \u001b[1;31m# To get the full stack trace, call:\u001b[0m\u001b[1;33m\u001b[0m\u001b[1;33m\u001b[0m\u001b[0m\n\u001b[0;32m     69\u001b[0m             \u001b[1;31m# `tf.debugging.disable_traceback_filtering()`\u001b[0m\u001b[1;33m\u001b[0m\u001b[1;33m\u001b[0m\u001b[0m\n\u001b[1;32m---> 70\u001b[1;33m             \u001b[1;32mraise\u001b[0m \u001b[0me\u001b[0m\u001b[1;33m.\u001b[0m\u001b[0mwith_traceback\u001b[0m\u001b[1;33m(\u001b[0m\u001b[0mfiltered_tb\u001b[0m\u001b[1;33m)\u001b[0m \u001b[1;32mfrom\u001b[0m \u001b[1;32mNone\u001b[0m\u001b[1;33m\u001b[0m\u001b[1;33m\u001b[0m\u001b[0m\n\u001b[0m\u001b[0;32m     71\u001b[0m         \u001b[1;32mfinally\u001b[0m\u001b[1;33m:\u001b[0m\u001b[1;33m\u001b[0m\u001b[1;33m\u001b[0m\u001b[0m\n\u001b[0;32m     72\u001b[0m             \u001b[1;32mdel\u001b[0m \u001b[0mfiltered_tb\u001b[0m\u001b[1;33m\u001b[0m\u001b[1;33m\u001b[0m\u001b[0m\n",
      "\u001b[1;32m~\\AppData\\Roaming\\Python\\Python39\\site-packages\\keras\\engine\\training.py\u001b[0m in \u001b[0;36mtf__train_function\u001b[1;34m(iterator)\u001b[0m\n\u001b[0;32m     13\u001b[0m                 \u001b[1;32mtry\u001b[0m\u001b[1;33m:\u001b[0m\u001b[1;33m\u001b[0m\u001b[1;33m\u001b[0m\u001b[0m\n\u001b[0;32m     14\u001b[0m                     \u001b[0mdo_return\u001b[0m \u001b[1;33m=\u001b[0m \u001b[1;32mTrue\u001b[0m\u001b[1;33m\u001b[0m\u001b[1;33m\u001b[0m\u001b[0m\n\u001b[1;32m---> 15\u001b[1;33m                     \u001b[0mretval_\u001b[0m \u001b[1;33m=\u001b[0m \u001b[0mag__\u001b[0m\u001b[1;33m.\u001b[0m\u001b[0mconverted_call\u001b[0m\u001b[1;33m(\u001b[0m\u001b[0mag__\u001b[0m\u001b[1;33m.\u001b[0m\u001b[0mld\u001b[0m\u001b[1;33m(\u001b[0m\u001b[0mstep_function\u001b[0m\u001b[1;33m)\u001b[0m\u001b[1;33m,\u001b[0m \u001b[1;33m(\u001b[0m\u001b[0mag__\u001b[0m\u001b[1;33m.\u001b[0m\u001b[0mld\u001b[0m\u001b[1;33m(\u001b[0m\u001b[0mself\u001b[0m\u001b[1;33m)\u001b[0m\u001b[1;33m,\u001b[0m \u001b[0mag__\u001b[0m\u001b[1;33m.\u001b[0m\u001b[0mld\u001b[0m\u001b[1;33m(\u001b[0m\u001b[0miterator\u001b[0m\u001b[1;33m)\u001b[0m\u001b[1;33m)\u001b[0m\u001b[1;33m,\u001b[0m \u001b[1;32mNone\u001b[0m\u001b[1;33m,\u001b[0m \u001b[0mfscope\u001b[0m\u001b[1;33m)\u001b[0m\u001b[1;33m\u001b[0m\u001b[1;33m\u001b[0m\u001b[0m\n\u001b[0m\u001b[0;32m     16\u001b[0m                 \u001b[1;32mexcept\u001b[0m\u001b[1;33m:\u001b[0m\u001b[1;33m\u001b[0m\u001b[1;33m\u001b[0m\u001b[0m\n\u001b[0;32m     17\u001b[0m                     \u001b[0mdo_return\u001b[0m \u001b[1;33m=\u001b[0m \u001b[1;32mFalse\u001b[0m\u001b[1;33m\u001b[0m\u001b[1;33m\u001b[0m\u001b[0m\n",
      "\u001b[1;31mValueError\u001b[0m: in user code:\n\n    File \"C:\\Users\\TestUser\\AppData\\Roaming\\Python\\Python39\\site-packages\\keras\\engine\\training.py\", line 1249, in train_function  *\n        return step_function(self, iterator)\n    File \"C:\\Users\\TestUser\\AppData\\Roaming\\Python\\Python39\\site-packages\\keras\\engine\\training.py\", line 1233, in step_function  **\n        outputs = model.distribute_strategy.run(run_step, args=(data,))\n    File \"C:\\Users\\TestUser\\AppData\\Roaming\\Python\\Python39\\site-packages\\keras\\engine\\training.py\", line 1222, in run_step  **\n        outputs = model.train_step(data)\n    File \"C:\\Users\\TestUser\\AppData\\Roaming\\Python\\Python39\\site-packages\\keras\\engine\\training.py\", line 1023, in train_step\n        y_pred = self(x, training=True)\n    File \"C:\\Users\\TestUser\\AppData\\Roaming\\Python\\Python39\\site-packages\\keras\\utils\\traceback_utils.py\", line 70, in error_handler\n        raise e.with_traceback(filtered_tb) from None\n    File \"C:\\Users\\TestUser\\AppData\\Roaming\\Python\\Python39\\site-packages\\keras\\engine\\input_spec.py\", line 295, in assert_input_compatibility\n        raise ValueError(\n\n    ValueError: Input 0 of layer \"SER-VGG16\" is incompatible with the layer: expected shape=(None, 128, 163, 1), found shape=(128, 163, 1)\n"
     ]
    }
   ],
   "source": [
    "history_vgg16 = model_vgg16.fit(X_train, \n",
    "                    y_train,\n",
    "                    batch_size = 128,\n",
    "                    epochs = 10,\n",
    "                    validation_data = (X_test, y_test))"
   ]
  },
  {
   "cell_type": "markdown",
   "id": "4580eb61",
   "metadata": {},
   "source": [
    "#### GoogLeNet"
   ]
  },
  {
   "cell_type": "markdown",
   "id": "0175974f",
   "metadata": {},
   "source": [
    "Create an Inception block."
   ]
  },
  {
   "cell_type": "code",
   "execution_count": null,
   "id": "45fefcb2",
   "metadata": {},
   "outputs": [],
   "source": [
    "def Inception_block(input_layer, f1, f2_conv1, f2_conv3, f3_conv1, f3_conv5, f4): \n",
    "  # Input: \n",
    "  # - f1: number of filters of the 1x1 convolutional layer in the first path\n",
    "  # - f2_conv1, f2_conv3 are number of filters corresponding to the 1x1 and 3x3 convolutional layers in the second path\n",
    "  # - f3_conv1, f3_conv5 are the number of filters corresponding to the 1x1 and 5x5  convolutional layer in the third path\n",
    "  # - f4: number of filters of the 1x1 convolutional layer in the fourth path\n",
    "\n",
    "  # 1st path:\n",
    "    path1 = Conv2D(filters = f1, kernel_size = (1, 1), padding = 'same', activation = 'relu')(input_layer)\n",
    "    \n",
    "  # 2nd path:\n",
    "    path2 = Conv2D(filters = f2_conv1, kernel_size = (1, 1), padding = 'same', activation = 'relu')(input_layer)\n",
    "    path2 = Conv2D(filters = f2_conv3, kernel_size = (3, 3), padding = 'same', activation = 'relu')(path2)\n",
    "\n",
    "  # 3rd path\n",
    "    path3 = Conv2D(filters = f3_conv1, kernel_size = (1, 1), padding = 'same', activation = 'relu')(input_layer)\n",
    "    path3 = Conv2D(filters = f3_conv5, kernel_size = (4, 4), padding = 'same', activation = 'relu')(path3)\n",
    "\n",
    "  # 4th path\n",
    "    path4 = MaxPooling2D((3,3), strides= (1,1), padding = 'same')(input_layer)\n",
    "    path4 = Conv2D(filters = f4, kernel_size = (1,1), padding = 'same', activation = 'relu')(path4)\n",
    "\n",
    "    output_layer = concatenate([path1, path2, path3, path4], axis = -1)\n",
    "\n",
    "    return output_layer"
   ]
  },
  {
   "cell_type": "code",
   "execution_count": null,
   "id": "aca8ab2b",
   "metadata": {},
   "outputs": [],
   "source": [
    "model_googlenet = keras.Sequential(name = 'SER-GoogLeNet')\n",
    "\n",
    "model_googlenet.add(Conv2D(filters = 64, \n",
    "                 kernel_size = (7, 7), \n",
    "                 strides = 2, \n",
    "                 padding = 'valid', \n",
    "                 activation = 'relu', \n",
    "                 input_shape = (X_train.shape)))\n",
    "\n",
    "model_googlenet.add(MaxPooling2D(pool_size = (3, 3), strides = 2))\n",
    "\n",
    "model_googlenet.add(Conv2D(filters = 64, kernel_size = (1, 1), strides = 1, padding = 'same', activation = 'relu')) \n",
    "\n",
    "model_googlenet.add(Conv2D(filters = 192, kernel_size = (3, 3), padding = 'same', activation = 'relu'))\n",
    "          \n",
    "model_googlenet.add(MaxPooling2D(pool_size = (3, 3), strides = 2))\n",
    "\n",
    "model_googlenet.add(Inception_block(X, f1 = 64, f2_conv1 = 96, f2_conv3 = 128, f3_conv1 = 16, f3_conv5 = 32, f4 = 32))\n",
    "          \n",
    "model_googlenet.add(Inception_block(X, f1 = 128, f2_conv1 = 128, f2_conv3 = 192, f3_conv1 = 32, f3_conv5 = 96, f4 = 64))\n",
    "\n",
    "model_googlenet.add(MaxPooling2D(pool_size = (3, 3), strides = 2))\n",
    "          \n",
    "model_googlenet.add(Inception_block(X, f1 = 192, f2_conv1 = 96, f2_conv3 = 208, f3_conv1 = 16, f3_conv5 = 48, f4 = 64))\n",
    "          \n",
    "model_googlenet.add(AveragePooling2D(pool_size = (5, 5), strides = 3))\n",
    "          \n",
    "model_googlenet.add(Conv2D(filters = 128, kernel_size = (1, 1), padding = 'same', activation = 'relu'))\n",
    "\n",
    "model_googlenet.add(Flatten())\n",
    "\n",
    "model_googlenet.add(Dense(1024, activation = 'relu'))\n",
    "\n",
    "model_googlenet.add(Dropout(0.7))\n",
    "\n",
    "model_googlenet.add(Dense(5, activation = 'softmax'))\n",
    "\n",
    "model_googlenet.add(Inception_block(X, f1 = 160, f2_conv1 = 112, f2_conv3 = 224, f3_conv1 = 24, f3_conv5 = 64, f4 = 64))\n",
    "\n",
    "model_googlenet.add(Inception_block(X, f1 = 128, f2_conv1 = 128, f2_conv3 = 256, f3_conv1 = 24, f3_conv5 = 64, f4 = 64))\n",
    "\n",
    "model_googlenet.add(Inception_block(X, f1 = 112, f2_conv1 = 144, f2_conv3 = 288, f3_conv1 = 32, f3_conv5 = 64, f4 = 64))\n",
    "\n",
    "model_googlenet.add(AveragePooling2D(pool_size = (5,5), strides = 3))\n",
    "\n",
    "model_googlenet.add(Conv2D(filters = 128, kernel_size = (1,1), padding = 'same', activation = 'relu'))\n",
    "\n",
    "model_googlenet.add(Flatten())\n",
    "\n",
    "model_googlenet.add(Dense(1024, activation = 'relu'))\n",
    "\n",
    "model_googlenet.add(Dropout(0.7))\n",
    "\n",
    "model_googlenet.add(Dense(1000, activation = 'softmax'))\n",
    "\n",
    "model_googlenet.add(Inception_block(X, f1 = 256, f2_conv1 = 160, f2_conv3 = 320, f3_conv1 = 32, f3_conv5 = 128, f4 = 128))\n",
    "\n",
    "model_googlenet.add(MaxPooling2D(pool_size = (3,3), strides = 2))\n",
    "\n",
    "model_googlenet.add(Inception_block(X, f1 = 256, f2_conv1 = 160, f2_conv3 = 320, f3_conv1 = 32, f3_conv5 = 128, f4 = 128))\n",
    "\n",
    "model_googlenet.add(Inception_block(X, f1 = 384, f2_conv1 = 192, f2_conv3 = 384, f3_conv1 = 48, f3_conv5 = 128, f4 = 128))\n",
    "\n",
    "model_googlenet.add(GlobalAveragePooling2D(name = 'GAPL'))\n",
    "\n",
    "model_googlenet.add(Dropout(0.4))\n",
    "          \n",
    "model_googlenet.add(Dense(units = 7, activation = 'sigmoid'))\n",
    "          \n",
    "model_googlenet.summary()"
   ]
  },
  {
   "cell_type": "code",
   "execution_count": null,
   "id": "03b23179",
   "metadata": {},
   "outputs": [],
   "source": [
    "model_googlenet = GoogLeNet()"
   ]
  },
  {
   "cell_type": "code",
   "execution_count": null,
   "id": "e111a207",
   "metadata": {},
   "outputs": [],
   "source": [
    "model_googlenet.summary()"
   ]
  },
  {
   "cell_type": "code",
   "execution_count": null,
   "id": "6a00a323",
   "metadata": {},
   "outputs": [],
   "source": [
    "model_googlenet.compile(optimizer = 'adam' , \n",
    "              loss = 'categorical_crossentropy' , \n",
    "              metrics = ['categorical_accuracy'])"
   ]
  },
  {
   "cell_type": "code",
   "execution_count": null,
   "id": "fe78f40b",
   "metadata": {
    "scrolled": false
   },
   "outputs": [],
   "source": [
    "history_lstm = model_googlenet.fit(X_train, \n",
    "                    y_train,\n",
    "                    batch_size = 128,\n",
    "                    epochs = 10,\n",
    "                    validation_data = (X_test, y_test))"
   ]
  },
  {
   "cell_type": "code",
   "execution_count": null,
   "id": "32d5caea",
   "metadata": {},
   "outputs": [],
   "source": [
    "score_googlenet = model_googlenet.evaluate(X_test, y_test)\n",
    "\n",
    "print('Test loss:', score_googlenet[0])\n",
    "\n",
    "print('Test accuracy:', score_googlenet[1])"
   ]
  },
  {
   "cell_type": "markdown",
   "id": "dac7732f",
   "metadata": {},
   "source": [
    "#### AlexNet"
   ]
  },
  {
   "cell_type": "code",
   "execution_count": null,
   "id": "0fee7368",
   "metadata": {},
   "outputs": [],
   "source": [
    "model_alexnet = keras.Sequential(name = 'SER-AlexNet')\n",
    "\n",
    "# 1st Layer\n",
    "model_alexnet.add(Conv2D(filters = 96, \n",
    "                   input_shape = (X_train.shape[1], 1), \n",
    "                   kernel_size = (11, 11), \n",
    "                   strides = (3, 3), \n",
    "                   padding = 'same'))\n",
    "\n",
    "model_alexnet.add(BatchNormalization())\n",
    "\n",
    "model_alexnet.add(Activation('relu'))\n",
    "\n",
    "model_alexnet.add(MaxPooling2D(pool_size = (2, 2), \n",
    "                               strides = (2, 2), \n",
    "                               padding = 'same'))\n",
    "\n",
    "# 2nd Layer\n",
    "\n",
    "model_alexnet.add(Conv2D(filters = 256, \n",
    "                         kernel_size = (5, 5), \n",
    "                         strides =(1, 1), \n",
    "                         padding = 'same'))\n",
    "\n",
    "model_alexnet.add(BatchNormalization())\n",
    "\n",
    "model_alexnet.add(Activation('relu'))\n",
    "\n",
    "model_alexnet.add(MaxPooling2D(pool_size = (2, 2), \n",
    "                               strides = (2, 2), \n",
    "                               padding = 'same'))\n",
    "\n",
    "# 3rd Layer\n",
    "\n",
    "model_alexnet.add(Conv2D(filters = 384, \n",
    "                         kernel_size = (3, 3), \n",
    "                         strides = (1, 1), \n",
    "                         padding = 'same'))\n",
    "\n",
    "model_alexnet.add(BatchNormalization())\n",
    "\n",
    "model_alexnet.add(Activation('relu'))\n",
    "\n",
    "# 4th Layer\n",
    "\n",
    "model_alexnet.add(Conv2D(filters = 384, \n",
    "                         kernel_size = (3, 3), \n",
    "                         strides = (1, 1), \n",
    "                         padding = 'same'))\n",
    "\n",
    "model_alexnet.add(BatchNormalization())\n",
    "\n",
    "model_alexnet.add(Activation('relu'))\n",
    "\n",
    "# 5th Layer\n",
    "\n",
    "model_alexnet.add(Conv2D(filters = 256, \n",
    "                         kernel_size = (3, 3), \n",
    "                         strides = (1, 1), \n",
    "                         padding = 'same'))\n",
    "\n",
    "model_alexnet.add(BatchNormalization())\n",
    "\n",
    "model_alexnet.add(Activation('relu'))\n",
    "\n",
    "model_alexnet.add(MaxPooling2D(pool_size = (2, 2), \n",
    "                               strides = (2, 2), \n",
    "                               padding = 'same'))\n",
    "\n",
    "model_alexnet.add(Flatten())\n",
    "\n",
    "# 1st Connected Layer\n",
    "\n",
    "model_alexnet.add(Dense(4096, \n",
    "                        input_shape = (X_train.shape[1], 1)))\n",
    "\n",
    "model_alexnet.add(BatchNormalization())\n",
    "\n",
    "model_alexnet.add(Activation('relu'))\n",
    "\n",
    "model_alexnet.add(Dropout(0.4))\n",
    "\n",
    "# 2nd Connected Layer\n",
    "\n",
    "model_alexnet.add(Dense(4096))\n",
    "\n",
    "model_alexnet.add(BatchNormalization()) \n",
    "\n",
    "model_alexnet.add(Activation('relu'))\n",
    "\n",
    "model_alexnet.add(Dropout(0.4))\n",
    "\n",
    "# 3rd Connected Layer\n",
    "\n",
    "model_alexnet.add(Dense(1000))\n",
    "\n",
    "model_alexnet.add(BatchNormalization())\n",
    "\n",
    "model_alexnet.add(Activation('relu'))\n",
    "\n",
    "model_alexnet.add(Dropout(0.4))\n",
    "\n",
    "# Output Layer\n",
    "\n",
    "model_alexnet.add(Dense(7))\n",
    "\n",
    "model_alexnet.add(BatchNormalization())\n",
    "\n",
    "model_alexnet.add(Activation('softmax'))\n",
    "\n",
    "# Summary\n",
    "\n",
    "model_alexnet.summary()"
   ]
  }
 ],
 "metadata": {
  "kernelspec": {
   "display_name": "Python 3 (ipykernel)",
   "language": "python",
   "name": "python3"
  },
  "language_info": {
   "codemirror_mode": {
    "name": "ipython",
    "version": 3
   },
   "file_extension": ".py",
   "mimetype": "text/x-python",
   "name": "python",
   "nbconvert_exporter": "python",
   "pygments_lexer": "ipython3",
   "version": "3.9.13"
  }
 },
 "nbformat": 4,
 "nbformat_minor": 5
}
