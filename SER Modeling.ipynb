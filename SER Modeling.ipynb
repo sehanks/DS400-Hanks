{
 "cells": [
  {
   "cell_type": "markdown",
   "id": "04ed96d1",
   "metadata": {},
   "source": [
    "# Speech Emotion Recognition Modeling"
   ]
  },
  {
   "cell_type": "markdown",
   "id": "9c6ee7b2",
   "metadata": {},
   "source": [
    "### Import necessary libraries"
   ]
  },
  {
   "cell_type": "code",
   "execution_count": 1,
   "id": "3c08f69d",
   "metadata": {},
   "outputs": [
    {
     "name": "stderr",
     "output_type": "stream",
     "text": [
      "C:\\Users\\TestUser\\anaconda3\\lib\\site-packages\\paramiko\\transport.py:219: CryptographyDeprecationWarning: Blowfish has been deprecated\n",
      "  \"class\": algorithms.Blowfish,\n"
     ]
    }
   ],
   "source": [
    "import os\n",
    "import numpy as np\n",
    "import pandas as pd\n",
    "import matplotlib.pyplot as plt\n",
    "import seaborn as sns\n",
    "\n",
    "import IPython\n",
    "import librosa # librosa is a Python library for analyzing audio and music used to extract the data from audio files it later\n",
    "import librosa.display\n",
    "from IPython.display import Audio # to play the audio files\n",
    "plt.style.use('seaborn-white')\n",
    "from python_speech_features import mfcc\n",
    "\n",
    "from sklearn.preprocessing import StandardScaler, OneHotEncoder\n",
    "from sklearn.metrics import confusion_matrix, classification_report\n",
    "from sklearn.model_selection import train_test_split\n",
    "\n",
    "from os.path import dirname, join as pjoin\n",
    "from scipy.io import wavfile\n",
    "import scipy.io\n",
    "\n",
    "from keras.layers import Input, Conv2D, MaxPooling2D, AveragePooling2D, Flatten, GlobalAveragePooling2D, Dense, Dropout, Conv1D, MaxPooling1D, BatchNormalization\n",
    "from keras.layers import concatenate\n",
    "from keras.models import Model\n",
    "from keras.layers.normalization import layer_normalization\n",
    "from tensorflow.keras.models import Sequential\n",
    "from keras.callbacks import ReduceLROnPlateau\n",
    "from tensorflow.keras.layers import LSTM\n",
    "from keras.applications.vgg19 import VGG19\n",
    "import tensorflow as tf\n",
    "from tensorflow import keras\n",
    "from tensorflow.keras import layers\n",
    "from keras.models import Sequential\n",
    "from keras.utils import np_utils, to_categorical\n",
    "\n",
    "from sklearn.preprocessing import StandardScaler, OneHotEncoder\n",
    "from sklearn.metrics import confusion_matrix, classification_report\n",
    "from sklearn.model_selection import train_test_split"
   ]
  },
  {
   "cell_type": "markdown",
   "id": "7e1cab3a",
   "metadata": {},
   "source": [
    "### Read csv file"
   ]
  },
  {
   "cell_type": "code",
   "execution_count": 2,
   "id": "5756254c",
   "metadata": {},
   "outputs": [
    {
     "data": {
      "text/html": [
       "<div>\n",
       "<style scoped>\n",
       "    .dataframe tbody tr th:only-of-type {\n",
       "        vertical-align: middle;\n",
       "    }\n",
       "\n",
       "    .dataframe tbody tr th {\n",
       "        vertical-align: top;\n",
       "    }\n",
       "\n",
       "    .dataframe thead th {\n",
       "        text-align: right;\n",
       "    }\n",
       "</style>\n",
       "<table border=\"1\" class=\"dataframe\">\n",
       "  <thead>\n",
       "    <tr style=\"text-align: right;\">\n",
       "      <th></th>\n",
       "      <th>0</th>\n",
       "      <th>1</th>\n",
       "      <th>2</th>\n",
       "      <th>3</th>\n",
       "      <th>4</th>\n",
       "      <th>5</th>\n",
       "      <th>6</th>\n",
       "      <th>7</th>\n",
       "      <th>8</th>\n",
       "      <th>9</th>\n",
       "      <th>...</th>\n",
       "      <th>154</th>\n",
       "      <th>155</th>\n",
       "      <th>156</th>\n",
       "      <th>157</th>\n",
       "      <th>158</th>\n",
       "      <th>159</th>\n",
       "      <th>160</th>\n",
       "      <th>161</th>\n",
       "      <th>162</th>\n",
       "      <th>labels</th>\n",
       "    </tr>\n",
       "  </thead>\n",
       "  <tbody>\n",
       "    <tr>\n",
       "      <th>0</th>\n",
       "      <td>-399.535004</td>\n",
       "      <td>76.428391</td>\n",
       "      <td>-23.082157</td>\n",
       "      <td>-18.684132</td>\n",
       "      <td>1.685362</td>\n",
       "      <td>15.067113</td>\n",
       "      <td>-21.209391</td>\n",
       "      <td>-5.796458</td>\n",
       "      <td>-6.386797</td>\n",
       "      <td>3.003888</td>\n",
       "      <td>...</td>\n",
       "      <td>0.434596</td>\n",
       "      <td>0.412372</td>\n",
       "      <td>0.373666</td>\n",
       "      <td>0.568295</td>\n",
       "      <td>0.573150</td>\n",
       "      <td>0.404191</td>\n",
       "      <td>0.469243</td>\n",
       "      <td>0.525294</td>\n",
       "      <td>1487.683221</td>\n",
       "      <td>Angry</td>\n",
       "    </tr>\n",
       "    <tr>\n",
       "      <th>1</th>\n",
       "      <td>-163.356796</td>\n",
       "      <td>16.288073</td>\n",
       "      <td>-4.017271</td>\n",
       "      <td>-9.704623</td>\n",
       "      <td>-1.823467</td>\n",
       "      <td>0.891731</td>\n",
       "      <td>-2.793187</td>\n",
       "      <td>-5.654695</td>\n",
       "      <td>-3.320916</td>\n",
       "      <td>-0.029738</td>\n",
       "      <td>...</td>\n",
       "      <td>0.683682</td>\n",
       "      <td>0.668844</td>\n",
       "      <td>0.519446</td>\n",
       "      <td>0.654436</td>\n",
       "      <td>0.713587</td>\n",
       "      <td>0.593206</td>\n",
       "      <td>0.615255</td>\n",
       "      <td>0.660334</td>\n",
       "      <td>4569.698260</td>\n",
       "      <td>Angry</td>\n",
       "    </tr>\n",
       "    <tr>\n",
       "      <th>2</th>\n",
       "      <td>-412.039398</td>\n",
       "      <td>77.262421</td>\n",
       "      <td>-32.583839</td>\n",
       "      <td>-24.591434</td>\n",
       "      <td>4.346249</td>\n",
       "      <td>9.090682</td>\n",
       "      <td>-26.384003</td>\n",
       "      <td>-4.067521</td>\n",
       "      <td>-6.408696</td>\n",
       "      <td>4.251380</td>\n",
       "      <td>...</td>\n",
       "      <td>0.351096</td>\n",
       "      <td>0.422755</td>\n",
       "      <td>0.433503</td>\n",
       "      <td>0.356062</td>\n",
       "      <td>0.580109</td>\n",
       "      <td>0.609401</td>\n",
       "      <td>0.420695</td>\n",
       "      <td>0.462002</td>\n",
       "      <td>1686.632515</td>\n",
       "      <td>Angry</td>\n",
       "    </tr>\n",
       "    <tr>\n",
       "      <th>3</th>\n",
       "      <td>-431.256287</td>\n",
       "      <td>75.581871</td>\n",
       "      <td>-25.508471</td>\n",
       "      <td>-20.642477</td>\n",
       "      <td>1.065045</td>\n",
       "      <td>14.736607</td>\n",
       "      <td>-22.362364</td>\n",
       "      <td>-6.727914</td>\n",
       "      <td>-6.420148</td>\n",
       "      <td>3.231606</td>\n",
       "      <td>...</td>\n",
       "      <td>0.413919</td>\n",
       "      <td>0.406536</td>\n",
       "      <td>0.359708</td>\n",
       "      <td>0.557236</td>\n",
       "      <td>0.573689</td>\n",
       "      <td>0.396855</td>\n",
       "      <td>0.461476</td>\n",
       "      <td>0.535765</td>\n",
       "      <td>1548.812463</td>\n",
       "      <td>Angry</td>\n",
       "    </tr>\n",
       "    <tr>\n",
       "      <th>4</th>\n",
       "      <td>-391.680115</td>\n",
       "      <td>94.263718</td>\n",
       "      <td>-27.733862</td>\n",
       "      <td>-28.800610</td>\n",
       "      <td>-2.881231</td>\n",
       "      <td>13.102319</td>\n",
       "      <td>-28.031700</td>\n",
       "      <td>-10.077882</td>\n",
       "      <td>-9.727766</td>\n",
       "      <td>2.450062</td>\n",
       "      <td>...</td>\n",
       "      <td>0.425077</td>\n",
       "      <td>0.347824</td>\n",
       "      <td>0.328270</td>\n",
       "      <td>0.633562</td>\n",
       "      <td>0.555491</td>\n",
       "      <td>0.397686</td>\n",
       "      <td>0.483802</td>\n",
       "      <td>0.523931</td>\n",
       "      <td>1539.644752</td>\n",
       "      <td>Angry</td>\n",
       "    </tr>\n",
       "  </tbody>\n",
       "</table>\n",
       "<p>5 rows × 164 columns</p>\n",
       "</div>"
      ],
      "text/plain": [
       "            0          1          2          3         4          5  \\\n",
       "0 -399.535004  76.428391 -23.082157 -18.684132  1.685362  15.067113   \n",
       "1 -163.356796  16.288073  -4.017271  -9.704623 -1.823467   0.891731   \n",
       "2 -412.039398  77.262421 -32.583839 -24.591434  4.346249   9.090682   \n",
       "3 -431.256287  75.581871 -25.508471 -20.642477  1.065045  14.736607   \n",
       "4 -391.680115  94.263718 -27.733862 -28.800610 -2.881231  13.102319   \n",
       "\n",
       "           6          7         8         9  ...       154       155  \\\n",
       "0 -21.209391  -5.796458 -6.386797  3.003888  ...  0.434596  0.412372   \n",
       "1  -2.793187  -5.654695 -3.320916 -0.029738  ...  0.683682  0.668844   \n",
       "2 -26.384003  -4.067521 -6.408696  4.251380  ...  0.351096  0.422755   \n",
       "3 -22.362364  -6.727914 -6.420148  3.231606  ...  0.413919  0.406536   \n",
       "4 -28.031700 -10.077882 -9.727766  2.450062  ...  0.425077  0.347824   \n",
       "\n",
       "        156       157       158       159       160       161          162  \\\n",
       "0  0.373666  0.568295  0.573150  0.404191  0.469243  0.525294  1487.683221   \n",
       "1  0.519446  0.654436  0.713587  0.593206  0.615255  0.660334  4569.698260   \n",
       "2  0.433503  0.356062  0.580109  0.609401  0.420695  0.462002  1686.632515   \n",
       "3  0.359708  0.557236  0.573689  0.396855  0.461476  0.535765  1548.812463   \n",
       "4  0.328270  0.633562  0.555491  0.397686  0.483802  0.523931  1539.644752   \n",
       "\n",
       "   labels  \n",
       "0   Angry  \n",
       "1   Angry  \n",
       "2   Angry  \n",
       "3   Angry  \n",
       "4   Angry  \n",
       "\n",
       "[5 rows x 164 columns]"
      ]
     },
     "execution_count": 2,
     "metadata": {},
     "output_type": "execute_result"
    }
   ],
   "source": [
    "feat = pd.read_csv('feat.csv')\n",
    "\n",
    "feat.head()"
   ]
  },
  {
   "cell_type": "markdown",
   "id": "0a5d69fb",
   "metadata": {},
   "source": [
    "### Data Preparation"
   ]
  },
  {
   "cell_type": "code",
   "execution_count": 3,
   "id": "8724c942",
   "metadata": {},
   "outputs": [],
   "source": [
    "X = feat.drop(['labels'], axis = 1)\n",
    "\n",
    "y = feat['labels']"
   ]
  },
  {
   "cell_type": "code",
   "execution_count": 4,
   "id": "29055902",
   "metadata": {},
   "outputs": [
    {
     "data": {
      "text/html": [
       "<div>\n",
       "<style scoped>\n",
       "    .dataframe tbody tr th:only-of-type {\n",
       "        vertical-align: middle;\n",
       "    }\n",
       "\n",
       "    .dataframe tbody tr th {\n",
       "        vertical-align: top;\n",
       "    }\n",
       "\n",
       "    .dataframe thead th {\n",
       "        text-align: right;\n",
       "    }\n",
       "</style>\n",
       "<table border=\"1\" class=\"dataframe\">\n",
       "  <thead>\n",
       "    <tr style=\"text-align: right;\">\n",
       "      <th></th>\n",
       "      <th>0</th>\n",
       "      <th>1</th>\n",
       "      <th>2</th>\n",
       "      <th>3</th>\n",
       "      <th>4</th>\n",
       "      <th>5</th>\n",
       "      <th>6</th>\n",
       "      <th>7</th>\n",
       "      <th>8</th>\n",
       "      <th>9</th>\n",
       "      <th>...</th>\n",
       "      <th>153</th>\n",
       "      <th>154</th>\n",
       "      <th>155</th>\n",
       "      <th>156</th>\n",
       "      <th>157</th>\n",
       "      <th>158</th>\n",
       "      <th>159</th>\n",
       "      <th>160</th>\n",
       "      <th>161</th>\n",
       "      <th>162</th>\n",
       "    </tr>\n",
       "  </thead>\n",
       "  <tbody>\n",
       "    <tr>\n",
       "      <th>0</th>\n",
       "      <td>-399.535004</td>\n",
       "      <td>76.428391</td>\n",
       "      <td>-23.082157</td>\n",
       "      <td>-18.684132</td>\n",
       "      <td>1.685362</td>\n",
       "      <td>15.067113</td>\n",
       "      <td>-21.209391</td>\n",
       "      <td>-5.796458</td>\n",
       "      <td>-6.386797</td>\n",
       "      <td>3.003888</td>\n",
       "      <td>...</td>\n",
       "      <td>0.362415</td>\n",
       "      <td>0.434596</td>\n",
       "      <td>0.412372</td>\n",
       "      <td>0.373666</td>\n",
       "      <td>0.568295</td>\n",
       "      <td>0.573150</td>\n",
       "      <td>0.404191</td>\n",
       "      <td>0.469243</td>\n",
       "      <td>0.525294</td>\n",
       "      <td>1487.683221</td>\n",
       "    </tr>\n",
       "    <tr>\n",
       "      <th>1</th>\n",
       "      <td>-163.356796</td>\n",
       "      <td>16.288073</td>\n",
       "      <td>-4.017271</td>\n",
       "      <td>-9.704623</td>\n",
       "      <td>-1.823467</td>\n",
       "      <td>0.891731</td>\n",
       "      <td>-2.793187</td>\n",
       "      <td>-5.654695</td>\n",
       "      <td>-3.320916</td>\n",
       "      <td>-0.029738</td>\n",
       "      <td>...</td>\n",
       "      <td>0.624722</td>\n",
       "      <td>0.683682</td>\n",
       "      <td>0.668844</td>\n",
       "      <td>0.519446</td>\n",
       "      <td>0.654436</td>\n",
       "      <td>0.713587</td>\n",
       "      <td>0.593206</td>\n",
       "      <td>0.615255</td>\n",
       "      <td>0.660334</td>\n",
       "      <td>4569.698260</td>\n",
       "    </tr>\n",
       "    <tr>\n",
       "      <th>2</th>\n",
       "      <td>-412.039398</td>\n",
       "      <td>77.262421</td>\n",
       "      <td>-32.583839</td>\n",
       "      <td>-24.591434</td>\n",
       "      <td>4.346249</td>\n",
       "      <td>9.090682</td>\n",
       "      <td>-26.384003</td>\n",
       "      <td>-4.067521</td>\n",
       "      <td>-6.408696</td>\n",
       "      <td>4.251380</td>\n",
       "      <td>...</td>\n",
       "      <td>0.424115</td>\n",
       "      <td>0.351096</td>\n",
       "      <td>0.422755</td>\n",
       "      <td>0.433503</td>\n",
       "      <td>0.356062</td>\n",
       "      <td>0.580109</td>\n",
       "      <td>0.609401</td>\n",
       "      <td>0.420695</td>\n",
       "      <td>0.462002</td>\n",
       "      <td>1686.632515</td>\n",
       "    </tr>\n",
       "    <tr>\n",
       "      <th>3</th>\n",
       "      <td>-431.256287</td>\n",
       "      <td>75.581871</td>\n",
       "      <td>-25.508471</td>\n",
       "      <td>-20.642477</td>\n",
       "      <td>1.065045</td>\n",
       "      <td>14.736607</td>\n",
       "      <td>-22.362364</td>\n",
       "      <td>-6.727914</td>\n",
       "      <td>-6.420148</td>\n",
       "      <td>3.231606</td>\n",
       "      <td>...</td>\n",
       "      <td>0.346212</td>\n",
       "      <td>0.413919</td>\n",
       "      <td>0.406536</td>\n",
       "      <td>0.359708</td>\n",
       "      <td>0.557236</td>\n",
       "      <td>0.573689</td>\n",
       "      <td>0.396855</td>\n",
       "      <td>0.461476</td>\n",
       "      <td>0.535765</td>\n",
       "      <td>1548.812463</td>\n",
       "    </tr>\n",
       "    <tr>\n",
       "      <th>4</th>\n",
       "      <td>-391.680115</td>\n",
       "      <td>94.263718</td>\n",
       "      <td>-27.733862</td>\n",
       "      <td>-28.800610</td>\n",
       "      <td>-2.881231</td>\n",
       "      <td>13.102319</td>\n",
       "      <td>-28.031700</td>\n",
       "      <td>-10.077882</td>\n",
       "      <td>-9.727766</td>\n",
       "      <td>2.450062</td>\n",
       "      <td>...</td>\n",
       "      <td>0.326723</td>\n",
       "      <td>0.425077</td>\n",
       "      <td>0.347824</td>\n",
       "      <td>0.328270</td>\n",
       "      <td>0.633562</td>\n",
       "      <td>0.555491</td>\n",
       "      <td>0.397686</td>\n",
       "      <td>0.483802</td>\n",
       "      <td>0.523931</td>\n",
       "      <td>1539.644752</td>\n",
       "    </tr>\n",
       "  </tbody>\n",
       "</table>\n",
       "<p>5 rows × 163 columns</p>\n",
       "</div>"
      ],
      "text/plain": [
       "            0          1          2          3         4          5  \\\n",
       "0 -399.535004  76.428391 -23.082157 -18.684132  1.685362  15.067113   \n",
       "1 -163.356796  16.288073  -4.017271  -9.704623 -1.823467   0.891731   \n",
       "2 -412.039398  77.262421 -32.583839 -24.591434  4.346249   9.090682   \n",
       "3 -431.256287  75.581871 -25.508471 -20.642477  1.065045  14.736607   \n",
       "4 -391.680115  94.263718 -27.733862 -28.800610 -2.881231  13.102319   \n",
       "\n",
       "           6          7         8         9  ...       153       154  \\\n",
       "0 -21.209391  -5.796458 -6.386797  3.003888  ...  0.362415  0.434596   \n",
       "1  -2.793187  -5.654695 -3.320916 -0.029738  ...  0.624722  0.683682   \n",
       "2 -26.384003  -4.067521 -6.408696  4.251380  ...  0.424115  0.351096   \n",
       "3 -22.362364  -6.727914 -6.420148  3.231606  ...  0.346212  0.413919   \n",
       "4 -28.031700 -10.077882 -9.727766  2.450062  ...  0.326723  0.425077   \n",
       "\n",
       "        155       156       157       158       159       160       161  \\\n",
       "0  0.412372  0.373666  0.568295  0.573150  0.404191  0.469243  0.525294   \n",
       "1  0.668844  0.519446  0.654436  0.713587  0.593206  0.615255  0.660334   \n",
       "2  0.422755  0.433503  0.356062  0.580109  0.609401  0.420695  0.462002   \n",
       "3  0.406536  0.359708  0.557236  0.573689  0.396855  0.461476  0.535765   \n",
       "4  0.347824  0.328270  0.633562  0.555491  0.397686  0.483802  0.523931   \n",
       "\n",
       "           162  \n",
       "0  1487.683221  \n",
       "1  4569.698260  \n",
       "2  1686.632515  \n",
       "3  1548.812463  \n",
       "4  1539.644752  \n",
       "\n",
       "[5 rows x 163 columns]"
      ]
     },
     "execution_count": 4,
     "metadata": {},
     "output_type": "execute_result"
    }
   ],
   "source": [
    "X.head()"
   ]
  },
  {
   "cell_type": "code",
   "execution_count": 5,
   "id": "f9a6cb84",
   "metadata": {},
   "outputs": [
    {
     "data": {
      "text/plain": [
       "Angry       2400\n",
       "Disgust     2400\n",
       "Fear        2400\n",
       "Happy       2400\n",
       "Neutral     2400\n",
       "Surprise    2400\n",
       "Sad         2400\n",
       "Name: labels, dtype: int64"
      ]
     },
     "execution_count": 5,
     "metadata": {},
     "output_type": "execute_result"
    }
   ],
   "source": [
    "y.value_counts()"
   ]
  },
  {
   "cell_type": "code",
   "execution_count": 6,
   "id": "13e6bf6f",
   "metadata": {},
   "outputs": [
    {
     "data": {
      "text/plain": [
       "0    Angry\n",
       "1    Angry\n",
       "2    Angry\n",
       "3    Angry\n",
       "4    Angry\n",
       "Name: labels, dtype: object"
      ]
     },
     "execution_count": 6,
     "metadata": {},
     "output_type": "execute_result"
    }
   ],
   "source": [
    "y.head()"
   ]
  },
  {
   "cell_type": "markdown",
   "id": "b984976b",
   "metadata": {},
   "source": [
    "This is a multiclass classification problem so I must onehot encode y"
   ]
  },
  {
   "cell_type": "code",
   "execution_count": 7,
   "id": "516a39cc",
   "metadata": {},
   "outputs": [
    {
     "data": {
      "text/plain": [
       "array([[1., 0., 0., ..., 0., 0., 0.],\n",
       "       [1., 0., 0., ..., 0., 0., 0.],\n",
       "       [1., 0., 0., ..., 0., 0., 0.],\n",
       "       ...,\n",
       "       [0., 0., 0., ..., 0., 1., 0.],\n",
       "       [0., 0., 0., ..., 0., 1., 0.],\n",
       "       [0., 0., 0., ..., 0., 1., 0.]])"
      ]
     },
     "execution_count": 7,
     "metadata": {},
     "output_type": "execute_result"
    }
   ],
   "source": [
    "onehot = OneHotEncoder()\n",
    "\n",
    "np_onehot = np.array(y).reshape(-1, 1)\n",
    "\n",
    "y = onehot.fit_transform(np_onehot).toarray()\n",
    "\n",
    "y"
   ]
  },
  {
   "cell_type": "markdown",
   "id": "74376b7f",
   "metadata": {},
   "source": [
    "Train, test, split"
   ]
  },
  {
   "cell_type": "code",
   "execution_count": 8,
   "id": "2fc1524e",
   "metadata": {},
   "outputs": [],
   "source": [
    "X_train, X_test, y_train, y_test = train_test_split(X, y, test_size = 0.2, random_state = 101)"
   ]
  },
  {
   "cell_type": "code",
   "execution_count": 9,
   "id": "f65f4ce7",
   "metadata": {},
   "outputs": [
    {
     "data": {
      "text/plain": [
       "((13440, 163), (13440, 7), (3360, 163), (3360, 7))"
      ]
     },
     "execution_count": 9,
     "metadata": {},
     "output_type": "execute_result"
    }
   ],
   "source": [
    "X_train.shape, y_train.shape, X_test.shape, y_test.shape"
   ]
  },
  {
   "cell_type": "markdown",
   "id": "70c63eab",
   "metadata": {},
   "source": [
    "Scale the data using Standard Scaler"
   ]
  },
  {
   "cell_type": "code",
   "execution_count": 10,
   "id": "75ebfe10",
   "metadata": {},
   "outputs": [],
   "source": [
    "sc = StandardScaler()\n",
    "\n",
    "X_train = sc.fit_transform(X_train)\n",
    "\n",
    "X_test = sc.transform(X_test)"
   ]
  },
  {
   "cell_type": "markdown",
   "id": "425e7a2b",
   "metadata": {},
   "source": [
    "Insert a new axis that will appear at the axis position in the expanded array shape to make data suitable to model."
   ]
  },
  {
   "cell_type": "code",
   "execution_count": 11,
   "id": "697c6d4c",
   "metadata": {},
   "outputs": [
    {
     "data": {
      "text/plain": [
       "((13440, 163, 1), (13440, 7), (3360, 163, 1), (3360, 7))"
      ]
     },
     "execution_count": 11,
     "metadata": {},
     "output_type": "execute_result"
    }
   ],
   "source": [
    "X_train = np.expand_dims(X_train, axis = 2)\n",
    "\n",
    "X_test = np.expand_dims(X_test, axis = 2)\n",
    "\n",
    "X_train.shape, y_train.shape, X_test.shape, y_test.shape"
   ]
  },
  {
   "cell_type": "markdown",
   "id": "9a7f087a",
   "metadata": {},
   "source": [
    "### Modeling"
   ]
  },
  {
   "cell_type": "markdown",
   "id": "75eb7e85",
   "metadata": {},
   "source": [
    "#### CNN"
   ]
  },
  {
   "cell_type": "markdown",
   "id": "100131c1",
   "metadata": {},
   "source": [
    "Create an sequential CNN model"
   ]
  },
  {
   "cell_type": "code",
   "execution_count": 12,
   "id": "1acfbf9e",
   "metadata": {},
   "outputs": [
    {
     "name": "stdout",
     "output_type": "stream",
     "text": [
      "Model: \"SER-CNN\"\n",
      "_________________________________________________________________\n",
      " Layer (type)                Output Shape              Param #   \n",
      "=================================================================\n",
      " conv1d (Conv1D)             (None, 163, 256)          1536      \n",
      "                                                                 \n",
      " max_pooling1d (MaxPooling1D  (None, 82, 256)          0         \n",
      " )                                                               \n",
      "                                                                 \n",
      " conv1d_1 (Conv1D)           (None, 82, 256)           327936    \n",
      "                                                                 \n",
      " max_pooling1d_1 (MaxPooling  (None, 41, 256)          0         \n",
      " 1D)                                                             \n",
      "                                                                 \n",
      " conv1d_2 (Conv1D)           (None, 41, 256)           327936    \n",
      "                                                                 \n",
      " max_pooling1d_2 (MaxPooling  (None, 21, 256)          0         \n",
      " 1D)                                                             \n",
      "                                                                 \n",
      " conv1d_3 (Conv1D)           (None, 21, 256)           327936    \n",
      "                                                                 \n",
      " max_pooling1d_3 (MaxPooling  (None, 11, 256)          0         \n",
      " 1D)                                                             \n",
      "                                                                 \n",
      " flatten (Flatten)           (None, 2816)              0         \n",
      "                                                                 \n",
      " dense (Dense)               (None, 32)                90144     \n",
      "                                                                 \n",
      " dropout (Dropout)           (None, 32)                0         \n",
      "                                                                 \n",
      " dense_1 (Dense)             (None, 7)                 231       \n",
      "                                                                 \n",
      "=================================================================\n",
      "Total params: 1,075,719\n",
      "Trainable params: 1,075,719\n",
      "Non-trainable params: 0\n",
      "_________________________________________________________________\n"
     ]
    }
   ],
   "source": [
    "model_cnn = keras.Sequential(name = 'SER-CNN')\n",
    "\n",
    "model_cnn.add(Conv1D(filters = 256, \n",
    "                 kernel_size = 5, \n",
    "                 strides = 1, \n",
    "                 padding = 'same', \n",
    "                 activation = 'relu', \n",
    "                 input_shape = (X_train.shape[1], 1)))\n",
    "model_cnn.add(MaxPooling1D(pool_size = 5, \n",
    "                       strides = 2, \n",
    "                       padding = 'same'))\n",
    "\n",
    "model_cnn.add(Conv1D(filters = 256, \n",
    "                 kernel_size = 5, \n",
    "                 strides = 1, \n",
    "                 padding = 'same', \n",
    "                 activation = 'relu')) \n",
    "model_cnn.add(MaxPooling1D(pool_size = 5, \n",
    "                       strides = 2, \n",
    "                       padding = 'same'))\n",
    "          \n",
    "model_cnn.add(Conv1D(filters = 256, \n",
    "                 kernel_size = 5, \n",
    "                 strides = 1, \n",
    "                 padding = 'same', \n",
    "                 activation = 'relu'))\n",
    "model_cnn.add(MaxPooling1D(pool_size = 5, \n",
    "                       strides = 2, \n",
    "                       padding = 'same'))\n",
    "          \n",
    "model_cnn.add(Conv1D(filters = 256, \n",
    "                 kernel_size = 5, \n",
    "                 strides = 1, \n",
    "                 padding = 'same', \n",
    "                 activation = 'relu'))\n",
    "model_cnn.add(MaxPooling1D(pool_size = 5, \n",
    "                       strides = 2, \n",
    "                       padding = 'same'))\n",
    "          \n",
    "model_cnn.add(Flatten())\n",
    "          \n",
    "model_cnn.add(Dense(units = 32, activation = 'relu'))\n",
    "          \n",
    "model_cnn.add(Dropout(0.3))\n",
    "          \n",
    "model_cnn.add(Dense(units = 7, activation = 'sigmoid'))\n",
    "          \n",
    "model_cnn.summary()"
   ]
  },
  {
   "cell_type": "code",
   "execution_count": 13,
   "id": "eafdf8b9",
   "metadata": {},
   "outputs": [],
   "source": [
    "model_cnn.compile(optimizer = 'adam' , \n",
    "              loss = 'categorical_crossentropy' , \n",
    "              metrics = ['categorical_accuracy'])"
   ]
  },
  {
   "cell_type": "code",
   "execution_count": 14,
   "id": "acf82a7b",
   "metadata": {},
   "outputs": [
    {
     "name": "stdout",
     "output_type": "stream",
     "text": [
      "Epoch 1/10\n",
      "105/105 [==============================] - 31s 276ms/step - loss: 1.0358 - categorical_accuracy: 0.6057 - val_loss: 0.3390 - val_categorical_accuracy: 0.8872\n",
      "Epoch 2/10\n",
      "105/105 [==============================] - 31s 292ms/step - loss: 0.4049 - categorical_accuracy: 0.8612 - val_loss: 0.1326 - val_categorical_accuracy: 0.9574\n",
      "Epoch 3/10\n",
      "105/105 [==============================] - 31s 291ms/step - loss: 0.2587 - categorical_accuracy: 0.9107 - val_loss: 0.1164 - val_categorical_accuracy: 0.9574\n",
      "Epoch 4/10\n",
      "105/105 [==============================] - 30s 291ms/step - loss: 0.1825 - categorical_accuracy: 0.9365 - val_loss: 0.1068 - val_categorical_accuracy: 0.9646\n",
      "Epoch 5/10\n",
      "105/105 [==============================] - 30s 290ms/step - loss: 0.1430 - categorical_accuracy: 0.9478 - val_loss: 0.0691 - val_categorical_accuracy: 0.9783\n",
      "Epoch 6/10\n",
      "105/105 [==============================] - 31s 299ms/step - loss: 0.1393 - categorical_accuracy: 0.9535 - val_loss: 0.0509 - val_categorical_accuracy: 0.9839\n",
      "Epoch 7/10\n",
      "105/105 [==============================] - 30s 288ms/step - loss: 0.1275 - categorical_accuracy: 0.9555 - val_loss: 0.0434 - val_categorical_accuracy: 0.9848\n",
      "Epoch 8/10\n",
      "105/105 [==============================] - 33s 317ms/step - loss: 0.0851 - categorical_accuracy: 0.9709 - val_loss: 0.0526 - val_categorical_accuracy: 0.9860\n",
      "Epoch 9/10\n",
      "105/105 [==============================] - 33s 312ms/step - loss: 0.0833 - categorical_accuracy: 0.9688 - val_loss: 0.0427 - val_categorical_accuracy: 0.9842\n",
      "Epoch 10/10\n",
      "105/105 [==============================] - 30s 288ms/step - loss: 0.0899 - categorical_accuracy: 0.9694 - val_loss: 0.0505 - val_categorical_accuracy: 0.9854\n"
     ]
    }
   ],
   "source": [
    "history_cnn = model_cnn.fit(X_train, \n",
    "                    y_train,\n",
    "                    batch_size = 128,\n",
    "                    epochs = 10,\n",
    "                    validation_data = (X_test, y_test))"
   ]
  },
  {
   "cell_type": "code",
   "execution_count": 15,
   "id": "2bf56442",
   "metadata": {},
   "outputs": [
    {
     "name": "stdout",
     "output_type": "stream",
     "text": [
      "105/105 [==============================] - 2s 22ms/step - loss: 0.0505 - categorical_accuracy: 0.9854\n",
      "Test loss: 0.05049525573849678\n",
      "Test accuracy: 0.9854166507720947\n"
     ]
    }
   ],
   "source": [
    "score_cnn = model_cnn.evaluate(X_test, y_test)\n",
    "\n",
    "print('Test loss:', score_cnn[0])\n",
    "\n",
    "print('Test accuracy:', score_cnn[1])"
   ]
  },
  {
   "cell_type": "code",
   "execution_count": 16,
   "id": "e1f0f7ca",
   "metadata": {},
   "outputs": [
    {
     "data": {
      "image/png": "[encoded data removed]",
      "text/plain": [
       "<Figure size 600x600 with 1 Axes>"
      ]
     },
     "metadata": {},
     "output_type": "display_data"
    }
   ],
   "source": [
    "plt.figure(figsize = (6, 6))\n",
    "plt.title('CNN accuracy')\n",
    "\n",
    "plt.plot(history_cnn.history['categorical_accuracy'])\n",
    "plt.plot(history_cnn.history['val_categorical_accuracy'])\n",
    "\n",
    "plt.ylabel('Accuracy')\n",
    "plt.xlabel('Epoch')\n",
    "plt.legend(['Train', 'Validation'], loc = 'upper left')\n",
    "plt.show()"
   ]
  },
  {
   "cell_type": "markdown",
   "id": "afa41244",
   "metadata": {},
   "source": [
    "#### LSTM"
   ]
  },
  {
   "cell_type": "markdown",
   "id": "228f7b12",
   "metadata": {},
   "source": [
    "Long Short-Term Memory Networks"
   ]
  },
  {
   "cell_type": "code",
   "execution_count": 17,
   "id": "44ae93c9",
   "metadata": {},
   "outputs": [
    {
     "name": "stdout",
     "output_type": "stream",
     "text": [
      "Model: \"SER-LSTM\"\n",
      "_________________________________________________________________\n",
      " Layer (type)                Output Shape              Param #   \n",
      "=================================================================\n",
      " lstm (LSTM)                 (None, 163, 64)           16896     \n",
      "                                                                 \n",
      " dense_2 (Dense)             (None, 163, 64)           4160      \n",
      "                                                                 \n",
      " dropout_1 (Dropout)         (None, 163, 64)           0         \n",
      "                                                                 \n",
      " flatten_1 (Flatten)         (None, 10432)             0         \n",
      "                                                                 \n",
      " dense_3 (Dense)             (None, 7)                 73031     \n",
      "                                                                 \n",
      "=================================================================\n",
      "Total params: 94,087\n",
      "Trainable params: 94,087\n",
      "Non-trainable params: 0\n",
      "_________________________________________________________________\n"
     ]
    }
   ],
   "source": [
    "model_lstm = keras.Sequential(name = 'SER-LSTM')\n",
    "\n",
    "model_lstm.add(LSTM(units = 64,\n",
    "                    return_sequences = True,\n",
    "                    input_shape = (X_train.shape[1], 1)))\n",
    "\n",
    "model_lstm.add(Dense(units = 64, activation = 'softmax'))\n",
    "\n",
    "model_lstm.add(Dropout(0.2))\n",
    "\n",
    "model_lstm.add(Flatten())\n",
    "\n",
    "model_lstm.add(Dense(units = 7, activation = 'softmax'))\n",
    "\n",
    "model_lstm.summary()"
   ]
  },
  {
   "cell_type": "code",
   "execution_count": 18,
   "id": "4d994fb3",
   "metadata": {},
   "outputs": [],
   "source": [
    "model_lstm.compile(optimizer = 'adam' , \n",
    "              loss = 'categorical_crossentropy' , \n",
    "              metrics = ['categorical_accuracy'])"
   ]
  },
  {
   "cell_type": "code",
   "execution_count": 19,
   "id": "4cb1ed7e",
   "metadata": {},
   "outputs": [
    {
     "name": "stdout",
     "output_type": "stream",
     "text": [
      "Epoch 1/10\n",
      "105/105 [==============================] - 32s 275ms/step - loss: 1.5784 - categorical_accuracy: 0.3830 - val_loss: 1.1634 - val_categorical_accuracy: 0.5949\n",
      "Epoch 2/10\n",
      "105/105 [==============================] - 22s 206ms/step - loss: 0.9032 - categorical_accuracy: 0.6885 - val_loss: 0.7045 - val_categorical_accuracy: 0.7589\n",
      "Epoch 3/10\n",
      "105/105 [==============================] - 24s 226ms/step - loss: 0.5845 - categorical_accuracy: 0.7946 - val_loss: 0.4560 - val_categorical_accuracy: 0.8449\n",
      "Epoch 4/10\n",
      "105/105 [==============================] - 33s 320ms/step - loss: 0.4369 - categorical_accuracy: 0.8549 - val_loss: 0.3576 - val_categorical_accuracy: 0.8810\n",
      "Epoch 5/10\n",
      "105/105 [==============================] - 36s 344ms/step - loss: 0.3502 - categorical_accuracy: 0.8851 - val_loss: 0.3008 - val_categorical_accuracy: 0.9042\n",
      "Epoch 6/10\n",
      "105/105 [==============================] - 36s 341ms/step - loss: 0.2942 - categorical_accuracy: 0.9044 - val_loss: 0.2378 - val_categorical_accuracy: 0.9348\n",
      "Epoch 7/10\n",
      "105/105 [==============================] - 32s 303ms/step - loss: 0.2476 - categorical_accuracy: 0.9218 - val_loss: 0.2038 - val_categorical_accuracy: 0.9440\n",
      "Epoch 8/10\n",
      "105/105 [==============================] - 35s 335ms/step - loss: 0.2150 - categorical_accuracy: 0.9337 - val_loss: 0.1769 - val_categorical_accuracy: 0.9506\n",
      "Epoch 9/10\n",
      "105/105 [==============================] - 32s 308ms/step - loss: 0.1901 - categorical_accuracy: 0.9420 - val_loss: 0.1533 - val_categorical_accuracy: 0.9565\n",
      "Epoch 10/10\n",
      "105/105 [==============================] - 20s 191ms/step - loss: 0.1738 - categorical_accuracy: 0.9461 - val_loss: 0.1434 - val_categorical_accuracy: 0.9592\n"
     ]
    }
   ],
   "source": [
    "history_lstm = model_lstm.fit(X_train, \n",
    "                    y_train,\n",
    "                    batch_size = 128,\n",
    "                    epochs = 10,\n",
    "                    validation_data = (X_test, y_test))"
   ]
  },
  {
   "cell_type": "code",
   "execution_count": 20,
   "id": "f32c719d",
   "metadata": {},
   "outputs": [
    {
     "name": "stdout",
     "output_type": "stream",
     "text": [
      "105/105 [==============================] - 3s 27ms/step - loss: 0.1434 - categorical_accuracy: 0.9592\n",
      "Test loss: 0.14338749647140503\n",
      "Test accuracy: 0.9592261910438538\n"
     ]
    }
   ],
   "source": [
    "score_lstm = model_lstm.evaluate(X_test, y_test)\n",
    "\n",
    "print('Test loss:', score_lstm[0])\n",
    "\n",
    "print('Test accuracy:', score_lstm[1])"
   ]
  },
  {
   "cell_type": "code",
   "execution_count": 21,
   "id": "c80b3089",
   "metadata": {},
   "outputs": [
    {
     "data": {
      "image/png": "[encoded data removed]",
      "text/plain": [
       "<Figure size 600x600 with 1 Axes>"
      ]
     },
     "metadata": {},
     "output_type": "display_data"
    }
   ],
   "source": [
    "plt.figure(figsize = (6, 6))\n",
    "plt.title('LSTM accuracy')\n",
    "\n",
    "plt.plot(history_lstm.history['categorical_accuracy'])\n",
    "plt.plot(history_lstm.history['val_categorical_accuracy'])\n",
    "\n",
    "plt.ylabel('Accuracy')\n",
    "plt.xlabel('Epoch')\n",
    "plt.legend(['Train', 'Validation'], loc = 'upper left')\n",
    "plt.show()"
   ]
  },
  {
   "cell_type": "markdown",
   "id": "5fd7543d",
   "metadata": {},
   "source": [
    "#### VGG16"
   ]
  },
  {
   "cell_type": "code",
   "execution_count": 25,
   "id": "d12ac5a2",
   "metadata": {},
   "outputs": [
    {
     "name": "stdout",
     "output_type": "stream",
     "text": [
      "Model: \"SER-VGG16\"\n",
      "_________________________________________________________________\n",
      " Layer (type)                Output Shape              Param #   \n",
      "=================================================================\n",
      " vgg19 (Functional)          (None, 4, 5, 512)         20023232  \n",
      "                                                                 \n",
      " flatten_3 (Flatten)         (None, 10240)             0         \n",
      "                                                                 \n",
      " dense_7 (Dense)             (None, 7)                 71687     \n",
      "                                                                 \n",
      "=================================================================\n",
      "Total params: 20,094,919\n",
      "Trainable params: 20,094,919\n",
      "Non-trainable params: 0\n",
      "_________________________________________________________________\n"
     ]
    }
   ],
   "source": [
    "model_vgg16 = keras.Sequential(name = 'SER-VGG16')\n",
    "\n",
    "model_vgg16.add(VGG19(\n",
    "    include_top = False,\n",
    "    weights = None,\n",
    "    input_tensor = None,\n",
    "    input_shape = (128, 163, 1),\n",
    "    pooling = None,\n",
    "    classes = 7,\n",
    "    classifier_activation = 'softmax'\n",
    "))\n",
    "\n",
    "model_vgg16.add(Flatten())\n",
    "\n",
    "model_vgg16.add(Dense(units = 7, activation = 'softmax'))\n",
    "\n",
    "model_vgg16.summary()"
   ]
  },
  {
   "cell_type": "code",
   "execution_count": 26,
   "id": "cd8fc324",
   "metadata": {},
   "outputs": [],
   "source": [
    "model_vgg16.compile(optimizer = 'adam' , \n",
    "              loss = 'categorical_crossentropy' , \n",
    "              metrics = ['categorical_accuracy'])"
   ]
  },
  {
   "cell_type": "code",
   "execution_count": 27,
   "id": "dc66f3d0",
   "metadata": {},
   "outputs": [
    {
     "name": "stdout",
     "output_type": "stream",
     "text": [
      "Epoch 1/10\n"
     ]
    },
    {
     "ename": "ValueError",
     "evalue": "in user code:\n\n    File \"C:\\Users\\TestUser\\AppData\\Roaming\\Python\\Python39\\site-packages\\keras\\engine\\training.py\", line 1249, in train_function  *\n        return step_function(self, iterator)\n    File \"C:\\Users\\TestUser\\AppData\\Roaming\\Python\\Python39\\site-packages\\keras\\engine\\training.py\", line 1233, in step_function  **\n        outputs = model.distribute_strategy.run(run_step, args=(data,))\n    File \"C:\\Users\\TestUser\\AppData\\Roaming\\Python\\Python39\\site-packages\\keras\\engine\\training.py\", line 1222, in run_step  **\n        outputs = model.train_step(data)\n    File \"C:\\Users\\TestUser\\AppData\\Roaming\\Python\\Python39\\site-packages\\keras\\engine\\training.py\", line 1023, in train_step\n        y_pred = self(x, training=True)\n    File \"C:\\Users\\TestUser\\AppData\\Roaming\\Python\\Python39\\site-packages\\keras\\utils\\traceback_utils.py\", line 70, in error_handler\n        raise e.with_traceback(filtered_tb) from None\n    File \"C:\\Users\\TestUser\\AppData\\Roaming\\Python\\Python39\\site-packages\\keras\\engine\\input_spec.py\", line 295, in assert_input_compatibility\n        raise ValueError(\n\n    ValueError: Input 0 of layer \"SER-VGG16\" is incompatible with the layer: expected shape=(None, 128, 163, 1), found shape=(128, 163, 1)\n",
     "output_type": "error",
     "traceback": [
      "\u001b[1;31m---------------------------------------------------------------------------\u001b[0m",
      "\u001b[1;31mValueError\u001b[0m                                Traceback (most recent call last)",
      "\u001b[1;32m~\\AppData\\Local\\Temp\\ipykernel_26320\\3005554301.py\u001b[0m in \u001b[0;36m<module>\u001b[1;34m\u001b[0m\n\u001b[1;32m----> 1\u001b[1;33m history_vgg16 = model_vgg16.fit(X_train, \n\u001b[0m\u001b[0;32m      2\u001b[0m                     \u001b[0my_train\u001b[0m\u001b[1;33m,\u001b[0m\u001b[1;33m\u001b[0m\u001b[1;33m\u001b[0m\u001b[0m\n\u001b[0;32m      3\u001b[0m                     \u001b[0mbatch_size\u001b[0m \u001b[1;33m=\u001b[0m \u001b[1;36m128\u001b[0m\u001b[1;33m,\u001b[0m\u001b[1;33m\u001b[0m\u001b[1;33m\u001b[0m\u001b[0m\n\u001b[0;32m      4\u001b[0m                     \u001b[0mepochs\u001b[0m \u001b[1;33m=\u001b[0m \u001b[1;36m10\u001b[0m\u001b[1;33m,\u001b[0m\u001b[1;33m\u001b[0m\u001b[1;33m\u001b[0m\u001b[0m\n\u001b[0;32m      5\u001b[0m                     validation_data = (X_test, y_test))\n",
      "\u001b[1;32m~\\AppData\\Roaming\\Python\\Python39\\site-packages\\keras\\utils\\traceback_utils.py\u001b[0m in \u001b[0;36merror_handler\u001b[1;34m(*args, **kwargs)\u001b[0m\n\u001b[0;32m     68\u001b[0m             \u001b[1;31m# To get the full stack trace, call:\u001b[0m\u001b[1;33m\u001b[0m\u001b[1;33m\u001b[0m\u001b[0m\n\u001b[0;32m     69\u001b[0m             \u001b[1;31m# `tf.debugging.disable_traceback_filtering()`\u001b[0m\u001b[1;33m\u001b[0m\u001b[1;33m\u001b[0m\u001b[0m\n\u001b[1;32m---> 70\u001b[1;33m             \u001b[1;32mraise\u001b[0m \u001b[0me\u001b[0m\u001b[1;33m.\u001b[0m\u001b[0mwith_traceback\u001b[0m\u001b[1;33m(\u001b[0m\u001b[0mfiltered_tb\u001b[0m\u001b[1;33m)\u001b[0m \u001b[1;32mfrom\u001b[0m \u001b[1;32mNone\u001b[0m\u001b[1;33m\u001b[0m\u001b[1;33m\u001b[0m\u001b[0m\n\u001b[0m\u001b[0;32m     71\u001b[0m         \u001b[1;32mfinally\u001b[0m\u001b[1;33m:\u001b[0m\u001b[1;33m\u001b[0m\u001b[1;33m\u001b[0m\u001b[0m\n\u001b[0;32m     72\u001b[0m             \u001b[1;32mdel\u001b[0m \u001b[0mfiltered_tb\u001b[0m\u001b[1;33m\u001b[0m\u001b[1;33m\u001b[0m\u001b[0m\n",
      "\u001b[1;32m~\\AppData\\Roaming\\Python\\Python39\\site-packages\\keras\\engine\\training.py\u001b[0m in \u001b[0;36mtf__train_function\u001b[1;34m(iterator)\u001b[0m\n\u001b[0;32m     13\u001b[0m                 \u001b[1;32mtry\u001b[0m\u001b[1;33m:\u001b[0m\u001b[1;33m\u001b[0m\u001b[1;33m\u001b[0m\u001b[0m\n\u001b[0;32m     14\u001b[0m                     \u001b[0mdo_return\u001b[0m \u001b[1;33m=\u001b[0m \u001b[1;32mTrue\u001b[0m\u001b[1;33m\u001b[0m\u001b[1;33m\u001b[0m\u001b[0m\n\u001b[1;32m---> 15\u001b[1;33m                     \u001b[0mretval_\u001b[0m \u001b[1;33m=\u001b[0m \u001b[0mag__\u001b[0m\u001b[1;33m.\u001b[0m\u001b[0mconverted_call\u001b[0m\u001b[1;33m(\u001b[0m\u001b[0mag__\u001b[0m\u001b[1;33m.\u001b[0m\u001b[0mld\u001b[0m\u001b[1;33m(\u001b[0m\u001b[0mstep_function\u001b[0m\u001b[1;33m)\u001b[0m\u001b[1;33m,\u001b[0m \u001b[1;33m(\u001b[0m\u001b[0mag__\u001b[0m\u001b[1;33m.\u001b[0m\u001b[0mld\u001b[0m\u001b[1;33m(\u001b[0m\u001b[0mself\u001b[0m\u001b[1;33m)\u001b[0m\u001b[1;33m,\u001b[0m \u001b[0mag__\u001b[0m\u001b[1;33m.\u001b[0m\u001b[0mld\u001b[0m\u001b[1;33m(\u001b[0m\u001b[0miterator\u001b[0m\u001b[1;33m)\u001b[0m\u001b[1;33m)\u001b[0m\u001b[1;33m,\u001b[0m \u001b[1;32mNone\u001b[0m\u001b[1;33m,\u001b[0m \u001b[0mfscope\u001b[0m\u001b[1;33m)\u001b[0m\u001b[1;33m\u001b[0m\u001b[1;33m\u001b[0m\u001b[0m\n\u001b[0m\u001b[0;32m     16\u001b[0m                 \u001b[1;32mexcept\u001b[0m\u001b[1;33m:\u001b[0m\u001b[1;33m\u001b[0m\u001b[1;33m\u001b[0m\u001b[0m\n\u001b[0;32m     17\u001b[0m                     \u001b[0mdo_return\u001b[0m \u001b[1;33m=\u001b[0m \u001b[1;32mFalse\u001b[0m\u001b[1;33m\u001b[0m\u001b[1;33m\u001b[0m\u001b[0m\n",
      "\u001b[1;31mValueError\u001b[0m: in user code:\n\n    File \"C:\\Users\\TestUser\\AppData\\Roaming\\Python\\Python39\\site-packages\\keras\\engine\\training.py\", line 1249, in train_function  *\n        return step_function(self, iterator)\n    File \"C:\\Users\\TestUser\\AppData\\Roaming\\Python\\Python39\\site-packages\\keras\\engine\\training.py\", line 1233, in step_function  **\n        outputs = model.distribute_strategy.run(run_step, args=(data,))\n    File \"C:\\Users\\TestUser\\AppData\\Roaming\\Python\\Python39\\site-packages\\keras\\engine\\training.py\", line 1222, in run_step  **\n        outputs = model.train_step(data)\n    File \"C:\\Users\\TestUser\\AppData\\Roaming\\Python\\Python39\\site-packages\\keras\\engine\\training.py\", line 1023, in train_step\n        y_pred = self(x, training=True)\n    File \"C:\\Users\\TestUser\\AppData\\Roaming\\Python\\Python39\\site-packages\\keras\\utils\\traceback_utils.py\", line 70, in error_handler\n        raise e.with_traceback(filtered_tb) from None\n    File \"C:\\Users\\TestUser\\AppData\\Roaming\\Python\\Python39\\site-packages\\keras\\engine\\input_spec.py\", line 295, in assert_input_compatibility\n        raise ValueError(\n\n    ValueError: Input 0 of layer \"SER-VGG16\" is incompatible with the layer: expected shape=(None, 128, 163, 1), found shape=(128, 163, 1)\n"
     ]
    }
   ],
   "source": [
    "history_vgg16 = model_vgg16.fit(X_train, \n",
    "                    y_train,\n",
    "                    batch_size = 128,\n",
    "                    epochs = 10,\n",
    "                    validation_data = (X_test, y_test))"
   ]
  },
  {
   "cell_type": "markdown",
   "id": "4580eb61",
   "metadata": {},
   "source": [
    "#### GoogLeNet"
   ]
  },
  {
   "cell_type": "markdown",
   "id": "0175974f",
   "metadata": {},
   "source": [
    "Create an Inception block."
   ]
  },
  {
   "cell_type": "code",
   "execution_count": 28,
   "id": "45fefcb2",
   "metadata": {},
   "outputs": [],
   "source": [
    "def Inception_block(input_layer, f1, f2_conv1, f2_conv3, f3_conv1, f3_conv5, f4): \n",
    "  # Input: \n",
    "  # - f1: number of filters of the 1x1 convolutional layer in the first path\n",
    "  # - f2_conv1, f2_conv3 are number of filters corresponding to the 1x1 and 3x3 convolutional layers in the second path\n",
    "  # - f3_conv1, f3_conv5 are the number of filters corresponding to the 1x1 and 5x5  convolutional layer in the third path\n",
    "  # - f4: number of filters of the 1x1 convolutional layer in the fourth path\n",
    "\n",
    "  # 1st path:\n",
    "    path1 = Conv2D(filters = f1, kernel_size = (1, 1), padding = 'same', activation = 'relu')(input_layer)\n",
    "    \n",
    "  # 2nd path:\n",
    "    path2 = Conv2D(filters = f2_conv1, kernel_size = (1, 1), padding = 'same', activation = 'relu')(input_layer)\n",
    "    path2 = Conv2D(filters = f2_conv3, kernel_size = (3, 3), padding = 'same', activation = 'relu')(path2)\n",
    "\n",
    "  # 3rd path\n",
    "    path3 = Conv2D(filters = f3_conv1, kernel_size = (1, 1), padding = 'same', activation = 'relu')(input_layer)\n",
    "    path3 = Conv2D(filters = f3_conv5, kernel_size = (4, 4), padding = 'same', activation = 'relu')(path3)\n",
    "\n",
    "  # 4th path\n",
    "    path4 = MaxPooling2D((3,3), strides= (1,1), padding = 'same')(input_layer)\n",
    "    path4 = Conv2D(filters = f4, kernel_size = (1,1), padding = 'same', activation = 'relu')(path4)\n",
    "\n",
    "    output_layer = concatenate([path1, path2, path3, path4], axis = -1)\n",
    "\n",
    "    return output_layer"
   ]
  },
  {
   "cell_type": "code",
   "execution_count": 29,
   "id": "aca8ab2b",
   "metadata": {},
   "outputs": [
    {
     "ename": "AttributeError",
     "evalue": "'tuple' object has no attribute 'rank'",
     "output_type": "error",
     "traceback": [
      "\u001b[1;31m---------------------------------------------------------------------------\u001b[0m",
      "\u001b[1;31mAttributeError\u001b[0m                            Traceback (most recent call last)",
      "\u001b[1;32m~\\AppData\\Local\\Temp\\ipykernel_26320\\3891323904.py\u001b[0m in \u001b[0;36m<module>\u001b[1;34m\u001b[0m\n\u001b[0;32m     16\u001b[0m \u001b[0mmodel_googlenet\u001b[0m\u001b[1;33m.\u001b[0m\u001b[0madd\u001b[0m\u001b[1;33m(\u001b[0m\u001b[0mMaxPooling2D\u001b[0m\u001b[1;33m(\u001b[0m\u001b[0mpool_size\u001b[0m \u001b[1;33m=\u001b[0m \u001b[1;33m(\u001b[0m\u001b[1;36m3\u001b[0m\u001b[1;33m,\u001b[0m \u001b[1;36m3\u001b[0m\u001b[1;33m)\u001b[0m\u001b[1;33m,\u001b[0m \u001b[0mstrides\u001b[0m \u001b[1;33m=\u001b[0m \u001b[1;36m2\u001b[0m\u001b[1;33m)\u001b[0m\u001b[1;33m)\u001b[0m\u001b[1;33m\u001b[0m\u001b[1;33m\u001b[0m\u001b[0m\n\u001b[0;32m     17\u001b[0m \u001b[1;33m\u001b[0m\u001b[0m\n\u001b[1;32m---> 18\u001b[1;33m \u001b[0mmodel_googlenet\u001b[0m\u001b[1;33m.\u001b[0m\u001b[0madd\u001b[0m\u001b[1;33m(\u001b[0m\u001b[0mInception_block\u001b[0m\u001b[1;33m(\u001b[0m\u001b[0mX\u001b[0m\u001b[1;33m,\u001b[0m \u001b[0mf1\u001b[0m \u001b[1;33m=\u001b[0m \u001b[1;36m64\u001b[0m\u001b[1;33m,\u001b[0m \u001b[0mf2_conv1\u001b[0m \u001b[1;33m=\u001b[0m \u001b[1;36m96\u001b[0m\u001b[1;33m,\u001b[0m \u001b[0mf2_conv3\u001b[0m \u001b[1;33m=\u001b[0m \u001b[1;36m128\u001b[0m\u001b[1;33m,\u001b[0m \u001b[0mf3_conv1\u001b[0m \u001b[1;33m=\u001b[0m \u001b[1;36m16\u001b[0m\u001b[1;33m,\u001b[0m \u001b[0mf3_conv5\u001b[0m \u001b[1;33m=\u001b[0m \u001b[1;36m32\u001b[0m\u001b[1;33m,\u001b[0m \u001b[0mf4\u001b[0m \u001b[1;33m=\u001b[0m \u001b[1;36m32\u001b[0m\u001b[1;33m)\u001b[0m\u001b[1;33m)\u001b[0m\u001b[1;33m\u001b[0m\u001b[1;33m\u001b[0m\u001b[0m\n\u001b[0m\u001b[0;32m     19\u001b[0m \u001b[1;33m\u001b[0m\u001b[0m\n\u001b[0;32m     20\u001b[0m \u001b[0mmodel_googlenet\u001b[0m\u001b[1;33m.\u001b[0m\u001b[0madd\u001b[0m\u001b[1;33m(\u001b[0m\u001b[0mInception_block\u001b[0m\u001b[1;33m(\u001b[0m\u001b[0mX\u001b[0m\u001b[1;33m,\u001b[0m \u001b[0mf1\u001b[0m \u001b[1;33m=\u001b[0m \u001b[1;36m128\u001b[0m\u001b[1;33m,\u001b[0m \u001b[0mf2_conv1\u001b[0m \u001b[1;33m=\u001b[0m \u001b[1;36m128\u001b[0m\u001b[1;33m,\u001b[0m \u001b[0mf2_conv3\u001b[0m \u001b[1;33m=\u001b[0m \u001b[1;36m192\u001b[0m\u001b[1;33m,\u001b[0m \u001b[0mf3_conv1\u001b[0m \u001b[1;33m=\u001b[0m \u001b[1;36m32\u001b[0m\u001b[1;33m,\u001b[0m \u001b[0mf3_conv5\u001b[0m \u001b[1;33m=\u001b[0m \u001b[1;36m96\u001b[0m\u001b[1;33m,\u001b[0m \u001b[0mf4\u001b[0m \u001b[1;33m=\u001b[0m \u001b[1;36m64\u001b[0m\u001b[1;33m)\u001b[0m\u001b[1;33m)\u001b[0m\u001b[1;33m\u001b[0m\u001b[1;33m\u001b[0m\u001b[0m\n",
      "\u001b[1;32m~\\AppData\\Local\\Temp\\ipykernel_26320\\558644361.py\u001b[0m in \u001b[0;36mInception_block\u001b[1;34m(input_layer, f1, f2_conv1, f2_conv3, f3_conv1, f3_conv5, f4)\u001b[0m\n\u001b[0;32m      7\u001b[0m \u001b[1;33m\u001b[0m\u001b[0m\n\u001b[0;32m      8\u001b[0m   \u001b[1;31m# 1st path:\u001b[0m\u001b[1;33m\u001b[0m\u001b[1;33m\u001b[0m\u001b[0m\n\u001b[1;32m----> 9\u001b[1;33m     \u001b[0mpath1\u001b[0m \u001b[1;33m=\u001b[0m \u001b[0mConv2D\u001b[0m\u001b[1;33m(\u001b[0m\u001b[0mfilters\u001b[0m \u001b[1;33m=\u001b[0m \u001b[0mf1\u001b[0m\u001b[1;33m,\u001b[0m \u001b[0mkernel_size\u001b[0m \u001b[1;33m=\u001b[0m \u001b[1;33m(\u001b[0m\u001b[1;36m1\u001b[0m\u001b[1;33m,\u001b[0m \u001b[1;36m1\u001b[0m\u001b[1;33m)\u001b[0m\u001b[1;33m,\u001b[0m \u001b[0mpadding\u001b[0m \u001b[1;33m=\u001b[0m \u001b[1;34m'same'\u001b[0m\u001b[1;33m,\u001b[0m \u001b[0mactivation\u001b[0m \u001b[1;33m=\u001b[0m \u001b[1;34m'relu'\u001b[0m\u001b[1;33m)\u001b[0m\u001b[1;33m(\u001b[0m\u001b[0minput_layer\u001b[0m\u001b[1;33m)\u001b[0m\u001b[1;33m\u001b[0m\u001b[1;33m\u001b[0m\u001b[0m\n\u001b[0m\u001b[0;32m     10\u001b[0m \u001b[1;33m\u001b[0m\u001b[0m\n\u001b[0;32m     11\u001b[0m   \u001b[1;31m# 2nd path:\u001b[0m\u001b[1;33m\u001b[0m\u001b[1;33m\u001b[0m\u001b[0m\n",
      "\u001b[1;32m~\\AppData\\Roaming\\Python\\Python39\\site-packages\\keras\\utils\\traceback_utils.py\u001b[0m in \u001b[0;36merror_handler\u001b[1;34m(*args, **kwargs)\u001b[0m\n\u001b[0;32m     68\u001b[0m             \u001b[1;31m# To get the full stack trace, call:\u001b[0m\u001b[1;33m\u001b[0m\u001b[1;33m\u001b[0m\u001b[0m\n\u001b[0;32m     69\u001b[0m             \u001b[1;31m# `tf.debugging.disable_traceback_filtering()`\u001b[0m\u001b[1;33m\u001b[0m\u001b[1;33m\u001b[0m\u001b[0m\n\u001b[1;32m---> 70\u001b[1;33m             \u001b[1;32mraise\u001b[0m \u001b[0me\u001b[0m\u001b[1;33m.\u001b[0m\u001b[0mwith_traceback\u001b[0m\u001b[1;33m(\u001b[0m\u001b[0mfiltered_tb\u001b[0m\u001b[1;33m)\u001b[0m \u001b[1;32mfrom\u001b[0m \u001b[1;32mNone\u001b[0m\u001b[1;33m\u001b[0m\u001b[1;33m\u001b[0m\u001b[0m\n\u001b[0m\u001b[0;32m     71\u001b[0m         \u001b[1;32mfinally\u001b[0m\u001b[1;33m:\u001b[0m\u001b[1;33m\u001b[0m\u001b[1;33m\u001b[0m\u001b[0m\n\u001b[0;32m     72\u001b[0m             \u001b[1;32mdel\u001b[0m \u001b[0mfiltered_tb\u001b[0m\u001b[1;33m\u001b[0m\u001b[1;33m\u001b[0m\u001b[0m\n",
      "\u001b[1;32m~\\AppData\\Roaming\\Python\\Python39\\site-packages\\keras\\engine\\input_spec.py\u001b[0m in \u001b[0;36massert_input_compatibility\u001b[1;34m(input_spec, inputs, layer_name)\u001b[0m\n\u001b[0;32m    246\u001b[0m                 )\n\u001b[0;32m    247\u001b[0m         \u001b[1;32mif\u001b[0m \u001b[0mspec\u001b[0m\u001b[1;33m.\u001b[0m\u001b[0mmin_ndim\u001b[0m \u001b[1;32mis\u001b[0m \u001b[1;32mnot\u001b[0m \u001b[1;32mNone\u001b[0m\u001b[1;33m:\u001b[0m\u001b[1;33m\u001b[0m\u001b[1;33m\u001b[0m\u001b[0m\n\u001b[1;32m--> 248\u001b[1;33m             \u001b[0mndim\u001b[0m \u001b[1;33m=\u001b[0m \u001b[0mx\u001b[0m\u001b[1;33m.\u001b[0m\u001b[0mshape\u001b[0m\u001b[1;33m.\u001b[0m\u001b[0mrank\u001b[0m\u001b[1;33m\u001b[0m\u001b[1;33m\u001b[0m\u001b[0m\n\u001b[0m\u001b[0;32m    249\u001b[0m             \u001b[1;32mif\u001b[0m \u001b[0mndim\u001b[0m \u001b[1;32mis\u001b[0m \u001b[1;32mnot\u001b[0m \u001b[1;32mNone\u001b[0m \u001b[1;32mand\u001b[0m \u001b[0mndim\u001b[0m \u001b[1;33m<\u001b[0m \u001b[0mspec\u001b[0m\u001b[1;33m.\u001b[0m\u001b[0mmin_ndim\u001b[0m\u001b[1;33m:\u001b[0m\u001b[1;33m\u001b[0m\u001b[1;33m\u001b[0m\u001b[0m\n\u001b[0;32m    250\u001b[0m                 raise ValueError(\n",
      "\u001b[1;31mAttributeError\u001b[0m: 'tuple' object has no attribute 'rank'"
     ]
    }
   ],
   "source": [
    "model_googlenet = keras.Sequential(name = 'SER-GoogLeNet')\n",
    "\n",
    "model_googlenet.add(Conv2D(filters = 64, \n",
    "                 kernel_size = (7, 7), \n",
    "                 strides = 2, \n",
    "                 padding = 'valid', \n",
    "                 activation = 'relu', \n",
    "                 input_shape = (X_train.shape)))\n",
    "\n",
    "model_googlenet.add(MaxPooling2D(pool_size = (3, 3), strides = 2))\n",
    "\n",
    "model_googlenet.add(Conv2D(filters = 64, kernel_size = (1, 1), strides = 1, padding = 'same', activation = 'relu')) \n",
    "\n",
    "model_googlenet.add(Conv2D(filters = 192, kernel_size = (3, 3), padding = 'same', activation = 'relu'))\n",
    "          \n",
    "model_googlenet.add(MaxPooling2D(pool_size = (3, 3), strides = 2))\n",
    "\n",
    "model_googlenet.add(Inception_block(X, f1 = 64, f2_conv1 = 96, f2_conv3 = 128, f3_conv1 = 16, f3_conv5 = 32, f4 = 32))\n",
    "          \n",
    "model_googlenet.add(Inception_block(X, f1 = 128, f2_conv1 = 128, f2_conv3 = 192, f3_conv1 = 32, f3_conv5 = 96, f4 = 64))\n",
    "\n",
    "model_googlenet.add(MaxPooling2D(pool_size = (3, 3), strides = 2))\n",
    "          \n",
    "model_googlenet.add(Inception_block(X, f1 = 192, f2_conv1 = 96, f2_conv3 = 208, f3_conv1 = 16, f3_conv5 = 48, f4 = 64))\n",
    "          \n",
    "model_googlenet.add(AveragePooling2D(pool_size = (5, 5), strides = 3))\n",
    "          \n",
    "model_googlenet.add(Conv2D(filters = 128, kernel_size = (1, 1), padding = 'same', activation = 'relu'))\n",
    "\n",
    "model_googlenet.add(Flatten())\n",
    "\n",
    "model_googlenet.add(Dense(1024, activation = 'relu'))\n",
    "\n",
    "model_googlenet.add(Dropout(0.7))\n",
    "\n",
    "model_googlenet.add(Dense(5, activation = 'softmax'))\n",
    "\n",
    "model_googlenet.add(Inception_block(X, f1 = 160, f2_conv1 = 112, f2_conv3 = 224, f3_conv1 = 24, f3_conv5 = 64, f4 = 64))\n",
    "\n",
    "model_googlenet.add(Inception_block(X, f1 = 128, f2_conv1 = 128, f2_conv3 = 256, f3_conv1 = 24, f3_conv5 = 64, f4 = 64))\n",
    "\n",
    "model_googlenet.add(Inception_block(X, f1 = 112, f2_conv1 = 144, f2_conv3 = 288, f3_conv1 = 32, f3_conv5 = 64, f4 = 64))\n",
    "\n",
    "model_googlenet.add(AveragePooling2D(pool_size = (5,5), strides = 3))\n",
    "\n",
    "model_googlenet.add(Conv2D(filters = 128, kernel_size = (1,1), padding = 'same', activation = 'relu'))\n",
    "\n",
    "model_googlenet.add(Flatten())\n",
    "\n",
    "model_googlenet.add(Dense(1024, activation = 'relu'))\n",
    "\n",
    "model_googlenet.add(Dropout(0.7))\n",
    "\n",
    "model_googlenet.add(Dense(1000, activation = 'softmax'))\n",
    "\n",
    "model_googlenet.add(Inception_block(X, f1 = 256, f2_conv1 = 160, f2_conv3 = 320, f3_conv1 = 32, f3_conv5 = 128, f4 = 128))\n",
    "\n",
    "model_googlenet.add(MaxPooling2D(pool_size = (3,3), strides = 2))\n",
    "\n",
    "model_googlenet.add(Inception_block(X, f1 = 256, f2_conv1 = 160, f2_conv3 = 320, f3_conv1 = 32, f3_conv5 = 128, f4 = 128))\n",
    "\n",
    "model_googlenet.add(Inception_block(X, f1 = 384, f2_conv1 = 192, f2_conv3 = 384, f3_conv1 = 48, f3_conv5 = 128, f4 = 128))\n",
    "\n",
    "model_googlenet.add(GlobalAveragePooling2D(name = 'GAPL'))\n",
    "\n",
    "model_googlenet.add(Dropout(0.4))\n",
    "          \n",
    "model_googlenet.add(Dense(units = 7, activation = 'sigmoid'))\n",
    "          \n",
    "model_googlenet.summary()"
   ]
  },
  {
   "cell_type": "code",
   "execution_count": 37,
   "id": "03b23179",
   "metadata": {},
   "outputs": [
    {
     "ename": "ValueError",
     "evalue": "Input 0 of layer \"max_pooling2d_1\" is incompatible with the layer: expected ndim=4, found ndim=5. Full shape received: (None, 1, 13436, 159, 256)",
     "output_type": "error",
     "traceback": [
      "\u001b[1;31m---------------------------------------------------------------------------\u001b[0m",
      "\u001b[1;31mValueError\u001b[0m                                Traceback (most recent call last)",
      "\u001b[1;32m~\\AppData\\Local\\Temp\\ipykernel_24884\\1451427772.py\u001b[0m in \u001b[0;36m<module>\u001b[1;34m\u001b[0m\n\u001b[1;32m----> 1\u001b[1;33m \u001b[0mmodel_googlenet\u001b[0m \u001b[1;33m=\u001b[0m \u001b[0mGoogLeNet\u001b[0m\u001b[1;33m(\u001b[0m\u001b[1;33m)\u001b[0m\u001b[1;33m\u001b[0m\u001b[1;33m\u001b[0m\u001b[0m\n\u001b[0m",
      "\u001b[1;32m~\\AppData\\Local\\Temp\\ipykernel_24884\\891964501.py\u001b[0m in \u001b[0;36mGoogLeNet\u001b[1;34m()\u001b[0m\n\u001b[0;32m      8\u001b[0m \u001b[1;33m\u001b[0m\u001b[0m\n\u001b[0;32m      9\u001b[0m     \u001b[1;31m# max-pooling layer: pool_size = (3,3), strides = 2\u001b[0m\u001b[1;33m\u001b[0m\u001b[1;33m\u001b[0m\u001b[0m\n\u001b[1;32m---> 10\u001b[1;33m     \u001b[0mX\u001b[0m \u001b[1;33m=\u001b[0m \u001b[0mMaxPooling2D\u001b[0m\u001b[1;33m(\u001b[0m\u001b[0mpool_size\u001b[0m \u001b[1;33m=\u001b[0m \u001b[1;33m(\u001b[0m\u001b[1;36m3\u001b[0m\u001b[1;33m,\u001b[0m\u001b[1;36m3\u001b[0m\u001b[1;33m)\u001b[0m\u001b[1;33m,\u001b[0m \u001b[0mstrides\u001b[0m \u001b[1;33m=\u001b[0m \u001b[1;36m2\u001b[0m\u001b[1;33m)\u001b[0m\u001b[1;33m(\u001b[0m\u001b[0mX\u001b[0m\u001b[1;33m)\u001b[0m\u001b[1;33m\u001b[0m\u001b[1;33m\u001b[0m\u001b[0m\n\u001b[0m\u001b[0;32m     11\u001b[0m \u001b[1;33m\u001b[0m\u001b[0m\n\u001b[0;32m     12\u001b[0m     \u001b[1;31m# convolutional layer: filters = 64, strides = 1\u001b[0m\u001b[1;33m\u001b[0m\u001b[1;33m\u001b[0m\u001b[0m\n",
      "\u001b[1;32m~\\AppData\\Roaming\\Python\\Python39\\site-packages\\keras\\utils\\traceback_utils.py\u001b[0m in \u001b[0;36merror_handler\u001b[1;34m(*args, **kwargs)\u001b[0m\n\u001b[0;32m     68\u001b[0m             \u001b[1;31m# To get the full stack trace, call:\u001b[0m\u001b[1;33m\u001b[0m\u001b[1;33m\u001b[0m\u001b[0m\n\u001b[0;32m     69\u001b[0m             \u001b[1;31m# `tf.debugging.disable_traceback_filtering()`\u001b[0m\u001b[1;33m\u001b[0m\u001b[1;33m\u001b[0m\u001b[0m\n\u001b[1;32m---> 70\u001b[1;33m             \u001b[1;32mraise\u001b[0m \u001b[0me\u001b[0m\u001b[1;33m.\u001b[0m\u001b[0mwith_traceback\u001b[0m\u001b[1;33m(\u001b[0m\u001b[0mfiltered_tb\u001b[0m\u001b[1;33m)\u001b[0m \u001b[1;32mfrom\u001b[0m \u001b[1;32mNone\u001b[0m\u001b[1;33m\u001b[0m\u001b[1;33m\u001b[0m\u001b[0m\n\u001b[0m\u001b[0;32m     71\u001b[0m         \u001b[1;32mfinally\u001b[0m\u001b[1;33m:\u001b[0m\u001b[1;33m\u001b[0m\u001b[1;33m\u001b[0m\u001b[0m\n\u001b[0;32m     72\u001b[0m             \u001b[1;32mdel\u001b[0m \u001b[0mfiltered_tb\u001b[0m\u001b[1;33m\u001b[0m\u001b[1;33m\u001b[0m\u001b[0m\n",
      "\u001b[1;32m~\\AppData\\Roaming\\Python\\Python39\\site-packages\\keras\\engine\\input_spec.py\u001b[0m in \u001b[0;36massert_input_compatibility\u001b[1;34m(input_spec, inputs, layer_name)\u001b[0m\n\u001b[0;32m    230\u001b[0m             \u001b[0mndim\u001b[0m \u001b[1;33m=\u001b[0m \u001b[0mshape\u001b[0m\u001b[1;33m.\u001b[0m\u001b[0mrank\u001b[0m\u001b[1;33m\u001b[0m\u001b[1;33m\u001b[0m\u001b[0m\n\u001b[0;32m    231\u001b[0m             \u001b[1;32mif\u001b[0m \u001b[0mndim\u001b[0m \u001b[1;33m!=\u001b[0m \u001b[0mspec\u001b[0m\u001b[1;33m.\u001b[0m\u001b[0mndim\u001b[0m\u001b[1;33m:\u001b[0m\u001b[1;33m\u001b[0m\u001b[1;33m\u001b[0m\u001b[0m\n\u001b[1;32m--> 232\u001b[1;33m                 raise ValueError(\n\u001b[0m\u001b[0;32m    233\u001b[0m                     \u001b[1;34mf'Input {input_index} of layer \"{layer_name}\" '\u001b[0m\u001b[1;33m\u001b[0m\u001b[1;33m\u001b[0m\u001b[0m\n\u001b[0;32m    234\u001b[0m                     \u001b[1;34m\"is incompatible with the layer: \"\u001b[0m\u001b[1;33m\u001b[0m\u001b[1;33m\u001b[0m\u001b[0m\n",
      "\u001b[1;31mValueError\u001b[0m: Input 0 of layer \"max_pooling2d_1\" is incompatible with the layer: expected ndim=4, found ndim=5. Full shape received: (None, 1, 13436, 159, 256)"
     ]
    }
   ],
   "source": [
    "model_googlenet = GoogLeNet()"
   ]
  },
  {
   "cell_type": "code",
   "execution_count": null,
   "id": "e111a207",
   "metadata": {},
   "outputs": [],
   "source": [
    "model_googlenet.summary()"
   ]
  },
  {
   "cell_type": "code",
   "execution_count": 41,
   "id": "6a00a323",
   "metadata": {},
   "outputs": [],
   "source": [
    "model_googlenet.compile(optimizer = 'adam' , \n",
    "              loss = 'categorical_crossentropy' , \n",
    "              metrics = ['categorical_accuracy'])"
   ]
  },
  {
   "cell_type": "code",
   "execution_count": 42,
   "id": "fe78f40b",
   "metadata": {
    "scrolled": false
   },
   "outputs": [
    {
     "name": "stdout",
     "output_type": "stream",
     "text": [
      "Epoch 1/10\n"
     ]
    },
    {
     "ename": "ValueError",
     "evalue": "in user code:\n\n    File \"C:\\Users\\TestUser\\AppData\\Roaming\\Python\\Python39\\site-packages\\keras\\engine\\training.py\", line 1249, in train_function  *\n        return step_function(self, iterator)\n    File \"C:\\Users\\TestUser\\AppData\\Roaming\\Python\\Python39\\site-packages\\keras\\engine\\training.py\", line 1233, in step_function  **\n        outputs = model.distribute_strategy.run(run_step, args=(data,))\n    File \"C:\\Users\\TestUser\\AppData\\Roaming\\Python\\Python39\\site-packages\\keras\\engine\\training.py\", line 1222, in run_step  **\n        outputs = model.train_step(data)\n    File \"C:\\Users\\TestUser\\AppData\\Roaming\\Python\\Python39\\site-packages\\keras\\engine\\training.py\", line 1023, in train_step\n        y_pred = self(x, training=True)\n    File \"C:\\Users\\TestUser\\AppData\\Roaming\\Python\\Python39\\site-packages\\keras\\utils\\traceback_utils.py\", line 70, in error_handler\n        raise e.with_traceback(filtered_tb) from None\n    File \"C:\\Users\\TestUser\\AppData\\Roaming\\Python\\Python39\\site-packages\\keras\\engine\\input_spec.py\", line 295, in assert_input_compatibility\n        raise ValueError(\n\n    ValueError: Input 0 of layer \"GoogLeNet\" is incompatible with the layer: expected shape=(None, 128, 163, 1), found shape=(128, 163, 1)\n",
     "output_type": "error",
     "traceback": [
      "\u001b[1;31m---------------------------------------------------------------------------\u001b[0m",
      "\u001b[1;31mValueError\u001b[0m                                Traceback (most recent call last)",
      "\u001b[1;32m~\\AppData\\Local\\Temp\\ipykernel_25348\\3264586186.py\u001b[0m in \u001b[0;36m<module>\u001b[1;34m\u001b[0m\n\u001b[1;32m----> 1\u001b[1;33m history_lstm = model_googlenet.fit(X_train, \n\u001b[0m\u001b[0;32m      2\u001b[0m                     \u001b[0my_train\u001b[0m\u001b[1;33m,\u001b[0m\u001b[1;33m\u001b[0m\u001b[1;33m\u001b[0m\u001b[0m\n\u001b[0;32m      3\u001b[0m                     \u001b[0mbatch_size\u001b[0m \u001b[1;33m=\u001b[0m \u001b[1;36m128\u001b[0m\u001b[1;33m,\u001b[0m\u001b[1;33m\u001b[0m\u001b[1;33m\u001b[0m\u001b[0m\n\u001b[0;32m      4\u001b[0m                     \u001b[0mepochs\u001b[0m \u001b[1;33m=\u001b[0m \u001b[1;36m10\u001b[0m\u001b[1;33m,\u001b[0m\u001b[1;33m\u001b[0m\u001b[1;33m\u001b[0m\u001b[0m\n\u001b[0;32m      5\u001b[0m                     validation_data = (X_test, y_test))\n",
      "\u001b[1;32m~\\AppData\\Roaming\\Python\\Python39\\site-packages\\keras\\utils\\traceback_utils.py\u001b[0m in \u001b[0;36merror_handler\u001b[1;34m(*args, **kwargs)\u001b[0m\n\u001b[0;32m     68\u001b[0m             \u001b[1;31m# To get the full stack trace, call:\u001b[0m\u001b[1;33m\u001b[0m\u001b[1;33m\u001b[0m\u001b[0m\n\u001b[0;32m     69\u001b[0m             \u001b[1;31m# `tf.debugging.disable_traceback_filtering()`\u001b[0m\u001b[1;33m\u001b[0m\u001b[1;33m\u001b[0m\u001b[0m\n\u001b[1;32m---> 70\u001b[1;33m             \u001b[1;32mraise\u001b[0m \u001b[0me\u001b[0m\u001b[1;33m.\u001b[0m\u001b[0mwith_traceback\u001b[0m\u001b[1;33m(\u001b[0m\u001b[0mfiltered_tb\u001b[0m\u001b[1;33m)\u001b[0m \u001b[1;32mfrom\u001b[0m \u001b[1;32mNone\u001b[0m\u001b[1;33m\u001b[0m\u001b[1;33m\u001b[0m\u001b[0m\n\u001b[0m\u001b[0;32m     71\u001b[0m         \u001b[1;32mfinally\u001b[0m\u001b[1;33m:\u001b[0m\u001b[1;33m\u001b[0m\u001b[1;33m\u001b[0m\u001b[0m\n\u001b[0;32m     72\u001b[0m             \u001b[1;32mdel\u001b[0m \u001b[0mfiltered_tb\u001b[0m\u001b[1;33m\u001b[0m\u001b[1;33m\u001b[0m\u001b[0m\n",
      "\u001b[1;32m~\\AppData\\Roaming\\Python\\Python39\\site-packages\\keras\\engine\\training.py\u001b[0m in \u001b[0;36mtf__train_function\u001b[1;34m(iterator)\u001b[0m\n\u001b[0;32m     13\u001b[0m                 \u001b[1;32mtry\u001b[0m\u001b[1;33m:\u001b[0m\u001b[1;33m\u001b[0m\u001b[1;33m\u001b[0m\u001b[0m\n\u001b[0;32m     14\u001b[0m                     \u001b[0mdo_return\u001b[0m \u001b[1;33m=\u001b[0m \u001b[1;32mTrue\u001b[0m\u001b[1;33m\u001b[0m\u001b[1;33m\u001b[0m\u001b[0m\n\u001b[1;32m---> 15\u001b[1;33m                     \u001b[0mretval_\u001b[0m \u001b[1;33m=\u001b[0m \u001b[0mag__\u001b[0m\u001b[1;33m.\u001b[0m\u001b[0mconverted_call\u001b[0m\u001b[1;33m(\u001b[0m\u001b[0mag__\u001b[0m\u001b[1;33m.\u001b[0m\u001b[0mld\u001b[0m\u001b[1;33m(\u001b[0m\u001b[0mstep_function\u001b[0m\u001b[1;33m)\u001b[0m\u001b[1;33m,\u001b[0m \u001b[1;33m(\u001b[0m\u001b[0mag__\u001b[0m\u001b[1;33m.\u001b[0m\u001b[0mld\u001b[0m\u001b[1;33m(\u001b[0m\u001b[0mself\u001b[0m\u001b[1;33m)\u001b[0m\u001b[1;33m,\u001b[0m \u001b[0mag__\u001b[0m\u001b[1;33m.\u001b[0m\u001b[0mld\u001b[0m\u001b[1;33m(\u001b[0m\u001b[0miterator\u001b[0m\u001b[1;33m)\u001b[0m\u001b[1;33m)\u001b[0m\u001b[1;33m,\u001b[0m \u001b[1;32mNone\u001b[0m\u001b[1;33m,\u001b[0m \u001b[0mfscope\u001b[0m\u001b[1;33m)\u001b[0m\u001b[1;33m\u001b[0m\u001b[1;33m\u001b[0m\u001b[0m\n\u001b[0m\u001b[0;32m     16\u001b[0m                 \u001b[1;32mexcept\u001b[0m\u001b[1;33m:\u001b[0m\u001b[1;33m\u001b[0m\u001b[1;33m\u001b[0m\u001b[0m\n\u001b[0;32m     17\u001b[0m                     \u001b[0mdo_return\u001b[0m \u001b[1;33m=\u001b[0m \u001b[1;32mFalse\u001b[0m\u001b[1;33m\u001b[0m\u001b[1;33m\u001b[0m\u001b[0m\n",
      "\u001b[1;31mValueError\u001b[0m: in user code:\n\n    File \"C:\\Users\\TestUser\\AppData\\Roaming\\Python\\Python39\\site-packages\\keras\\engine\\training.py\", line 1249, in train_function  *\n        return step_function(self, iterator)\n    File \"C:\\Users\\TestUser\\AppData\\Roaming\\Python\\Python39\\site-packages\\keras\\engine\\training.py\", line 1233, in step_function  **\n        outputs = model.distribute_strategy.run(run_step, args=(data,))\n    File \"C:\\Users\\TestUser\\AppData\\Roaming\\Python\\Python39\\site-packages\\keras\\engine\\training.py\", line 1222, in run_step  **\n        outputs = model.train_step(data)\n    File \"C:\\Users\\TestUser\\AppData\\Roaming\\Python\\Python39\\site-packages\\keras\\engine\\training.py\", line 1023, in train_step\n        y_pred = self(x, training=True)\n    File \"C:\\Users\\TestUser\\AppData\\Roaming\\Python\\Python39\\site-packages\\keras\\utils\\traceback_utils.py\", line 70, in error_handler\n        raise e.with_traceback(filtered_tb) from None\n    File \"C:\\Users\\TestUser\\AppData\\Roaming\\Python\\Python39\\site-packages\\keras\\engine\\input_spec.py\", line 295, in assert_input_compatibility\n        raise ValueError(\n\n    ValueError: Input 0 of layer \"GoogLeNet\" is incompatible with the layer: expected shape=(None, 128, 163, 1), found shape=(128, 163, 1)\n"
     ]
    }
   ],
   "source": [
    "history_lstm = model_googlenet.fit(X_train, \n",
    "                    y_train,\n",
    "                    batch_size = 128,\n",
    "                    epochs = 10,\n",
    "                    validation_data = (X_test, y_test))"
   ]
  },
  {
   "cell_type": "code",
   "execution_count": null,
   "id": "32d5caea",
   "metadata": {},
   "outputs": [],
   "source": [
    "score_googlenet = model_googlenet.evaluate(X_test, y_test)\n",
    "\n",
    "print('Test loss:', score_googlenet[0])\n",
    "\n",
    "print('Test accuracy:', score_googlenet[1])"
   ]
  },
  {
   "cell_type": "markdown",
   "id": "dac7732f",
   "metadata": {},
   "source": [
    "#### AlexNet"
   ]
  },
  {
   "cell_type": "code",
   "execution_count": 27,
   "id": "0fee7368",
   "metadata": {},
   "outputs": [
    {
     "ename": "ValueError",
     "evalue": "Input 0 of layer \"conv2d_1\" is incompatible with the layer: expected min_ndim=4, found ndim=3. Full shape received: (None, 163, 1)",
     "output_type": "error",
     "traceback": [
      "\u001b[1;31m---------------------------------------------------------------------------\u001b[0m",
      "\u001b[1;31mValueError\u001b[0m                                Traceback (most recent call last)",
      "\u001b[1;32m~\\AppData\\Local\\Temp\\ipykernel_13732\\3060813431.py\u001b[0m in \u001b[0;36m<module>\u001b[1;34m\u001b[0m\n\u001b[0;32m      2\u001b[0m \u001b[1;33m\u001b[0m\u001b[0m\n\u001b[0;32m      3\u001b[0m \u001b[1;31m# 1st Layer\u001b[0m\u001b[1;33m\u001b[0m\u001b[1;33m\u001b[0m\u001b[0m\n\u001b[1;32m----> 4\u001b[1;33m model_alexnet.add(Conv2D(filters = 96, \n\u001b[0m\u001b[0;32m      5\u001b[0m                    \u001b[0minput_shape\u001b[0m \u001b[1;33m=\u001b[0m \u001b[1;33m(\u001b[0m\u001b[0mX_train\u001b[0m\u001b[1;33m.\u001b[0m\u001b[0mshape\u001b[0m\u001b[1;33m[\u001b[0m\u001b[1;36m1\u001b[0m\u001b[1;33m]\u001b[0m\u001b[1;33m,\u001b[0m \u001b[1;36m1\u001b[0m\u001b[1;33m)\u001b[0m\u001b[1;33m,\u001b[0m\u001b[1;33m\u001b[0m\u001b[1;33m\u001b[0m\u001b[0m\n\u001b[0;32m      6\u001b[0m                    \u001b[0mkernel_size\u001b[0m \u001b[1;33m=\u001b[0m \u001b[1;33m(\u001b[0m\u001b[1;36m11\u001b[0m\u001b[1;33m,\u001b[0m \u001b[1;36m11\u001b[0m\u001b[1;33m)\u001b[0m\u001b[1;33m,\u001b[0m\u001b[1;33m\u001b[0m\u001b[1;33m\u001b[0m\u001b[0m\n",
      "\u001b[1;32m~\\AppData\\Roaming\\Python\\Python39\\site-packages\\tensorflow\\python\\trackable\\base.py\u001b[0m in \u001b[0;36m_method_wrapper\u001b[1;34m(self, *args, **kwargs)\u001b[0m\n\u001b[0;32m    203\u001b[0m     \u001b[0mself\u001b[0m\u001b[1;33m.\u001b[0m\u001b[0m_self_setattr_tracking\u001b[0m \u001b[1;33m=\u001b[0m \u001b[1;32mFalse\u001b[0m  \u001b[1;31m# pylint: disable=protected-access\u001b[0m\u001b[1;33m\u001b[0m\u001b[1;33m\u001b[0m\u001b[0m\n\u001b[0;32m    204\u001b[0m     \u001b[1;32mtry\u001b[0m\u001b[1;33m:\u001b[0m\u001b[1;33m\u001b[0m\u001b[1;33m\u001b[0m\u001b[0m\n\u001b[1;32m--> 205\u001b[1;33m       \u001b[0mresult\u001b[0m \u001b[1;33m=\u001b[0m \u001b[0mmethod\u001b[0m\u001b[1;33m(\u001b[0m\u001b[0mself\u001b[0m\u001b[1;33m,\u001b[0m \u001b[1;33m*\u001b[0m\u001b[0margs\u001b[0m\u001b[1;33m,\u001b[0m \u001b[1;33m**\u001b[0m\u001b[0mkwargs\u001b[0m\u001b[1;33m)\u001b[0m\u001b[1;33m\u001b[0m\u001b[1;33m\u001b[0m\u001b[0m\n\u001b[0m\u001b[0;32m    206\u001b[0m     \u001b[1;32mfinally\u001b[0m\u001b[1;33m:\u001b[0m\u001b[1;33m\u001b[0m\u001b[1;33m\u001b[0m\u001b[0m\n\u001b[0;32m    207\u001b[0m       \u001b[0mself\u001b[0m\u001b[1;33m.\u001b[0m\u001b[0m_self_setattr_tracking\u001b[0m \u001b[1;33m=\u001b[0m \u001b[0mprevious_value\u001b[0m  \u001b[1;31m# pylint: disable=protected-access\u001b[0m\u001b[1;33m\u001b[0m\u001b[1;33m\u001b[0m\u001b[0m\n",
      "\u001b[1;32m~\\AppData\\Roaming\\Python\\Python39\\site-packages\\keras\\utils\\traceback_utils.py\u001b[0m in \u001b[0;36merror_handler\u001b[1;34m(*args, **kwargs)\u001b[0m\n\u001b[0;32m     68\u001b[0m             \u001b[1;31m# To get the full stack trace, call:\u001b[0m\u001b[1;33m\u001b[0m\u001b[1;33m\u001b[0m\u001b[0m\n\u001b[0;32m     69\u001b[0m             \u001b[1;31m# `tf.debugging.disable_traceback_filtering()`\u001b[0m\u001b[1;33m\u001b[0m\u001b[1;33m\u001b[0m\u001b[0m\n\u001b[1;32m---> 70\u001b[1;33m             \u001b[1;32mraise\u001b[0m \u001b[0me\u001b[0m\u001b[1;33m.\u001b[0m\u001b[0mwith_traceback\u001b[0m\u001b[1;33m(\u001b[0m\u001b[0mfiltered_tb\u001b[0m\u001b[1;33m)\u001b[0m \u001b[1;32mfrom\u001b[0m \u001b[1;32mNone\u001b[0m\u001b[1;33m\u001b[0m\u001b[1;33m\u001b[0m\u001b[0m\n\u001b[0m\u001b[0;32m     71\u001b[0m         \u001b[1;32mfinally\u001b[0m\u001b[1;33m:\u001b[0m\u001b[1;33m\u001b[0m\u001b[1;33m\u001b[0m\u001b[0m\n\u001b[0;32m     72\u001b[0m             \u001b[1;32mdel\u001b[0m \u001b[0mfiltered_tb\u001b[0m\u001b[1;33m\u001b[0m\u001b[1;33m\u001b[0m\u001b[0m\n",
      "\u001b[1;32m~\\AppData\\Roaming\\Python\\Python39\\site-packages\\keras\\engine\\input_spec.py\u001b[0m in \u001b[0;36massert_input_compatibility\u001b[1;34m(input_spec, inputs, layer_name)\u001b[0m\n\u001b[0;32m    248\u001b[0m             \u001b[0mndim\u001b[0m \u001b[1;33m=\u001b[0m \u001b[0mx\u001b[0m\u001b[1;33m.\u001b[0m\u001b[0mshape\u001b[0m\u001b[1;33m.\u001b[0m\u001b[0mrank\u001b[0m\u001b[1;33m\u001b[0m\u001b[1;33m\u001b[0m\u001b[0m\n\u001b[0;32m    249\u001b[0m             \u001b[1;32mif\u001b[0m \u001b[0mndim\u001b[0m \u001b[1;32mis\u001b[0m \u001b[1;32mnot\u001b[0m \u001b[1;32mNone\u001b[0m \u001b[1;32mand\u001b[0m \u001b[0mndim\u001b[0m \u001b[1;33m<\u001b[0m \u001b[0mspec\u001b[0m\u001b[1;33m.\u001b[0m\u001b[0mmin_ndim\u001b[0m\u001b[1;33m:\u001b[0m\u001b[1;33m\u001b[0m\u001b[1;33m\u001b[0m\u001b[0m\n\u001b[1;32m--> 250\u001b[1;33m                 raise ValueError(\n\u001b[0m\u001b[0;32m    251\u001b[0m                     \u001b[1;34mf'Input {input_index} of layer \"{layer_name}\" '\u001b[0m\u001b[1;33m\u001b[0m\u001b[1;33m\u001b[0m\u001b[0m\n\u001b[0;32m    252\u001b[0m                     \u001b[1;34m\"is incompatible with the layer: \"\u001b[0m\u001b[1;33m\u001b[0m\u001b[1;33m\u001b[0m\u001b[0m\n",
      "\u001b[1;31mValueError\u001b[0m: Input 0 of layer \"conv2d_1\" is incompatible with the layer: expected min_ndim=4, found ndim=3. Full shape received: (None, 163, 1)"
     ]
    }
   ],
   "source": [
    "model_alexnet = keras.Sequential(name = 'SER-AlexNet')\n",
    "\n",
    "# 1st Layer\n",
    "model_alexnet.add(Conv2D(filters = 96, \n",
    "                   input_shape = (X_train.shape[1], 1), \n",
    "                   kernel_size = (11, 11), \n",
    "                   strides = (3, 3), \n",
    "                   padding = 'same'))\n",
    "\n",
    "model_alexnet.add(BatchNormalization())\n",
    "\n",
    "model_alexnet.add(Activation('relu'))\n",
    "\n",
    "model_alexnet.add(MaxPooling2D(pool_size = (2, 2), \n",
    "                               strides = (2, 2), \n",
    "                               padding = 'same'))\n",
    "\n",
    "# 2nd Layer\n",
    "\n",
    "model_alexnet.add(Conv2D(filters = 256, \n",
    "                         kernel_size = (5, 5), \n",
    "                         strides =(1, 1), \n",
    "                         padding = 'same'))\n",
    "\n",
    "model_alexnet.add(BatchNormalization())\n",
    "\n",
    "model_alexnet.add(Activation('relu'))\n",
    "\n",
    "model_alexnet.add(MaxPooling2D(pool_size = (2, 2), \n",
    "                               strides = (2, 2), \n",
    "                               padding = 'same'))\n",
    "\n",
    "# 3rd Layer\n",
    "\n",
    "model_alexnet.add(Conv2D(filters = 384, \n",
    "                         kernel_size = (3, 3), \n",
    "                         strides = (1, 1), \n",
    "                         padding = 'same'))\n",
    "\n",
    "model_alexnet.add(BatchNormalization())\n",
    "\n",
    "model_alexnet.add(Activation('relu'))\n",
    "\n",
    "# 4th Layer\n",
    "\n",
    "model_alexnet.add(Conv2D(filters = 384, \n",
    "                         kernel_size = (3, 3), \n",
    "                         strides = (1, 1), \n",
    "                         padding = 'same'))\n",
    "\n",
    "model_alexnet.add(BatchNormalization())\n",
    "\n",
    "model_alexnet.add(Activation('relu'))\n",
    "\n",
    "# 5th Layer\n",
    "\n",
    "model_alexnet.add(Conv2D(filters = 256, \n",
    "                         kernel_size = (3, 3), \n",
    "                         strides = (1, 1), \n",
    "                         padding = 'same'))\n",
    "\n",
    "model_alexnet.add(BatchNormalization())\n",
    "\n",
    "model_alexnet.add(Activation('relu'))\n",
    "\n",
    "model_alexnet.add(MaxPooling2D(pool_size = (2, 2), \n",
    "                               strides = (2, 2), \n",
    "                               padding = 'same'))\n",
    "\n",
    "model_alexnet.add(Flatten())\n",
    "\n",
    "# 1st Connected Layer\n",
    "\n",
    "model_alexnet.add(Dense(4096, \n",
    "                        input_shape = (X_train.shape[1], 1)))\n",
    "\n",
    "model_alexnet.add(BatchNormalization())\n",
    "\n",
    "model_alexnet.add(Activation('relu'))\n",
    "\n",
    "model_alexnet.add(Dropout(0.4))\n",
    "\n",
    "# 2nd Connected Layer\n",
    "\n",
    "model_alexnet.add(Dense(4096))\n",
    "\n",
    "model_alexnet.add(BatchNormalization()) \n",
    "\n",
    "model_alexnet.add(Activation('relu'))\n",
    "\n",
    "model_alexnet.add(Dropout(0.4))\n",
    "\n",
    "# 3rd Connected Layer\n",
    "\n",
    "model_alexnet.add(Dense(1000))\n",
    "\n",
    "model_alexnet.add(BatchNormalization())\n",
    "\n",
    "model_alexnet.add(Activation('relu'))\n",
    "\n",
    "model_alexnet.add(Dropout(0.4))\n",
    "\n",
    "# Output Layer\n",
    "\n",
    "model_alexnet.add(Dense(7))\n",
    "\n",
    "model_alexnet.add(BatchNormalization())\n",
    "\n",
    "model_alexnet.add(Activation('softmax'))\n",
    "\n",
    "# Summary\n",
    "\n",
    "model_alexnet.summary()"
   ]
  }
 ],
 "metadata": {
  "kernelspec": {
   "display_name": "Python 3 (ipykernel)",
   "language": "python",
   "name": "python3"
  },
  "language_info": {
   "codemirror_mode": {
    "name": "ipython",
    "version": 3
   },
   "file_extension": ".py",
   "mimetype": "text/x-python",
   "name": "python",
   "nbconvert_exporter": "python",
   "pygments_lexer": "ipython3",
   "version": "3.9.13"
  }
 },
 "nbformat": 4,
 "nbformat_minor": 5
}
