{
 "cells": [
  {
   "cell_type": "markdown",
   "id": "909f802e",
   "metadata": {},
   "source": [
    "# Speech Emotion Recognition - CNN Model"
   ]
  },
  {
   "cell_type": "markdown",
   "id": "f013590a",
   "metadata": {},
   "source": [
    "### Import necessary libraries"
   ]
  },
  {
   "cell_type": "code",
   "execution_count": 1,
   "id": "24787f1a",
   "metadata": {},
   "outputs": [
    {
     "name": "stderr",
     "output_type": "stream",
     "text": [
      "C:\\Users\\TestUser\\anaconda3\\lib\\site-packages\\paramiko\\transport.py:219: CryptographyDeprecationWarning: Blowfish has been deprecated\n",
      "  \"class\": algorithms.Blowfish,\n"
     ]
    }
   ],
   "source": [
    "import os\n",
    "import numpy as np\n",
    "import pandas as pd\n",
    "import matplotlib.pyplot as plt\n",
    "import seaborn as sns\n",
    "\n",
    "import IPython\n",
    "import librosa # librosa is a Python library for analyzing audio and music used to extract the data from audio files it later\n",
    "import librosa.display\n",
    "from IPython.display import Audio # to play the audio files\n",
    "plt.style.use('seaborn-white')\n",
    "from python_speech_features import mfcc\n",
    "\n",
    "from sklearn.preprocessing import StandardScaler, OneHotEncoder\n",
    "from sklearn.metrics import confusion_matrix, classification_report\n",
    "from sklearn.model_selection import train_test_split\n",
    "\n",
    "from os.path import dirname, join as pjoin\n",
    "from scipy.io import wavfile\n",
    "import scipy.io\n",
    "\n",
    "from keras.layers import Input, Conv2D, MaxPooling2D, AveragePooling2D, Flatten, GlobalAveragePooling2D, Dense, Dropout, Conv1D, MaxPooling1D, BatchNormalization\n",
    "from keras.layers import concatenate\n",
    "from keras.models import Model\n",
    "from keras.layers.normalization import layer_normalization\n",
    "from tensorflow.keras.models import Sequential\n",
    "from keras.callbacks import ReduceLROnPlateau\n",
    "from tensorflow.keras.layers import LSTM\n",
    "from keras.applications.vgg19 import VGG19\n",
    "import tensorflow as tf\n",
    "from tensorflow import keras\n",
    "from tensorflow.keras import layers\n",
    "from keras.models import Sequential\n",
    "from keras.utils import np_utils, to_categorical\n",
    "\n",
    "import torch\n",
    "from pytorch_transformers import GPT2Tokenizer, GPT2LMHeadModel\n",
    "import speech_recognition as sr\n",
    "\n",
    "from sklearn.preprocessing import StandardScaler, OneHotEncoder\n",
    "from sklearn.metrics import confusion_matrix, classification_report\n",
    "from sklearn.model_selection import train_test_split"
   ]
  },
  {
   "cell_type": "markdown",
   "id": "5373c1ee",
   "metadata": {},
   "source": [
    "### Read csv file"
   ]
  },
  {
   "cell_type": "code",
   "execution_count": 2,
   "id": "ef19c95c",
   "metadata": {},
   "outputs": [
    {
     "data": {
      "text/html": [
       "<div>\n",
       "<style scoped>\n",
       "    .dataframe tbody tr th:only-of-type {\n",
       "        vertical-align: middle;\n",
       "    }\n",
       "\n",
       "    .dataframe tbody tr th {\n",
       "        vertical-align: top;\n",
       "    }\n",
       "\n",
       "    .dataframe thead th {\n",
       "        text-align: right;\n",
       "    }\n",
       "</style>\n",
       "<table border=\"1\" class=\"dataframe\">\n",
       "  <thead>\n",
       "    <tr style=\"text-align: right;\">\n",
       "      <th></th>\n",
       "      <th>0</th>\n",
       "      <th>1</th>\n",
       "      <th>2</th>\n",
       "      <th>3</th>\n",
       "      <th>4</th>\n",
       "      <th>5</th>\n",
       "      <th>6</th>\n",
       "      <th>7</th>\n",
       "      <th>8</th>\n",
       "      <th>9</th>\n",
       "      <th>...</th>\n",
       "      <th>154</th>\n",
       "      <th>155</th>\n",
       "      <th>156</th>\n",
       "      <th>157</th>\n",
       "      <th>158</th>\n",
       "      <th>159</th>\n",
       "      <th>160</th>\n",
       "      <th>161</th>\n",
       "      <th>162</th>\n",
       "      <th>labels</th>\n",
       "    </tr>\n",
       "  </thead>\n",
       "  <tbody>\n",
       "    <tr>\n",
       "      <th>0</th>\n",
       "      <td>-399.535004</td>\n",
       "      <td>76.428391</td>\n",
       "      <td>-23.082157</td>\n",
       "      <td>-18.684132</td>\n",
       "      <td>1.685362</td>\n",
       "      <td>15.067113</td>\n",
       "      <td>-21.209391</td>\n",
       "      <td>-5.796458</td>\n",
       "      <td>-6.386797</td>\n",
       "      <td>3.003888</td>\n",
       "      <td>...</td>\n",
       "      <td>0.434596</td>\n",
       "      <td>0.412372</td>\n",
       "      <td>0.373666</td>\n",
       "      <td>0.568295</td>\n",
       "      <td>0.573150</td>\n",
       "      <td>0.404191</td>\n",
       "      <td>0.469243</td>\n",
       "      <td>0.525294</td>\n",
       "      <td>1487.683221</td>\n",
       "      <td>Angry</td>\n",
       "    </tr>\n",
       "    <tr>\n",
       "      <th>1</th>\n",
       "      <td>-163.356796</td>\n",
       "      <td>16.288073</td>\n",
       "      <td>-4.017271</td>\n",
       "      <td>-9.704623</td>\n",
       "      <td>-1.823467</td>\n",
       "      <td>0.891731</td>\n",
       "      <td>-2.793187</td>\n",
       "      <td>-5.654695</td>\n",
       "      <td>-3.320916</td>\n",
       "      <td>-0.029738</td>\n",
       "      <td>...</td>\n",
       "      <td>0.683682</td>\n",
       "      <td>0.668844</td>\n",
       "      <td>0.519446</td>\n",
       "      <td>0.654436</td>\n",
       "      <td>0.713587</td>\n",
       "      <td>0.593206</td>\n",
       "      <td>0.615255</td>\n",
       "      <td>0.660334</td>\n",
       "      <td>4569.698260</td>\n",
       "      <td>Angry</td>\n",
       "    </tr>\n",
       "    <tr>\n",
       "      <th>2</th>\n",
       "      <td>-412.039398</td>\n",
       "      <td>77.262421</td>\n",
       "      <td>-32.583839</td>\n",
       "      <td>-24.591434</td>\n",
       "      <td>4.346249</td>\n",
       "      <td>9.090682</td>\n",
       "      <td>-26.384003</td>\n",
       "      <td>-4.067521</td>\n",
       "      <td>-6.408696</td>\n",
       "      <td>4.251380</td>\n",
       "      <td>...</td>\n",
       "      <td>0.351096</td>\n",
       "      <td>0.422755</td>\n",
       "      <td>0.433503</td>\n",
       "      <td>0.356062</td>\n",
       "      <td>0.580109</td>\n",
       "      <td>0.609401</td>\n",
       "      <td>0.420695</td>\n",
       "      <td>0.462002</td>\n",
       "      <td>1686.632515</td>\n",
       "      <td>Angry</td>\n",
       "    </tr>\n",
       "    <tr>\n",
       "      <th>3</th>\n",
       "      <td>-431.256287</td>\n",
       "      <td>75.581871</td>\n",
       "      <td>-25.508471</td>\n",
       "      <td>-20.642477</td>\n",
       "      <td>1.065045</td>\n",
       "      <td>14.736607</td>\n",
       "      <td>-22.362364</td>\n",
       "      <td>-6.727914</td>\n",
       "      <td>-6.420148</td>\n",
       "      <td>3.231606</td>\n",
       "      <td>...</td>\n",
       "      <td>0.413919</td>\n",
       "      <td>0.406536</td>\n",
       "      <td>0.359708</td>\n",
       "      <td>0.557236</td>\n",
       "      <td>0.573689</td>\n",
       "      <td>0.396855</td>\n",
       "      <td>0.461476</td>\n",
       "      <td>0.535765</td>\n",
       "      <td>1548.812463</td>\n",
       "      <td>Angry</td>\n",
       "    </tr>\n",
       "    <tr>\n",
       "      <th>4</th>\n",
       "      <td>-391.680115</td>\n",
       "      <td>94.263718</td>\n",
       "      <td>-27.733862</td>\n",
       "      <td>-28.800610</td>\n",
       "      <td>-2.881231</td>\n",
       "      <td>13.102319</td>\n",
       "      <td>-28.031700</td>\n",
       "      <td>-10.077882</td>\n",
       "      <td>-9.727766</td>\n",
       "      <td>2.450062</td>\n",
       "      <td>...</td>\n",
       "      <td>0.425077</td>\n",
       "      <td>0.347824</td>\n",
       "      <td>0.328270</td>\n",
       "      <td>0.633562</td>\n",
       "      <td>0.555491</td>\n",
       "      <td>0.397686</td>\n",
       "      <td>0.483802</td>\n",
       "      <td>0.523931</td>\n",
       "      <td>1539.644752</td>\n",
       "      <td>Angry</td>\n",
       "    </tr>\n",
       "  </tbody>\n",
       "</table>\n",
       "<p>5 rows × 164 columns</p>\n",
       "</div>"
      ],
      "text/plain": [
       "            0          1          2          3         4          5  \\\n",
       "0 -399.535004  76.428391 -23.082157 -18.684132  1.685362  15.067113   \n",
       "1 -163.356796  16.288073  -4.017271  -9.704623 -1.823467   0.891731   \n",
       "2 -412.039398  77.262421 -32.583839 -24.591434  4.346249   9.090682   \n",
       "3 -431.256287  75.581871 -25.508471 -20.642477  1.065045  14.736607   \n",
       "4 -391.680115  94.263718 -27.733862 -28.800610 -2.881231  13.102319   \n",
       "\n",
       "           6          7         8         9  ...       154       155  \\\n",
       "0 -21.209391  -5.796458 -6.386797  3.003888  ...  0.434596  0.412372   \n",
       "1  -2.793187  -5.654695 -3.320916 -0.029738  ...  0.683682  0.668844   \n",
       "2 -26.384003  -4.067521 -6.408696  4.251380  ...  0.351096  0.422755   \n",
       "3 -22.362364  -6.727914 -6.420148  3.231606  ...  0.413919  0.406536   \n",
       "4 -28.031700 -10.077882 -9.727766  2.450062  ...  0.425077  0.347824   \n",
       "\n",
       "        156       157       158       159       160       161          162  \\\n",
       "0  0.373666  0.568295  0.573150  0.404191  0.469243  0.525294  1487.683221   \n",
       "1  0.519446  0.654436  0.713587  0.593206  0.615255  0.660334  4569.698260   \n",
       "2  0.433503  0.356062  0.580109  0.609401  0.420695  0.462002  1686.632515   \n",
       "3  0.359708  0.557236  0.573689  0.396855  0.461476  0.535765  1548.812463   \n",
       "4  0.328270  0.633562  0.555491  0.397686  0.483802  0.523931  1539.644752   \n",
       "\n",
       "   labels  \n",
       "0   Angry  \n",
       "1   Angry  \n",
       "2   Angry  \n",
       "3   Angry  \n",
       "4   Angry  \n",
       "\n",
       "[5 rows x 164 columns]"
      ]
     },
     "execution_count": 2,
     "metadata": {},
     "output_type": "execute_result"
    }
   ],
   "source": [
    "feat = pd.read_csv('feat.csv')\n",
    "\n",
    "feat.head()"
   ]
  },
  {
   "cell_type": "markdown",
   "id": "7bc15ca4",
   "metadata": {},
   "source": [
    "### Data Preparation"
   ]
  },
  {
   "cell_type": "code",
   "execution_count": 3,
   "id": "42a92605",
   "metadata": {},
   "outputs": [],
   "source": [
    "X = feat.drop(['labels'], axis = 1)\n",
    "\n",
    "y = feat['labels']"
   ]
  },
  {
   "cell_type": "code",
   "execution_count": 4,
   "id": "2994b333",
   "metadata": {},
   "outputs": [
    {
     "data": {
      "text/html": [
       "<div>\n",
       "<style scoped>\n",
       "    .dataframe tbody tr th:only-of-type {\n",
       "        vertical-align: middle;\n",
       "    }\n",
       "\n",
       "    .dataframe tbody tr th {\n",
       "        vertical-align: top;\n",
       "    }\n",
       "\n",
       "    .dataframe thead th {\n",
       "        text-align: right;\n",
       "    }\n",
       "</style>\n",
       "<table border=\"1\" class=\"dataframe\">\n",
       "  <thead>\n",
       "    <tr style=\"text-align: right;\">\n",
       "      <th></th>\n",
       "      <th>0</th>\n",
       "      <th>1</th>\n",
       "      <th>2</th>\n",
       "      <th>3</th>\n",
       "      <th>4</th>\n",
       "      <th>5</th>\n",
       "      <th>6</th>\n",
       "      <th>7</th>\n",
       "      <th>8</th>\n",
       "      <th>9</th>\n",
       "      <th>...</th>\n",
       "      <th>153</th>\n",
       "      <th>154</th>\n",
       "      <th>155</th>\n",
       "      <th>156</th>\n",
       "      <th>157</th>\n",
       "      <th>158</th>\n",
       "      <th>159</th>\n",
       "      <th>160</th>\n",
       "      <th>161</th>\n",
       "      <th>162</th>\n",
       "    </tr>\n",
       "  </thead>\n",
       "  <tbody>\n",
       "    <tr>\n",
       "      <th>0</th>\n",
       "      <td>-399.535004</td>\n",
       "      <td>76.428391</td>\n",
       "      <td>-23.082157</td>\n",
       "      <td>-18.684132</td>\n",
       "      <td>1.685362</td>\n",
       "      <td>15.067113</td>\n",
       "      <td>-21.209391</td>\n",
       "      <td>-5.796458</td>\n",
       "      <td>-6.386797</td>\n",
       "      <td>3.003888</td>\n",
       "      <td>...</td>\n",
       "      <td>0.362415</td>\n",
       "      <td>0.434596</td>\n",
       "      <td>0.412372</td>\n",
       "      <td>0.373666</td>\n",
       "      <td>0.568295</td>\n",
       "      <td>0.573150</td>\n",
       "      <td>0.404191</td>\n",
       "      <td>0.469243</td>\n",
       "      <td>0.525294</td>\n",
       "      <td>1487.683221</td>\n",
       "    </tr>\n",
       "    <tr>\n",
       "      <th>1</th>\n",
       "      <td>-163.356796</td>\n",
       "      <td>16.288073</td>\n",
       "      <td>-4.017271</td>\n",
       "      <td>-9.704623</td>\n",
       "      <td>-1.823467</td>\n",
       "      <td>0.891731</td>\n",
       "      <td>-2.793187</td>\n",
       "      <td>-5.654695</td>\n",
       "      <td>-3.320916</td>\n",
       "      <td>-0.029738</td>\n",
       "      <td>...</td>\n",
       "      <td>0.624722</td>\n",
       "      <td>0.683682</td>\n",
       "      <td>0.668844</td>\n",
       "      <td>0.519446</td>\n",
       "      <td>0.654436</td>\n",
       "      <td>0.713587</td>\n",
       "      <td>0.593206</td>\n",
       "      <td>0.615255</td>\n",
       "      <td>0.660334</td>\n",
       "      <td>4569.698260</td>\n",
       "    </tr>\n",
       "    <tr>\n",
       "      <th>2</th>\n",
       "      <td>-412.039398</td>\n",
       "      <td>77.262421</td>\n",
       "      <td>-32.583839</td>\n",
       "      <td>-24.591434</td>\n",
       "      <td>4.346249</td>\n",
       "      <td>9.090682</td>\n",
       "      <td>-26.384003</td>\n",
       "      <td>-4.067521</td>\n",
       "      <td>-6.408696</td>\n",
       "      <td>4.251380</td>\n",
       "      <td>...</td>\n",
       "      <td>0.424115</td>\n",
       "      <td>0.351096</td>\n",
       "      <td>0.422755</td>\n",
       "      <td>0.433503</td>\n",
       "      <td>0.356062</td>\n",
       "      <td>0.580109</td>\n",
       "      <td>0.609401</td>\n",
       "      <td>0.420695</td>\n",
       "      <td>0.462002</td>\n",
       "      <td>1686.632515</td>\n",
       "    </tr>\n",
       "    <tr>\n",
       "      <th>3</th>\n",
       "      <td>-431.256287</td>\n",
       "      <td>75.581871</td>\n",
       "      <td>-25.508471</td>\n",
       "      <td>-20.642477</td>\n",
       "      <td>1.065045</td>\n",
       "      <td>14.736607</td>\n",
       "      <td>-22.362364</td>\n",
       "      <td>-6.727914</td>\n",
       "      <td>-6.420148</td>\n",
       "      <td>3.231606</td>\n",
       "      <td>...</td>\n",
       "      <td>0.346212</td>\n",
       "      <td>0.413919</td>\n",
       "      <td>0.406536</td>\n",
       "      <td>0.359708</td>\n",
       "      <td>0.557236</td>\n",
       "      <td>0.573689</td>\n",
       "      <td>0.396855</td>\n",
       "      <td>0.461476</td>\n",
       "      <td>0.535765</td>\n",
       "      <td>1548.812463</td>\n",
       "    </tr>\n",
       "    <tr>\n",
       "      <th>4</th>\n",
       "      <td>-391.680115</td>\n",
       "      <td>94.263718</td>\n",
       "      <td>-27.733862</td>\n",
       "      <td>-28.800610</td>\n",
       "      <td>-2.881231</td>\n",
       "      <td>13.102319</td>\n",
       "      <td>-28.031700</td>\n",
       "      <td>-10.077882</td>\n",
       "      <td>-9.727766</td>\n",
       "      <td>2.450062</td>\n",
       "      <td>...</td>\n",
       "      <td>0.326723</td>\n",
       "      <td>0.425077</td>\n",
       "      <td>0.347824</td>\n",
       "      <td>0.328270</td>\n",
       "      <td>0.633562</td>\n",
       "      <td>0.555491</td>\n",
       "      <td>0.397686</td>\n",
       "      <td>0.483802</td>\n",
       "      <td>0.523931</td>\n",
       "      <td>1539.644752</td>\n",
       "    </tr>\n",
       "  </tbody>\n",
       "</table>\n",
       "<p>5 rows × 163 columns</p>\n",
       "</div>"
      ],
      "text/plain": [
       "            0          1          2          3         4          5  \\\n",
       "0 -399.535004  76.428391 -23.082157 -18.684132  1.685362  15.067113   \n",
       "1 -163.356796  16.288073  -4.017271  -9.704623 -1.823467   0.891731   \n",
       "2 -412.039398  77.262421 -32.583839 -24.591434  4.346249   9.090682   \n",
       "3 -431.256287  75.581871 -25.508471 -20.642477  1.065045  14.736607   \n",
       "4 -391.680115  94.263718 -27.733862 -28.800610 -2.881231  13.102319   \n",
       "\n",
       "           6          7         8         9  ...       153       154  \\\n",
       "0 -21.209391  -5.796458 -6.386797  3.003888  ...  0.362415  0.434596   \n",
       "1  -2.793187  -5.654695 -3.320916 -0.029738  ...  0.624722  0.683682   \n",
       "2 -26.384003  -4.067521 -6.408696  4.251380  ...  0.424115  0.351096   \n",
       "3 -22.362364  -6.727914 -6.420148  3.231606  ...  0.346212  0.413919   \n",
       "4 -28.031700 -10.077882 -9.727766  2.450062  ...  0.326723  0.425077   \n",
       "\n",
       "        155       156       157       158       159       160       161  \\\n",
       "0  0.412372  0.373666  0.568295  0.573150  0.404191  0.469243  0.525294   \n",
       "1  0.668844  0.519446  0.654436  0.713587  0.593206  0.615255  0.660334   \n",
       "2  0.422755  0.433503  0.356062  0.580109  0.609401  0.420695  0.462002   \n",
       "3  0.406536  0.359708  0.557236  0.573689  0.396855  0.461476  0.535765   \n",
       "4  0.347824  0.328270  0.633562  0.555491  0.397686  0.483802  0.523931   \n",
       "\n",
       "           162  \n",
       "0  1487.683221  \n",
       "1  4569.698260  \n",
       "2  1686.632515  \n",
       "3  1548.812463  \n",
       "4  1539.644752  \n",
       "\n",
       "[5 rows x 163 columns]"
      ]
     },
     "execution_count": 4,
     "metadata": {},
     "output_type": "execute_result"
    }
   ],
   "source": [
    "X.head()"
   ]
  },
  {
   "cell_type": "code",
   "execution_count": 5,
   "id": "c0abcc8e",
   "metadata": {},
   "outputs": [
    {
     "data": {
      "text/plain": [
       "Angry       2400\n",
       "Disgust     2400\n",
       "Fear        2400\n",
       "Happy       2400\n",
       "Neutral     2400\n",
       "Surprise    2400\n",
       "Sad         2400\n",
       "Name: labels, dtype: int64"
      ]
     },
     "execution_count": 5,
     "metadata": {},
     "output_type": "execute_result"
    }
   ],
   "source": [
    "y.value_counts()"
   ]
  },
  {
   "cell_type": "code",
   "execution_count": 6,
   "id": "26659028",
   "metadata": {},
   "outputs": [
    {
     "data": {
      "text/plain": [
       "0    Angry\n",
       "1    Angry\n",
       "2    Angry\n",
       "3    Angry\n",
       "4    Angry\n",
       "Name: labels, dtype: object"
      ]
     },
     "execution_count": 6,
     "metadata": {},
     "output_type": "execute_result"
    }
   ],
   "source": [
    "y.head()"
   ]
  },
  {
   "cell_type": "markdown",
   "id": "6ea6b31a",
   "metadata": {},
   "source": [
    "This is a multiclass classification problem so I must onehot encode y"
   ]
  },
  {
   "cell_type": "code",
   "execution_count": 7,
   "id": "d3ccbc1a",
   "metadata": {},
   "outputs": [
    {
     "data": {
      "text/plain": [
       "array([[1., 0., 0., ..., 0., 0., 0.],\n",
       "       [1., 0., 0., ..., 0., 0., 0.],\n",
       "       [1., 0., 0., ..., 0., 0., 0.],\n",
       "       ...,\n",
       "       [0., 0., 0., ..., 0., 1., 0.],\n",
       "       [0., 0., 0., ..., 0., 1., 0.],\n",
       "       [0., 0., 0., ..., 0., 1., 0.]])"
      ]
     },
     "execution_count": 7,
     "metadata": {},
     "output_type": "execute_result"
    }
   ],
   "source": [
    "onehot = OneHotEncoder()\n",
    "\n",
    "np_onehot = np.array(y).reshape(-1, 1)\n",
    "\n",
    "y = onehot.fit_transform(np_onehot).toarray()\n",
    "\n",
    "y"
   ]
  },
  {
   "cell_type": "markdown",
   "id": "b9653849",
   "metadata": {},
   "source": [
    "Train, test, split"
   ]
  },
  {
   "cell_type": "code",
   "execution_count": 8,
   "id": "3a68ff54",
   "metadata": {},
   "outputs": [],
   "source": [
    "X_train, X_test, y_train, y_test = train_test_split(X, y, test_size = 0.2, random_state = 101)"
   ]
  },
  {
   "cell_type": "code",
   "execution_count": 9,
   "id": "c685708b",
   "metadata": {},
   "outputs": [
    {
     "data": {
      "text/plain": [
       "((13440, 163), (13440, 7), (3360, 163), (3360, 7))"
      ]
     },
     "execution_count": 9,
     "metadata": {},
     "output_type": "execute_result"
    }
   ],
   "source": [
    "X_train.shape, y_train.shape, X_test.shape, y_test.shape"
   ]
  },
  {
   "cell_type": "markdown",
   "id": "1d12fce9",
   "metadata": {},
   "source": [
    "Scale the data using Standard Scaler"
   ]
  },
  {
   "cell_type": "code",
   "execution_count": 10,
   "id": "00117aca",
   "metadata": {},
   "outputs": [],
   "source": [
    "sc = StandardScaler()\n",
    "\n",
    "X_train = sc.fit_transform(X_train)\n",
    "\n",
    "X_test = sc.transform(X_test)"
   ]
  },
  {
   "cell_type": "markdown",
   "id": "a53ea3af",
   "metadata": {},
   "source": [
    "Insert a new axis that will appear at the axis position in the expanded array shape to make data suitable to model."
   ]
  },
  {
   "cell_type": "code",
   "execution_count": 11,
   "id": "deb50bf4",
   "metadata": {},
   "outputs": [
    {
     "data": {
      "text/plain": [
       "((13440, 163, 1), (13440, 7), (3360, 163, 1), (3360, 7))"
      ]
     },
     "execution_count": 11,
     "metadata": {},
     "output_type": "execute_result"
    }
   ],
   "source": [
    "X_train = np.expand_dims(X_train, axis = 2)\n",
    "\n",
    "X_test = np.expand_dims(X_test, axis = 2)\n",
    "\n",
    "X_train.shape, y_train.shape, X_test.shape, y_test.shape"
   ]
  },
  {
   "cell_type": "markdown",
   "id": "0ae965e1",
   "metadata": {},
   "source": [
    "### CNN Model"
   ]
  },
  {
   "cell_type": "markdown",
   "id": "88ebca65",
   "metadata": {},
   "source": [
    "Create an sequential CNN model"
   ]
  },
  {
   "cell_type": "code",
   "execution_count": 12,
   "id": "5f9663ac",
   "metadata": {},
   "outputs": [
    {
     "name": "stdout",
     "output_type": "stream",
     "text": [
      "Model: \"SER-CNN\"\n",
      "_________________________________________________________________\n",
      " Layer (type)                Output Shape              Param #   \n",
      "=================================================================\n",
      " conv1d (Conv1D)             (None, 163, 256)          1536      \n",
      "                                                                 \n",
      " max_pooling1d (MaxPooling1D  (None, 82, 256)          0         \n",
      " )                                                               \n",
      "                                                                 \n",
      " conv1d_1 (Conv1D)           (None, 82, 256)           327936    \n",
      "                                                                 \n",
      " max_pooling1d_1 (MaxPooling  (None, 41, 256)          0         \n",
      " 1D)                                                             \n",
      "                                                                 \n",
      " conv1d_2 (Conv1D)           (None, 41, 256)           327936    \n",
      "                                                                 \n",
      " max_pooling1d_2 (MaxPooling  (None, 21, 256)          0         \n",
      " 1D)                                                             \n",
      "                                                                 \n",
      " conv1d_3 (Conv1D)           (None, 21, 256)           327936    \n",
      "                                                                 \n",
      " max_pooling1d_3 (MaxPooling  (None, 11, 256)          0         \n",
      " 1D)                                                             \n",
      "                                                                 \n",
      " flatten (Flatten)           (None, 2816)              0         \n",
      "                                                                 \n",
      " dense (Dense)               (None, 32)                90144     \n",
      "                                                                 \n",
      " dropout (Dropout)           (None, 32)                0         \n",
      "                                                                 \n",
      " dense_1 (Dense)             (None, 7)                 231       \n",
      "                                                                 \n",
      "=================================================================\n",
      "Total params: 1,075,719\n",
      "Trainable params: 1,075,719\n",
      "Non-trainable params: 0\n",
      "_________________________________________________________________\n"
     ]
    }
   ],
   "source": [
    "model_cnn = keras.Sequential(name = 'SER-CNN')\n",
    "\n",
    "model_cnn.add(Conv1D(filters = 256, \n",
    "                 kernel_size = 5, \n",
    "                 strides = 1, \n",
    "                 padding = 'same', \n",
    "                 activation = 'relu', \n",
    "                 input_shape = (X_train.shape[1], 1)))\n",
    "\n",
    "model_cnn.add(MaxPooling1D(pool_size = 5, \n",
    "                       strides = 2, \n",
    "                       padding = 'same'))\n",
    "\n",
    "model_cnn.add(Conv1D(filters = 256, \n",
    "                 kernel_size = 5, \n",
    "                 strides = 1, \n",
    "                 padding = 'same', \n",
    "                 activation = 'relu')) \n",
    "\n",
    "model_cnn.add(MaxPooling1D(pool_size = 5, \n",
    "                       strides = 2, \n",
    "                       padding = 'same'))\n",
    "          \n",
    "model_cnn.add(Conv1D(filters = 256, \n",
    "                 kernel_size = 5, \n",
    "                 strides = 1, \n",
    "                 padding = 'same', \n",
    "                 activation = 'relu'))\n",
    "\n",
    "model_cnn.add(MaxPooling1D(pool_size = 5, \n",
    "                       strides = 2, \n",
    "                       padding = 'same'))\n",
    "          \n",
    "model_cnn.add(Conv1D(filters = 256, \n",
    "                 kernel_size = 5, \n",
    "                 strides = 1, \n",
    "                 padding = 'same', \n",
    "                 activation = 'relu'))\n",
    "\n",
    "model_cnn.add(MaxPooling1D(pool_size = 5, \n",
    "                       strides = 2, \n",
    "                       padding = 'same'))\n",
    "          \n",
    "model_cnn.add(Flatten())\n",
    "          \n",
    "model_cnn.add(Dense(units = 32, activation = 'relu'))\n",
    "          \n",
    "model_cnn.add(Dropout(0.3))\n",
    "          \n",
    "model_cnn.add(Dense(units = 7, activation = 'sigmoid'))\n",
    "          \n",
    "model_cnn.summary()"
   ]
  },
  {
   "cell_type": "code",
   "execution_count": 13,
   "id": "4df11cd5",
   "metadata": {},
   "outputs": [],
   "source": [
    "model_cnn.compile(optimizer = 'adam' , \n",
    "              loss = 'categorical_crossentropy' , \n",
    "              metrics = ['categorical_accuracy'])"
   ]
  },
  {
   "cell_type": "code",
   "execution_count": 14,
   "id": "9938cf02",
   "metadata": {},
   "outputs": [
    {
     "name": "stdout",
     "output_type": "stream",
     "text": [
      "Epoch 1/10\n",
      "105/105 [==============================] - 56s 501ms/step - loss: 0.8985 - categorical_accuracy: 0.6731 - val_loss: 0.3010 - val_categorical_accuracy: 0.9042\n",
      "Epoch 2/10\n",
      "105/105 [==============================] - 57s 546ms/step - loss: 0.3389 - categorical_accuracy: 0.8813 - val_loss: 0.1278 - val_categorical_accuracy: 0.9607\n",
      "Epoch 3/10\n",
      "105/105 [==============================] - 62s 594ms/step - loss: 0.2208 - categorical_accuracy: 0.9233 - val_loss: 0.1278 - val_categorical_accuracy: 0.9661\n",
      "Epoch 4/10\n",
      "105/105 [==============================] - 63s 599ms/step - loss: 0.1501 - categorical_accuracy: 0.9443 - val_loss: 0.0905 - val_categorical_accuracy: 0.9673\n",
      "Epoch 5/10\n",
      "105/105 [==============================] - 63s 602ms/step - loss: 0.1155 - categorical_accuracy: 0.9603 - val_loss: 0.0710 - val_categorical_accuracy: 0.9771\n",
      "Epoch 6/10\n",
      "105/105 [==============================] - 61s 577ms/step - loss: 0.1142 - categorical_accuracy: 0.9592 - val_loss: 0.0553 - val_categorical_accuracy: 0.9810\n",
      "Epoch 7/10\n",
      "105/105 [==============================] - 58s 555ms/step - loss: 0.0969 - categorical_accuracy: 0.9671 - val_loss: 0.0639 - val_categorical_accuracy: 0.9783\n",
      "Epoch 8/10\n",
      "105/105 [==============================] - 56s 537ms/step - loss: 0.0809 - categorical_accuracy: 0.9726 - val_loss: 0.0360 - val_categorical_accuracy: 0.9890\n",
      "Epoch 9/10\n",
      "105/105 [==============================] - 57s 541ms/step - loss: 0.0677 - categorical_accuracy: 0.9754 - val_loss: 0.0411 - val_categorical_accuracy: 0.9860\n",
      "Epoch 10/10\n",
      "105/105 [==============================] - 57s 542ms/step - loss: 0.0752 - categorical_accuracy: 0.9748 - val_loss: 0.0478 - val_categorical_accuracy: 0.9872\n"
     ]
    }
   ],
   "source": [
    "history_cnn = model_cnn.fit(X_train, \n",
    "                    y_train,\n",
    "                    batch_size = 128,\n",
    "                    epochs = 10,\n",
    "                    validation_data = (X_test, y_test))"
   ]
  },
  {
   "cell_type": "code",
   "execution_count": 15,
   "id": "6cd48b66",
   "metadata": {},
   "outputs": [
    {
     "name": "stdout",
     "output_type": "stream",
     "text": [
      "105/105 [==============================] - 4s 40ms/step - loss: 0.0478 - categorical_accuracy: 0.9872\n",
      "Test loss: 0.04780004918575287\n",
      "Test accuracy: 0.9872024059295654\n"
     ]
    }
   ],
   "source": [
    "score_cnn = model_cnn.evaluate(X_test, y_test)\n",
    "\n",
    "print('Test loss:', score_cnn[0])\n",
    "\n",
    "print('Test accuracy:', score_cnn[1])"
   ]
  },
  {
   "cell_type": "code",
   "execution_count": 16,
   "id": "3d3928b0",
   "metadata": {},
   "outputs": [
    {
     "data": {
      "image/png": "[encoded data removed]",
      "text/plain": [
       "<Figure size 600x600 with 1 Axes>"
      ]
     },
     "metadata": {},
     "output_type": "display_data"
    }
   ],
   "source": [
    "plt.figure(figsize = (6, 6))\n",
    "plt.title('CNN accuracy')\n",
    "\n",
    "plt.plot(history_cnn.history['categorical_accuracy'])\n",
    "plt.plot(history_cnn.history['val_categorical_accuracy'])\n",
    "\n",
    "plt.ylabel('Accuracy')\n",
    "plt.xlabel('Epoch')\n",
    "plt.legend(['Train', 'Validation'], loc = 'upper left')\n",
    "plt.show()"
   ]
  },
  {
   "cell_type": "markdown",
   "id": "9b7495bd",
   "metadata": {},
   "source": [
    "Predict on test data"
   ]
  },
  {
   "cell_type": "code",
   "execution_count": 17,
   "id": "11f28361",
   "metadata": {},
   "outputs": [
    {
     "name": "stdout",
     "output_type": "stream",
     "text": [
      "105/105 [==============================] - 4s 32ms/step\n"
     ]
    }
   ],
   "source": [
    "pred_cnn = model_cnn.predict(X_test)\n",
    "\n",
    "y_pred_cnn = onehot.inverse_transform(pred_cnn)\n",
    "\n",
    "y_test_cnn = onehot.inverse_transform(y_test)"
   ]
  },
  {
   "cell_type": "code",
   "execution_count": 18,
   "id": "71be1166",
   "metadata": {},
   "outputs": [
    {
     "data": {
      "text/html": [
       "<div>\n",
       "<style scoped>\n",
       "    .dataframe tbody tr th:only-of-type {\n",
       "        vertical-align: middle;\n",
       "    }\n",
       "\n",
       "    .dataframe tbody tr th {\n",
       "        vertical-align: top;\n",
       "    }\n",
       "\n",
       "    .dataframe thead th {\n",
       "        text-align: right;\n",
       "    }\n",
       "</style>\n",
       "<table border=\"1\" class=\"dataframe\">\n",
       "  <thead>\n",
       "    <tr style=\"text-align: right;\">\n",
       "      <th></th>\n",
       "      <th>Predicted</th>\n",
       "      <th>Actual</th>\n",
       "    </tr>\n",
       "  </thead>\n",
       "  <tbody>\n",
       "    <tr>\n",
       "      <th>0</th>\n",
       "      <td>Fear</td>\n",
       "      <td>Fear</td>\n",
       "    </tr>\n",
       "    <tr>\n",
       "      <th>1</th>\n",
       "      <td>Fear</td>\n",
       "      <td>Fear</td>\n",
       "    </tr>\n",
       "    <tr>\n",
       "      <th>2</th>\n",
       "      <td>Happy</td>\n",
       "      <td>Happy</td>\n",
       "    </tr>\n",
       "    <tr>\n",
       "      <th>3</th>\n",
       "      <td>Sad</td>\n",
       "      <td>Sad</td>\n",
       "    </tr>\n",
       "    <tr>\n",
       "      <th>4</th>\n",
       "      <td>Neutral</td>\n",
       "      <td>Neutral</td>\n",
       "    </tr>\n",
       "    <tr>\n",
       "      <th>5</th>\n",
       "      <td>Fear</td>\n",
       "      <td>Fear</td>\n",
       "    </tr>\n",
       "    <tr>\n",
       "      <th>6</th>\n",
       "      <td>Surprise</td>\n",
       "      <td>Surprise</td>\n",
       "    </tr>\n",
       "    <tr>\n",
       "      <th>7</th>\n",
       "      <td>Sad</td>\n",
       "      <td>Sad</td>\n",
       "    </tr>\n",
       "    <tr>\n",
       "      <th>8</th>\n",
       "      <td>Surprise</td>\n",
       "      <td>Surprise</td>\n",
       "    </tr>\n",
       "    <tr>\n",
       "      <th>9</th>\n",
       "      <td>Sad</td>\n",
       "      <td>Sad</td>\n",
       "    </tr>\n",
       "  </tbody>\n",
       "</table>\n",
       "</div>"
      ],
      "text/plain": [
       "  Predicted    Actual\n",
       "0      Fear      Fear\n",
       "1      Fear      Fear\n",
       "2     Happy     Happy\n",
       "3       Sad       Sad\n",
       "4   Neutral   Neutral\n",
       "5      Fear      Fear\n",
       "6  Surprise  Surprise\n",
       "7       Sad       Sad\n",
       "8  Surprise  Surprise\n",
       "9       Sad       Sad"
      ]
     },
     "execution_count": 18,
     "metadata": {},
     "output_type": "execute_result"
    }
   ],
   "source": [
    "df_cnn = pd.DataFrame(columns = ['Predicted', 'Actual'])\n",
    "\n",
    "df_cnn['Predicted'] = y_pred_cnn.flatten()\n",
    "\n",
    "df_cnn['Actual'] = y_test_cnn.flatten()\n",
    "\n",
    "df_cnn.head(10)"
   ]
  },
  {
   "cell_type": "code",
   "execution_count": 19,
   "id": "11716728",
   "metadata": {},
   "outputs": [
    {
     "data": {
      "image/png": "[encoded data removed]",
      "text/plain": [
       "<Figure size 1000x800 with 2 Axes>"
      ]
     },
     "metadata": {},
     "output_type": "display_data"
    }
   ],
   "source": [
    "confusion_matrix_cnn = confusion_matrix(y_test_cnn, y_pred_cnn)\n",
    "\n",
    "plt.figure(figsize = (10, 8))\n",
    "\n",
    "confusion_matrix_cnn = pd.DataFrame(confusion_matrix_cnn, \n",
    "                                    index = [x for x in onehot.categories_], \n",
    "                                    columns = [c for c in onehot.categories_])\n",
    "\n",
    "sns.heatmap(confusion_matrix_cnn, \n",
    "            annot = True)\n",
    "\n",
    "plt.title('CNN Confusion Matrix')\n",
    "\n",
    "plt.xlabel('Predicted')\n",
    "\n",
    "plt.ylabel('Actual')\n",
    "\n",
    "plt.show()"
   ]
  },
  {
   "cell_type": "code",
   "execution_count": 20,
   "id": "8e13083d",
   "metadata": {},
   "outputs": [
    {
     "name": "stdout",
     "output_type": "stream",
     "text": [
      "              precision    recall  f1-score   support\n",
      "\n",
      "       Angry       0.97      0.98      0.97       486\n",
      "     Disgust       0.96      1.00      0.98       473\n",
      "        Fear       0.91      0.99      0.95       483\n",
      "       Happy       0.99      0.84      0.91       482\n",
      "     Neutral       1.00      1.00      1.00       488\n",
      "         Sad       1.00      0.99      0.99       479\n",
      "    Surprise       0.97      0.99      0.98       469\n",
      "\n",
      "    accuracy                           0.97      3360\n",
      "   macro avg       0.97      0.97      0.97      3360\n",
      "weighted avg       0.97      0.97      0.97      3360\n",
      "\n"
     ]
    }
   ],
   "source": [
    "print(classification_report(y_test_cnn, y_pred_cnn))"
   ]
  },
  {
   "cell_type": "code",
   "execution_count": 21,
   "id": "798fa3ef",
   "metadata": {},
   "outputs": [],
   "source": [
    "tf.keras.models.save_model(model_cnn, 'model_cnn.hdf5')"
   ]
  },
  {
   "cell_type": "code",
   "execution_count": null,
   "id": "7008e577",
   "metadata": {},
   "outputs": [],
   "source": []
  }
 ],
 "metadata": {
  "kernelspec": {
   "display_name": "Python 3 (ipykernel)",
   "language": "python",
   "name": "python3"
  },
  "language_info": {
   "codemirror_mode": {
    "name": "ipython",
    "version": 3
   },
   "file_extension": ".py",
   "mimetype": "text/x-python",
   "name": "python",
   "nbconvert_exporter": "python",
   "pygments_lexer": "ipython3",
   "version": "3.9.13"
  }
 },
 "nbformat": 4,
 "nbformat_minor": 5
}
