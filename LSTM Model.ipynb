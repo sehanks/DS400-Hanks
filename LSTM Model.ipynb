{
 "cells": [
  {
   "cell_type": "markdown",
   "id": "ce713dc3",
   "metadata": {},
   "source": [
    "# Speech Emotion Recognition - LSTM Model"
   ]
  },
  {
   "cell_type": "markdown",
   "id": "cbb183b6",
   "metadata": {},
   "source": [
    "### Import necessary libraries"
   ]
  },
  {
   "cell_type": "code",
   "execution_count": 1,
   "id": "cc3ee955",
   "metadata": {},
   "outputs": [
    {
     "name": "stderr",
     "output_type": "stream",
     "text": [
      "C:\\Users\\TestUser\\anaconda3\\lib\\site-packages\\paramiko\\transport.py:219: CryptographyDeprecationWarning: Blowfish has been deprecated\n",
      "  \"class\": algorithms.Blowfish,\n"
     ]
    }
   ],
   "source": [
    "import os\n",
    "import numpy as np\n",
    "import pandas as pd\n",
    "import matplotlib.pyplot as plt\n",
    "import seaborn as sns\n",
    "\n",
    "import IPython\n",
    "import librosa # librosa is a Python library for analyzing audio and music used to extract the data from audio files it later\n",
    "import librosa.display\n",
    "from IPython.display import Audio # to play the audio files\n",
    "plt.style.use('seaborn-white')\n",
    "from python_speech_features import mfcc\n",
    "\n",
    "from sklearn.preprocessing import StandardScaler, OneHotEncoder\n",
    "from sklearn.metrics import confusion_matrix, classification_report\n",
    "from sklearn.model_selection import train_test_split\n",
    "\n",
    "from os.path import dirname, join as pjoin\n",
    "from scipy.io import wavfile\n",
    "import scipy.io\n",
    "\n",
    "from keras.layers import Input, Conv2D, MaxPooling2D, AveragePooling2D, Flatten, GlobalAveragePooling2D, Dense, Dropout, Conv1D, MaxPooling1D, BatchNormalization\n",
    "from keras.layers import concatenate\n",
    "from keras.models import Model\n",
    "from keras.layers.normalization import layer_normalization\n",
    "from tensorflow.keras.models import Sequential\n",
    "from keras.callbacks import ReduceLROnPlateau\n",
    "from tensorflow.keras.layers import LSTM\n",
    "from keras.applications.vgg19 import VGG19\n",
    "import tensorflow as tf\n",
    "from tensorflow import keras\n",
    "from tensorflow.keras import layers\n",
    "from keras.models import Sequential\n",
    "from keras.utils import np_utils, to_categorical\n",
    "\n",
    "import torch\n",
    "from pytorch_transformers import GPT2Tokenizer, GPT2LMHeadModel\n",
    "import speech_recognition as sr\n",
    "\n",
    "from sklearn.preprocessing import StandardScaler, OneHotEncoder\n",
    "from sklearn.metrics import confusion_matrix, classification_report\n",
    "from sklearn.model_selection import train_test_split"
   ]
  },
  {
   "cell_type": "markdown",
   "id": "3ec5264e",
   "metadata": {},
   "source": [
    "### Read csv file"
   ]
  },
  {
   "cell_type": "code",
   "execution_count": 2,
   "id": "21284008",
   "metadata": {},
   "outputs": [
    {
     "data": {
      "text/html": [
       "<div>\n",
       "<style scoped>\n",
       "    .dataframe tbody tr th:only-of-type {\n",
       "        vertical-align: middle;\n",
       "    }\n",
       "\n",
       "    .dataframe tbody tr th {\n",
       "        vertical-align: top;\n",
       "    }\n",
       "\n",
       "    .dataframe thead th {\n",
       "        text-align: right;\n",
       "    }\n",
       "</style>\n",
       "<table border=\"1\" class=\"dataframe\">\n",
       "  <thead>\n",
       "    <tr style=\"text-align: right;\">\n",
       "      <th></th>\n",
       "      <th>0</th>\n",
       "      <th>1</th>\n",
       "      <th>2</th>\n",
       "      <th>3</th>\n",
       "      <th>4</th>\n",
       "      <th>5</th>\n",
       "      <th>6</th>\n",
       "      <th>7</th>\n",
       "      <th>8</th>\n",
       "      <th>9</th>\n",
       "      <th>...</th>\n",
       "      <th>154</th>\n",
       "      <th>155</th>\n",
       "      <th>156</th>\n",
       "      <th>157</th>\n",
       "      <th>158</th>\n",
       "      <th>159</th>\n",
       "      <th>160</th>\n",
       "      <th>161</th>\n",
       "      <th>162</th>\n",
       "      <th>labels</th>\n",
       "    </tr>\n",
       "  </thead>\n",
       "  <tbody>\n",
       "    <tr>\n",
       "      <th>0</th>\n",
       "      <td>-399.535004</td>\n",
       "      <td>76.428391</td>\n",
       "      <td>-23.082157</td>\n",
       "      <td>-18.684132</td>\n",
       "      <td>1.685362</td>\n",
       "      <td>15.067113</td>\n",
       "      <td>-21.209391</td>\n",
       "      <td>-5.796458</td>\n",
       "      <td>-6.386797</td>\n",
       "      <td>3.003888</td>\n",
       "      <td>...</td>\n",
       "      <td>0.434596</td>\n",
       "      <td>0.412372</td>\n",
       "      <td>0.373666</td>\n",
       "      <td>0.568295</td>\n",
       "      <td>0.573150</td>\n",
       "      <td>0.404191</td>\n",
       "      <td>0.469243</td>\n",
       "      <td>0.525294</td>\n",
       "      <td>1487.683221</td>\n",
       "      <td>Angry</td>\n",
       "    </tr>\n",
       "    <tr>\n",
       "      <th>1</th>\n",
       "      <td>-163.356796</td>\n",
       "      <td>16.288073</td>\n",
       "      <td>-4.017271</td>\n",
       "      <td>-9.704623</td>\n",
       "      <td>-1.823467</td>\n",
       "      <td>0.891731</td>\n",
       "      <td>-2.793187</td>\n",
       "      <td>-5.654695</td>\n",
       "      <td>-3.320916</td>\n",
       "      <td>-0.029738</td>\n",
       "      <td>...</td>\n",
       "      <td>0.683682</td>\n",
       "      <td>0.668844</td>\n",
       "      <td>0.519446</td>\n",
       "      <td>0.654436</td>\n",
       "      <td>0.713587</td>\n",
       "      <td>0.593206</td>\n",
       "      <td>0.615255</td>\n",
       "      <td>0.660334</td>\n",
       "      <td>4569.698260</td>\n",
       "      <td>Angry</td>\n",
       "    </tr>\n",
       "    <tr>\n",
       "      <th>2</th>\n",
       "      <td>-412.039398</td>\n",
       "      <td>77.262421</td>\n",
       "      <td>-32.583839</td>\n",
       "      <td>-24.591434</td>\n",
       "      <td>4.346249</td>\n",
       "      <td>9.090682</td>\n",
       "      <td>-26.384003</td>\n",
       "      <td>-4.067521</td>\n",
       "      <td>-6.408696</td>\n",
       "      <td>4.251380</td>\n",
       "      <td>...</td>\n",
       "      <td>0.351096</td>\n",
       "      <td>0.422755</td>\n",
       "      <td>0.433503</td>\n",
       "      <td>0.356062</td>\n",
       "      <td>0.580109</td>\n",
       "      <td>0.609401</td>\n",
       "      <td>0.420695</td>\n",
       "      <td>0.462002</td>\n",
       "      <td>1686.632515</td>\n",
       "      <td>Angry</td>\n",
       "    </tr>\n",
       "    <tr>\n",
       "      <th>3</th>\n",
       "      <td>-431.256287</td>\n",
       "      <td>75.581871</td>\n",
       "      <td>-25.508471</td>\n",
       "      <td>-20.642477</td>\n",
       "      <td>1.065045</td>\n",
       "      <td>14.736607</td>\n",
       "      <td>-22.362364</td>\n",
       "      <td>-6.727914</td>\n",
       "      <td>-6.420148</td>\n",
       "      <td>3.231606</td>\n",
       "      <td>...</td>\n",
       "      <td>0.413919</td>\n",
       "      <td>0.406536</td>\n",
       "      <td>0.359708</td>\n",
       "      <td>0.557236</td>\n",
       "      <td>0.573689</td>\n",
       "      <td>0.396855</td>\n",
       "      <td>0.461476</td>\n",
       "      <td>0.535765</td>\n",
       "      <td>1548.812463</td>\n",
       "      <td>Angry</td>\n",
       "    </tr>\n",
       "    <tr>\n",
       "      <th>4</th>\n",
       "      <td>-391.680115</td>\n",
       "      <td>94.263718</td>\n",
       "      <td>-27.733862</td>\n",
       "      <td>-28.800610</td>\n",
       "      <td>-2.881231</td>\n",
       "      <td>13.102319</td>\n",
       "      <td>-28.031700</td>\n",
       "      <td>-10.077882</td>\n",
       "      <td>-9.727766</td>\n",
       "      <td>2.450062</td>\n",
       "      <td>...</td>\n",
       "      <td>0.425077</td>\n",
       "      <td>0.347824</td>\n",
       "      <td>0.328270</td>\n",
       "      <td>0.633562</td>\n",
       "      <td>0.555491</td>\n",
       "      <td>0.397686</td>\n",
       "      <td>0.483802</td>\n",
       "      <td>0.523931</td>\n",
       "      <td>1539.644752</td>\n",
       "      <td>Angry</td>\n",
       "    </tr>\n",
       "  </tbody>\n",
       "</table>\n",
       "<p>5 rows × 164 columns</p>\n",
       "</div>"
      ],
      "text/plain": [
       "            0          1          2          3         4          5  \\\n",
       "0 -399.535004  76.428391 -23.082157 -18.684132  1.685362  15.067113   \n",
       "1 -163.356796  16.288073  -4.017271  -9.704623 -1.823467   0.891731   \n",
       "2 -412.039398  77.262421 -32.583839 -24.591434  4.346249   9.090682   \n",
       "3 -431.256287  75.581871 -25.508471 -20.642477  1.065045  14.736607   \n",
       "4 -391.680115  94.263718 -27.733862 -28.800610 -2.881231  13.102319   \n",
       "\n",
       "           6          7         8         9  ...       154       155  \\\n",
       "0 -21.209391  -5.796458 -6.386797  3.003888  ...  0.434596  0.412372   \n",
       "1  -2.793187  -5.654695 -3.320916 -0.029738  ...  0.683682  0.668844   \n",
       "2 -26.384003  -4.067521 -6.408696  4.251380  ...  0.351096  0.422755   \n",
       "3 -22.362364  -6.727914 -6.420148  3.231606  ...  0.413919  0.406536   \n",
       "4 -28.031700 -10.077882 -9.727766  2.450062  ...  0.425077  0.347824   \n",
       "\n",
       "        156       157       158       159       160       161          162  \\\n",
       "0  0.373666  0.568295  0.573150  0.404191  0.469243  0.525294  1487.683221   \n",
       "1  0.519446  0.654436  0.713587  0.593206  0.615255  0.660334  4569.698260   \n",
       "2  0.433503  0.356062  0.580109  0.609401  0.420695  0.462002  1686.632515   \n",
       "3  0.359708  0.557236  0.573689  0.396855  0.461476  0.535765  1548.812463   \n",
       "4  0.328270  0.633562  0.555491  0.397686  0.483802  0.523931  1539.644752   \n",
       "\n",
       "   labels  \n",
       "0   Angry  \n",
       "1   Angry  \n",
       "2   Angry  \n",
       "3   Angry  \n",
       "4   Angry  \n",
       "\n",
       "[5 rows x 164 columns]"
      ]
     },
     "execution_count": 2,
     "metadata": {},
     "output_type": "execute_result"
    }
   ],
   "source": [
    "feat = pd.read_csv('feat.csv')\n",
    "\n",
    "feat.head()"
   ]
  },
  {
   "cell_type": "markdown",
   "id": "63957567",
   "metadata": {},
   "source": [
    "### Data Preparation"
   ]
  },
  {
   "cell_type": "code",
   "execution_count": 3,
   "id": "8fb22b8f",
   "metadata": {},
   "outputs": [],
   "source": [
    "X = feat.drop(['labels'], axis = 1)\n",
    "\n",
    "y = feat['labels']"
   ]
  },
  {
   "cell_type": "code",
   "execution_count": 4,
   "id": "f5c28d09",
   "metadata": {},
   "outputs": [
    {
     "data": {
      "text/html": [
       "<div>\n",
       "<style scoped>\n",
       "    .dataframe tbody tr th:only-of-type {\n",
       "        vertical-align: middle;\n",
       "    }\n",
       "\n",
       "    .dataframe tbody tr th {\n",
       "        vertical-align: top;\n",
       "    }\n",
       "\n",
       "    .dataframe thead th {\n",
       "        text-align: right;\n",
       "    }\n",
       "</style>\n",
       "<table border=\"1\" class=\"dataframe\">\n",
       "  <thead>\n",
       "    <tr style=\"text-align: right;\">\n",
       "      <th></th>\n",
       "      <th>0</th>\n",
       "      <th>1</th>\n",
       "      <th>2</th>\n",
       "      <th>3</th>\n",
       "      <th>4</th>\n",
       "      <th>5</th>\n",
       "      <th>6</th>\n",
       "      <th>7</th>\n",
       "      <th>8</th>\n",
       "      <th>9</th>\n",
       "      <th>...</th>\n",
       "      <th>153</th>\n",
       "      <th>154</th>\n",
       "      <th>155</th>\n",
       "      <th>156</th>\n",
       "      <th>157</th>\n",
       "      <th>158</th>\n",
       "      <th>159</th>\n",
       "      <th>160</th>\n",
       "      <th>161</th>\n",
       "      <th>162</th>\n",
       "    </tr>\n",
       "  </thead>\n",
       "  <tbody>\n",
       "    <tr>\n",
       "      <th>0</th>\n",
       "      <td>-399.535004</td>\n",
       "      <td>76.428391</td>\n",
       "      <td>-23.082157</td>\n",
       "      <td>-18.684132</td>\n",
       "      <td>1.685362</td>\n",
       "      <td>15.067113</td>\n",
       "      <td>-21.209391</td>\n",
       "      <td>-5.796458</td>\n",
       "      <td>-6.386797</td>\n",
       "      <td>3.003888</td>\n",
       "      <td>...</td>\n",
       "      <td>0.362415</td>\n",
       "      <td>0.434596</td>\n",
       "      <td>0.412372</td>\n",
       "      <td>0.373666</td>\n",
       "      <td>0.568295</td>\n",
       "      <td>0.573150</td>\n",
       "      <td>0.404191</td>\n",
       "      <td>0.469243</td>\n",
       "      <td>0.525294</td>\n",
       "      <td>1487.683221</td>\n",
       "    </tr>\n",
       "    <tr>\n",
       "      <th>1</th>\n",
       "      <td>-163.356796</td>\n",
       "      <td>16.288073</td>\n",
       "      <td>-4.017271</td>\n",
       "      <td>-9.704623</td>\n",
       "      <td>-1.823467</td>\n",
       "      <td>0.891731</td>\n",
       "      <td>-2.793187</td>\n",
       "      <td>-5.654695</td>\n",
       "      <td>-3.320916</td>\n",
       "      <td>-0.029738</td>\n",
       "      <td>...</td>\n",
       "      <td>0.624722</td>\n",
       "      <td>0.683682</td>\n",
       "      <td>0.668844</td>\n",
       "      <td>0.519446</td>\n",
       "      <td>0.654436</td>\n",
       "      <td>0.713587</td>\n",
       "      <td>0.593206</td>\n",
       "      <td>0.615255</td>\n",
       "      <td>0.660334</td>\n",
       "      <td>4569.698260</td>\n",
       "    </tr>\n",
       "    <tr>\n",
       "      <th>2</th>\n",
       "      <td>-412.039398</td>\n",
       "      <td>77.262421</td>\n",
       "      <td>-32.583839</td>\n",
       "      <td>-24.591434</td>\n",
       "      <td>4.346249</td>\n",
       "      <td>9.090682</td>\n",
       "      <td>-26.384003</td>\n",
       "      <td>-4.067521</td>\n",
       "      <td>-6.408696</td>\n",
       "      <td>4.251380</td>\n",
       "      <td>...</td>\n",
       "      <td>0.424115</td>\n",
       "      <td>0.351096</td>\n",
       "      <td>0.422755</td>\n",
       "      <td>0.433503</td>\n",
       "      <td>0.356062</td>\n",
       "      <td>0.580109</td>\n",
       "      <td>0.609401</td>\n",
       "      <td>0.420695</td>\n",
       "      <td>0.462002</td>\n",
       "      <td>1686.632515</td>\n",
       "    </tr>\n",
       "    <tr>\n",
       "      <th>3</th>\n",
       "      <td>-431.256287</td>\n",
       "      <td>75.581871</td>\n",
       "      <td>-25.508471</td>\n",
       "      <td>-20.642477</td>\n",
       "      <td>1.065045</td>\n",
       "      <td>14.736607</td>\n",
       "      <td>-22.362364</td>\n",
       "      <td>-6.727914</td>\n",
       "      <td>-6.420148</td>\n",
       "      <td>3.231606</td>\n",
       "      <td>...</td>\n",
       "      <td>0.346212</td>\n",
       "      <td>0.413919</td>\n",
       "      <td>0.406536</td>\n",
       "      <td>0.359708</td>\n",
       "      <td>0.557236</td>\n",
       "      <td>0.573689</td>\n",
       "      <td>0.396855</td>\n",
       "      <td>0.461476</td>\n",
       "      <td>0.535765</td>\n",
       "      <td>1548.812463</td>\n",
       "    </tr>\n",
       "    <tr>\n",
       "      <th>4</th>\n",
       "      <td>-391.680115</td>\n",
       "      <td>94.263718</td>\n",
       "      <td>-27.733862</td>\n",
       "      <td>-28.800610</td>\n",
       "      <td>-2.881231</td>\n",
       "      <td>13.102319</td>\n",
       "      <td>-28.031700</td>\n",
       "      <td>-10.077882</td>\n",
       "      <td>-9.727766</td>\n",
       "      <td>2.450062</td>\n",
       "      <td>...</td>\n",
       "      <td>0.326723</td>\n",
       "      <td>0.425077</td>\n",
       "      <td>0.347824</td>\n",
       "      <td>0.328270</td>\n",
       "      <td>0.633562</td>\n",
       "      <td>0.555491</td>\n",
       "      <td>0.397686</td>\n",
       "      <td>0.483802</td>\n",
       "      <td>0.523931</td>\n",
       "      <td>1539.644752</td>\n",
       "    </tr>\n",
       "  </tbody>\n",
       "</table>\n",
       "<p>5 rows × 163 columns</p>\n",
       "</div>"
      ],
      "text/plain": [
       "            0          1          2          3         4          5  \\\n",
       "0 -399.535004  76.428391 -23.082157 -18.684132  1.685362  15.067113   \n",
       "1 -163.356796  16.288073  -4.017271  -9.704623 -1.823467   0.891731   \n",
       "2 -412.039398  77.262421 -32.583839 -24.591434  4.346249   9.090682   \n",
       "3 -431.256287  75.581871 -25.508471 -20.642477  1.065045  14.736607   \n",
       "4 -391.680115  94.263718 -27.733862 -28.800610 -2.881231  13.102319   \n",
       "\n",
       "           6          7         8         9  ...       153       154  \\\n",
       "0 -21.209391  -5.796458 -6.386797  3.003888  ...  0.362415  0.434596   \n",
       "1  -2.793187  -5.654695 -3.320916 -0.029738  ...  0.624722  0.683682   \n",
       "2 -26.384003  -4.067521 -6.408696  4.251380  ...  0.424115  0.351096   \n",
       "3 -22.362364  -6.727914 -6.420148  3.231606  ...  0.346212  0.413919   \n",
       "4 -28.031700 -10.077882 -9.727766  2.450062  ...  0.326723  0.425077   \n",
       "\n",
       "        155       156       157       158       159       160       161  \\\n",
       "0  0.412372  0.373666  0.568295  0.573150  0.404191  0.469243  0.525294   \n",
       "1  0.668844  0.519446  0.654436  0.713587  0.593206  0.615255  0.660334   \n",
       "2  0.422755  0.433503  0.356062  0.580109  0.609401  0.420695  0.462002   \n",
       "3  0.406536  0.359708  0.557236  0.573689  0.396855  0.461476  0.535765   \n",
       "4  0.347824  0.328270  0.633562  0.555491  0.397686  0.483802  0.523931   \n",
       "\n",
       "           162  \n",
       "0  1487.683221  \n",
       "1  4569.698260  \n",
       "2  1686.632515  \n",
       "3  1548.812463  \n",
       "4  1539.644752  \n",
       "\n",
       "[5 rows x 163 columns]"
      ]
     },
     "execution_count": 4,
     "metadata": {},
     "output_type": "execute_result"
    }
   ],
   "source": [
    "X.head()"
   ]
  },
  {
   "cell_type": "code",
   "execution_count": 5,
   "id": "b3842325",
   "metadata": {},
   "outputs": [
    {
     "data": {
      "text/plain": [
       "Angry       2400\n",
       "Disgust     2400\n",
       "Fear        2400\n",
       "Happy       2400\n",
       "Neutral     2400\n",
       "Surprise    2400\n",
       "Sad         2400\n",
       "Name: labels, dtype: int64"
      ]
     },
     "execution_count": 5,
     "metadata": {},
     "output_type": "execute_result"
    }
   ],
   "source": [
    "y.value_counts()"
   ]
  },
  {
   "cell_type": "code",
   "execution_count": 6,
   "id": "662d860a",
   "metadata": {},
   "outputs": [
    {
     "data": {
      "text/plain": [
       "0    Angry\n",
       "1    Angry\n",
       "2    Angry\n",
       "3    Angry\n",
       "4    Angry\n",
       "Name: labels, dtype: object"
      ]
     },
     "execution_count": 6,
     "metadata": {},
     "output_type": "execute_result"
    }
   ],
   "source": [
    "y.head()"
   ]
  },
  {
   "cell_type": "markdown",
   "id": "99c3df28",
   "metadata": {},
   "source": [
    "This is a multiclass classification problem so I must onehot encode y"
   ]
  },
  {
   "cell_type": "code",
   "execution_count": 7,
   "id": "4caf14db",
   "metadata": {},
   "outputs": [
    {
     "data": {
      "text/plain": [
       "array([[1., 0., 0., ..., 0., 0., 0.],\n",
       "       [1., 0., 0., ..., 0., 0., 0.],\n",
       "       [1., 0., 0., ..., 0., 0., 0.],\n",
       "       ...,\n",
       "       [0., 0., 0., ..., 0., 1., 0.],\n",
       "       [0., 0., 0., ..., 0., 1., 0.],\n",
       "       [0., 0., 0., ..., 0., 1., 0.]])"
      ]
     },
     "execution_count": 7,
     "metadata": {},
     "output_type": "execute_result"
    }
   ],
   "source": [
    "onehot = OneHotEncoder()\n",
    "\n",
    "np_onehot = np.array(y).reshape(-1, 1)\n",
    "\n",
    "y = onehot.fit_transform(np_onehot).toarray()\n",
    "\n",
    "y"
   ]
  },
  {
   "cell_type": "markdown",
   "id": "8e2d0419",
   "metadata": {},
   "source": [
    "Train, test, split"
   ]
  },
  {
   "cell_type": "code",
   "execution_count": 8,
   "id": "511abbcb",
   "metadata": {},
   "outputs": [],
   "source": [
    "X_train, X_test, y_train, y_test = train_test_split(X, y, test_size = 0.2, random_state = 101)"
   ]
  },
  {
   "cell_type": "code",
   "execution_count": 9,
   "id": "c441015f",
   "metadata": {},
   "outputs": [
    {
     "data": {
      "text/plain": [
       "((13440, 163), (13440, 7), (3360, 163), (3360, 7))"
      ]
     },
     "execution_count": 9,
     "metadata": {},
     "output_type": "execute_result"
    }
   ],
   "source": [
    "X_train.shape, y_train.shape, X_test.shape, y_test.shape"
   ]
  },
  {
   "cell_type": "markdown",
   "id": "39f92a28",
   "metadata": {},
   "source": [
    "Scale the data using Standard Scaler"
   ]
  },
  {
   "cell_type": "code",
   "execution_count": 10,
   "id": "a97872f7",
   "metadata": {},
   "outputs": [],
   "source": [
    "sc = StandardScaler()\n",
    "\n",
    "X_train = sc.fit_transform(X_train)\n",
    "\n",
    "X_test = sc.transform(X_test)"
   ]
  },
  {
   "cell_type": "markdown",
   "id": "c5981cc0",
   "metadata": {},
   "source": [
    "Insert a new axis that will appear at the axis position in the expanded array shape to make data suitable to model."
   ]
  },
  {
   "cell_type": "code",
   "execution_count": 11,
   "id": "16e71c9f",
   "metadata": {},
   "outputs": [
    {
     "data": {
      "text/plain": [
       "((13440, 163, 1), (13440, 7), (3360, 163, 1), (3360, 7))"
      ]
     },
     "execution_count": 11,
     "metadata": {},
     "output_type": "execute_result"
    }
   ],
   "source": [
    "X_train = np.expand_dims(X_train, axis = 2)\n",
    "\n",
    "X_test = np.expand_dims(X_test, axis = 2)\n",
    "\n",
    "X_train.shape, y_train.shape, X_test.shape, y_test.shape"
   ]
  },
  {
   "cell_type": "markdown",
   "id": "f22f9134",
   "metadata": {},
   "source": [
    "### LSTM Model"
   ]
  },
  {
   "cell_type": "markdown",
   "id": "19fddc3c",
   "metadata": {},
   "source": [
    "Long Short-Term Memory Networks"
   ]
  },
  {
   "cell_type": "code",
   "execution_count": 12,
   "id": "ea81b5d4",
   "metadata": {},
   "outputs": [
    {
     "name": "stdout",
     "output_type": "stream",
     "text": [
      "Model: \"SER-LSTM\"\n",
      "_________________________________________________________________\n",
      " Layer (type)                Output Shape              Param #   \n",
      "=================================================================\n",
      " lstm (LSTM)                 (None, 163, 64)           16896     \n",
      "                                                                 \n",
      " dense (Dense)               (None, 163, 64)           4160      \n",
      "                                                                 \n",
      " dropout (Dropout)           (None, 163, 64)           0         \n",
      "                                                                 \n",
      " flatten (Flatten)           (None, 10432)             0         \n",
      "                                                                 \n",
      " dense_1 (Dense)             (None, 7)                 73031     \n",
      "                                                                 \n",
      "=================================================================\n",
      "Total params: 94,087\n",
      "Trainable params: 94,087\n",
      "Non-trainable params: 0\n",
      "_________________________________________________________________\n"
     ]
    }
   ],
   "source": [
    "model_lstm = keras.Sequential(name = 'SER-LSTM')\n",
    "\n",
    "model_lstm.add(LSTM(units = 64,\n",
    "                    return_sequences = True,\n",
    "                    input_shape = (X_train.shape[1], 1)))\n",
    "\n",
    "model_lstm.add(Dense(units = 64, activation = 'softmax'))\n",
    "\n",
    "model_lstm.add(Dropout(0.2))\n",
    "\n",
    "model_lstm.add(Flatten())\n",
    "\n",
    "model_lstm.add(Dense(units = 7, activation = 'softmax'))\n",
    "\n",
    "model_lstm.summary()"
   ]
  },
  {
   "cell_type": "code",
   "execution_count": 13,
   "id": "8fc0c0c9",
   "metadata": {},
   "outputs": [],
   "source": [
    "model_lstm.compile(optimizer = 'adam' , \n",
    "              loss = 'categorical_crossentropy' , \n",
    "              metrics = ['categorical_accuracy'])"
   ]
  },
  {
   "cell_type": "code",
   "execution_count": 14,
   "id": "76e74dc3",
   "metadata": {},
   "outputs": [
    {
     "name": "stdout",
     "output_type": "stream",
     "text": [
      "Epoch 1/10\n",
      "105/105 [==============================] - 68s 525ms/step - loss: 1.6121 - categorical_accuracy: 0.3836 - val_loss: 1.1823 - val_categorical_accuracy: 0.6015\n",
      "Epoch 2/10\n",
      "105/105 [==============================] - 52s 496ms/step - loss: 0.8926 - categorical_accuracy: 0.6946 - val_loss: 0.6514 - val_categorical_accuracy: 0.7777\n",
      "Epoch 3/10\n",
      "105/105 [==============================] - 55s 523ms/step - loss: 0.5503 - categorical_accuracy: 0.8076 - val_loss: 0.4228 - val_categorical_accuracy: 0.8601\n",
      "Epoch 4/10\n",
      "105/105 [==============================] - 54s 512ms/step - loss: 0.3814 - categorical_accuracy: 0.8719 - val_loss: 0.3068 - val_categorical_accuracy: 0.9015\n",
      "Epoch 5/10\n",
      "105/105 [==============================] - 54s 517ms/step - loss: 0.2875 - categorical_accuracy: 0.9088 - val_loss: 0.2408 - val_categorical_accuracy: 0.9259\n",
      "Epoch 6/10\n",
      "105/105 [==============================] - 54s 511ms/step - loss: 0.2500 - categorical_accuracy: 0.9216 - val_loss: 0.2046 - val_categorical_accuracy: 0.9393\n",
      "Epoch 7/10\n",
      "105/105 [==============================] - 51s 483ms/step - loss: 0.2121 - categorical_accuracy: 0.9349 - val_loss: 0.1821 - val_categorical_accuracy: 0.9470\n",
      "Epoch 8/10\n",
      "105/105 [==============================] - 54s 511ms/step - loss: 0.1923 - categorical_accuracy: 0.9371 - val_loss: 0.1632 - val_categorical_accuracy: 0.9539\n",
      "Epoch 9/10\n",
      "105/105 [==============================] - 52s 497ms/step - loss: 0.1731 - categorical_accuracy: 0.9456 - val_loss: 0.1485 - val_categorical_accuracy: 0.9586\n",
      "Epoch 10/10\n",
      "105/105 [==============================] - 52s 500ms/step - loss: 0.1522 - categorical_accuracy: 0.9525 - val_loss: 0.1347 - val_categorical_accuracy: 0.9619\n"
     ]
    }
   ],
   "source": [
    "history_lstm = model_lstm.fit(X_train, \n",
    "                    y_train,\n",
    "                    batch_size = 128,\n",
    "                    epochs = 10,\n",
    "                    validation_data = (X_test, y_test))"
   ]
  },
  {
   "cell_type": "code",
   "execution_count": 15,
   "id": "93aae918",
   "metadata": {},
   "outputs": [
    {
     "name": "stdout",
     "output_type": "stream",
     "text": [
      "105/105 [==============================] - 7s 63ms/step - loss: 0.1347 - categorical_accuracy: 0.9619\n",
      "Test loss: 0.13468089699745178\n",
      "Test accuracy: 0.961904764175415\n"
     ]
    }
   ],
   "source": [
    "score_lstm = model_lstm.evaluate(X_test, y_test)\n",
    "\n",
    "print('Test loss:', score_lstm[0])\n",
    "\n",
    "print('Test accuracy:', score_lstm[1])"
   ]
  },
  {
   "cell_type": "code",
   "execution_count": 16,
   "id": "aff14e17",
   "metadata": {},
   "outputs": [
    {
     "data": {
      "image/png": "[encoded data removed]",
      "text/plain": [
       "<Figure size 600x600 with 1 Axes>"
      ]
     },
     "metadata": {},
     "output_type": "display_data"
    }
   ],
   "source": [
    "plt.figure(figsize = (6, 6))\n",
    "plt.title('LSTM accuracy')\n",
    "\n",
    "plt.plot(history_lstm.history['categorical_accuracy'])\n",
    "plt.plot(history_lstm.history['val_categorical_accuracy'])\n",
    "\n",
    "plt.ylabel('Accuracy')\n",
    "plt.xlabel('Epoch')\n",
    "plt.legend(['Train', 'Validation'], loc = 'upper left')\n",
    "plt.show()"
   ]
  },
  {
   "cell_type": "markdown",
   "id": "fc2e318f",
   "metadata": {},
   "source": [
    "Predict on test data"
   ]
  },
  {
   "cell_type": "code",
   "execution_count": 17,
   "id": "719df439",
   "metadata": {},
   "outputs": [
    {
     "name": "stdout",
     "output_type": "stream",
     "text": [
      "105/105 [==============================] - 9s 60ms/step\n"
     ]
    }
   ],
   "source": [
    "pred_lstm = model_lstm.predict(X_test)\n",
    "\n",
    "y_pred_lstm = onehot.inverse_transform(pred_lstm)\n",
    "\n",
    "y_test_lstm = onehot.inverse_transform(y_test)"
   ]
  },
  {
   "cell_type": "code",
   "execution_count": 18,
   "id": "f38a8691",
   "metadata": {},
   "outputs": [
    {
     "data": {
      "text/html": [
       "<div>\n",
       "<style scoped>\n",
       "    .dataframe tbody tr th:only-of-type {\n",
       "        vertical-align: middle;\n",
       "    }\n",
       "\n",
       "    .dataframe tbody tr th {\n",
       "        vertical-align: top;\n",
       "    }\n",
       "\n",
       "    .dataframe thead th {\n",
       "        text-align: right;\n",
       "    }\n",
       "</style>\n",
       "<table border=\"1\" class=\"dataframe\">\n",
       "  <thead>\n",
       "    <tr style=\"text-align: right;\">\n",
       "      <th></th>\n",
       "      <th>Predicted</th>\n",
       "      <th>Actual</th>\n",
       "    </tr>\n",
       "  </thead>\n",
       "  <tbody>\n",
       "    <tr>\n",
       "      <th>0</th>\n",
       "      <td>Fear</td>\n",
       "      <td>Fear</td>\n",
       "    </tr>\n",
       "    <tr>\n",
       "      <th>1</th>\n",
       "      <td>Fear</td>\n",
       "      <td>Fear</td>\n",
       "    </tr>\n",
       "    <tr>\n",
       "      <th>2</th>\n",
       "      <td>Happy</td>\n",
       "      <td>Happy</td>\n",
       "    </tr>\n",
       "    <tr>\n",
       "      <th>3</th>\n",
       "      <td>Sad</td>\n",
       "      <td>Sad</td>\n",
       "    </tr>\n",
       "    <tr>\n",
       "      <th>4</th>\n",
       "      <td>Neutral</td>\n",
       "      <td>Neutral</td>\n",
       "    </tr>\n",
       "    <tr>\n",
       "      <th>5</th>\n",
       "      <td>Fear</td>\n",
       "      <td>Fear</td>\n",
       "    </tr>\n",
       "    <tr>\n",
       "      <th>6</th>\n",
       "      <td>Surprise</td>\n",
       "      <td>Surprise</td>\n",
       "    </tr>\n",
       "    <tr>\n",
       "      <th>7</th>\n",
       "      <td>Sad</td>\n",
       "      <td>Sad</td>\n",
       "    </tr>\n",
       "    <tr>\n",
       "      <th>8</th>\n",
       "      <td>Surprise</td>\n",
       "      <td>Surprise</td>\n",
       "    </tr>\n",
       "    <tr>\n",
       "      <th>9</th>\n",
       "      <td>Sad</td>\n",
       "      <td>Sad</td>\n",
       "    </tr>\n",
       "  </tbody>\n",
       "</table>\n",
       "</div>"
      ],
      "text/plain": [
       "  Predicted    Actual\n",
       "0      Fear      Fear\n",
       "1      Fear      Fear\n",
       "2     Happy     Happy\n",
       "3       Sad       Sad\n",
       "4   Neutral   Neutral\n",
       "5      Fear      Fear\n",
       "6  Surprise  Surprise\n",
       "7       Sad       Sad\n",
       "8  Surprise  Surprise\n",
       "9       Sad       Sad"
      ]
     },
     "execution_count": 18,
     "metadata": {},
     "output_type": "execute_result"
    }
   ],
   "source": [
    "df_lstm = pd.DataFrame(columns = ['Predicted', 'Actual'])\n",
    "\n",
    "df_lstm['Predicted'] = y_pred_lstm.flatten()\n",
    "\n",
    "df_lstm['Actual'] = y_test_lstm.flatten()\n",
    "\n",
    "df_lstm.head(10)"
   ]
  },
  {
   "cell_type": "code",
   "execution_count": 19,
   "id": "23ae91f2",
   "metadata": {},
   "outputs": [
    {
     "data": {
      "image/png": "[encoded data removed]",
      "text/plain": [
       "<Figure size 1000x800 with 2 Axes>"
      ]
     },
     "metadata": {},
     "output_type": "display_data"
    }
   ],
   "source": [
    "confusion_matrix_lstm = confusion_matrix(y_test_lstm, y_pred_lstm)\n",
    "\n",
    "plt.figure(figsize = (10, 8))\n",
    "\n",
    "confusion_matrix_lstm = pd.DataFrame(confusion_matrix_lstm, \n",
    "                                    index = [x for x in onehot.categories_], \n",
    "                                    columns = [c for c in onehot.categories_])\n",
    "\n",
    "sns.heatmap(confusion_matrix_lstm, \n",
    "            annot = True)\n",
    "\n",
    "plt.title('LSTM Confusion Matrix')\n",
    "\n",
    "plt.xlabel('Predicted')\n",
    "\n",
    "plt.ylabel('Actual')\n",
    "\n",
    "plt.show()"
   ]
  },
  {
   "cell_type": "code",
   "execution_count": 20,
   "id": "8e35cfc4",
   "metadata": {},
   "outputs": [
    {
     "name": "stdout",
     "output_type": "stream",
     "text": [
      "              precision    recall  f1-score   support\n",
      "\n",
      "       Angry       0.99      0.98      0.98       486\n",
      "     Disgust       0.92      0.95      0.94       473\n",
      "        Fear       0.99      0.99      0.99       483\n",
      "       Happy       0.92      0.96      0.94       482\n",
      "     Neutral       0.99      0.97      0.98       488\n",
      "         Sad       0.96      0.99      0.98       479\n",
      "    Surprise       0.97      0.88      0.92       469\n",
      "\n",
      "    accuracy                           0.96      3360\n",
      "   macro avg       0.96      0.96      0.96      3360\n",
      "weighted avg       0.96      0.96      0.96      3360\n",
      "\n"
     ]
    }
   ],
   "source": [
    "print(classification_report(y_test_lstm, y_pred_lstm))"
   ]
  },
  {
   "cell_type": "code",
   "execution_count": 21,
   "id": "e649b48b",
   "metadata": {},
   "outputs": [],
   "source": [
    "tf.keras.models.save_model(model_lstm, 'model_lstm.hdf5')"
   ]
  },
  {
   "cell_type": "code",
   "execution_count": null,
   "id": "02df93e1",
   "metadata": {},
   "outputs": [],
   "source": []
  }
 ],
 "metadata": {
  "kernelspec": {
   "display_name": "Python 3 (ipykernel)",
   "language": "python",
   "name": "python3"
  },
  "language_info": {
   "codemirror_mode": {
    "name": "ipython",
    "version": 3
   },
   "file_extension": ".py",
   "mimetype": "text/x-python",
   "name": "python",
   "nbconvert_exporter": "python",
   "pygments_lexer": "ipython3",
   "version": "3.9.13"
  }
 },
 "nbformat": 4,
 "nbformat_minor": 5
}
