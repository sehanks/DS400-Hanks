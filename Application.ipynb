{
 "cells": [
  {
   "cell_type": "markdown",
   "id": "5bf17843",
   "metadata": {},
   "source": [
    "# StreamLit Application"
   ]
  },
  {
   "cell_type": "markdown",
   "id": "02ec8963",
   "metadata": {},
   "source": [
    "Import necessary libraries"
   ]
  },
  {
   "cell_type": "code",
   "execution_count": 3,
   "id": "5666d722",
   "metadata": {},
   "outputs": [],
   "source": [
    "import os\n",
    "import numpy as np\n",
    "import pandas as pd\n",
    "import matplotlib.pyplot as plt\n",
    "import seaborn as sns\n",
    "from datetime import datetime\n",
    "import cv2\n",
    "\n",
    "import IPython\n",
    "import librosa \n",
    "import librosa.display\n",
    "from IPython.display import Audio # to play the audio files\n",
    "plt.style.use('seaborn-white')\n",
    "from python_speech_features import mfcc\n",
    "\n",
    "from sklearn.preprocessing import StandardScaler, OneHotEncoder\n",
    "from sklearn.metrics import confusion_matrix, classification_report\n",
    "from sklearn.model_selection import train_test_split\n",
    "\n",
    "from os.path import dirname, join as pjoin\n",
    "from scipy.io import wavfile\n",
    "import scipy.io\n",
    "\n",
    "from tensorflow.keras.models import load_model\n",
    "from keras.layers.normalization import layer_normalization\n",
    "from tensorflow.keras.models import Sequential\n",
    "import tensorflow as tf\n",
    "from keras.models import Sequential\n",
    "from keras.layers import Dense, Conv1D, MaxPooling1D, Flatten, Dropout, BatchNormalization\n",
    "from keras.utils import np_utils, to_categorical\n",
    "\n",
    "from sklearn.preprocessing import StandardScaler, OneHotEncoder\n",
    "from sklearn.metrics import confusion_matrix, classification_report\n",
    "from sklearn.model_selection import train_test_split\n",
    "\n",
    "import streamlit as st\n",
    "import streamlit.components.v1 as components\n",
    "from PIL import Image\n",
    "#from melspec import plot_colored_polar, plot_melspec"
   ]
  },
  {
   "cell_type": "markdown",
   "id": "546e11f0",
   "metadata": {},
   "source": [
    "Load Model"
   ]
  },
  {
   "cell_type": "code",
   "execution_count": 4,
   "id": "952beb49",
   "metadata": {},
   "outputs": [],
   "source": [
    "model = load_model('model_cnn.hdf5')"
   ]
  },
  {
   "cell_type": "code",
   "execution_count": null,
   "id": "ef3803da",
   "metadata": {},
   "outputs": [],
   "source": []
  }
 ],
 "metadata": {
  "kernelspec": {
   "display_name": "Python 3 (ipykernel)",
   "language": "python",
   "name": "python3"
  },
  "language_info": {
   "codemirror_mode": {
    "name": "ipython",
    "version": 3
   },
   "file_extension": ".py",
   "mimetype": "text/x-python",
   "name": "python",
   "nbconvert_exporter": "python",
   "pygments_lexer": "ipython3",
   "version": "3.9.13"
  }
 },
 "nbformat": 4,
 "nbformat_minor": 5
}
